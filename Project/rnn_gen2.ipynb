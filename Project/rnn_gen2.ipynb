{
 "cells": [
  {
   "cell_type": "markdown",
   "metadata": {},
   "source": [
    "# Author: Samuel Hickey\n",
    "\n",
    "### Word-level (notes and chords treated as singular words) Music Generating RNN"
   ]
  },
  {
   "cell_type": "markdown",
   "metadata": {},
   "source": [
    "## Imports"
   ]
  },
  {
   "cell_type": "code",
   "execution_count": 1,
   "metadata": {},
   "outputs": [],
   "source": [
    "import collections\n",
    "import glob\n",
    "import keras\n",
    "import numpy as np\n",
    "import pathlib\n",
    "import pandas as pd\n",
    "import pretty_midi\n",
    "import seaborn as sns\n",
    "import tensorflow as tf\n",
    "import warnings\n",
    "\n",
    "from numba import jit\n",
    "from keras.layers import (BatchNormalization, Bidirectional, Embedding, Dense, Dropout, LSTM)\n",
    "from keras.utils import timeseries_dataset_from_array\n",
    "from keras.preprocessing.text import Tokenizer\n",
    "from utilities.DatasetUtils import (midi_to_notes)\n",
    "\n",
    "warnings.filterwarnings(\"ignore\")\n",
    "\n",
    "# Sampling rate for audio playback\n",
    "_SAMPLING_RATE = 16000\n",
    "\n",
    "SEQ_LEN = 25"
   ]
  },
  {
   "cell_type": "code",
   "execution_count": 2,
   "metadata": {},
   "outputs": [
    {
     "name": "stdout",
     "output_type": "stream",
     "text": [
      "Number of files: 1282\n"
     ]
    }
   ],
   "source": [
    "data_dir = pathlib.Path('data/maestro-v2.0.0')\n",
    "filenames = glob.glob(str(data_dir/'*/*.mid*'))\n",
    "print('Number of files:', len(filenames))"
   ]
  },
  {
   "cell_type": "markdown",
   "metadata": {},
   "source": [
    "## Extract the Notes"
   ]
  },
  {
   "cell_type": "code",
   "execution_count": 3,
   "metadata": {},
   "outputs": [],
   "source": [
    "def midi_to_notes(midi_file: str) -> pd.DataFrame:\n",
    "\tpm = pretty_midi.PrettyMIDI(midi_file)\n",
    "\tinstrument = pm.instruments[0]\n",
    "\tnotes = collections.defaultdict(list)\n",
    "\n",
    "\t# Sort the notes by start time\n",
    "\tsorted_notes = sorted(instrument.notes, key=lambda note: note.start)\n",
    "\t\n",
    "\tnotes['pitch'].append('START')\n",
    "\tnotes['start'].append(0)\n",
    "\tfor note in sorted_notes:\n",
    "\t\tnotes['pitch'].append(pretty_midi.note_number_to_name(note.pitch))\n",
    "\t\tnotes['start'].append(round(note.start, 3))\n",
    "\tnotes['pitch'].append('END')\n",
    "\tnotes['start'].append(round(note.start, 2) + 3)\n",
    "\n",
    "\tresult = pd.DataFrame({name: np.array(value) for name, value in notes.items()})\t\n",
    "\tresult = result.groupby('start').agg({'pitch': sorted}).reset_index()\n",
    "\tresult.pitch = result.pitch.str.join(',')\n",
    "\treturn result"
   ]
  },
  {
   "cell_type": "markdown",
   "metadata": {},
   "source": [
    "## Preprocessing"
   ]
  },
  {
   "cell_type": "code",
   "execution_count": 4,
   "metadata": {},
   "outputs": [],
   "source": [
    "num_files = 50  # len(filenames)\n",
    "all_notes, vocab = [], []\n",
    "for f in filenames[:num_files]:\n",
    "    df = midi_to_notes(f)\n",
    "    all_notes.append(df)"
   ]
  },
  {
   "cell_type": "code",
   "execution_count": 5,
   "metadata": {},
   "outputs": [],
   "source": [
    "# vocab = np.unique(pd.concat(all_notes).pitch.to_numpy())\n",
    "# ids_from_chars = {v:k for k, v in enumerate(vocab)}\n",
    "# chars_from_ids = {k:v for k, v in enumerate(vocab)}\n",
    "# np.save(\n",
    "#     pathlib.Path('data/preprocessed/vocab_ids_chars.npy'),\n",
    "#     [vocab, ids_from_chars, chars_from_ids],\n",
    "#     allow_pickle=True\n",
    "# )\n",
    "\n",
    "# all_notes = np.array([padded_song(song) for song in all_notes])\n",
    "# np.save(\n",
    "#     pathlib.Path('data/preprocessed/test.npy'),\n",
    "#     all_notes,\n",
    "#     allow_pickle=True\n",
    "# )\n",
    "\n",
    "# all_notes = np.load(pathlib.Path('data/preprocessed/test.npy'), allow_pickle=True)\n",
    "vocab, ids_from_chars, chars_from_ids = np.load(pathlib.Path('data/preprocessed/vocab_ids_chars.npy'), allow_pickle=True)\n",
    "def split_input_target(seq):\n",
    "\tinputs, targets = seq[:, :-1], seq[:, -1]\n",
    "\treturn inputs, keras.layers.CategoryEncoding(num_tokens=len(vocab)+1, output_mode=\"one_hot\")(targets)\n",
    "all_notes = pd.concat(all_notes).pitch.map(lambda note: ids_from_chars[note]).reset_index().pitch\n",
    "dataset = timeseries_dataset_from_array(all_notes, None, SEQ_LEN, batch_size=64).map(split_input_target)"
   ]
  },
  {
   "cell_type": "code",
   "execution_count": 7,
   "metadata": {},
   "outputs": [],
   "source": [
    "# tokenizer = Tokenizer(filters='!\"$%&()*+,-./:;<=>?@[\\\\]^_`{|}~\\t\\n')\n",
    "# tokenizer.fit_on_texts(pd.concat(all_notes).pitch.to_numpy().astype(str))\n",
    "# sequences = np.array([tokenizer.texts_to_sequences(i.pitch.to_numpy().astype(str)) for i in all_notes])\n",
    "# vocab_size = len(tokenizer.word_index) + 1\n",
    "\n",
    "# THIS CELL IS FOR CHARACTER LEVEL"
   ]
  },
  {
   "cell_type": "code",
   "execution_count": 7,
   "metadata": {},
   "outputs": [],
   "source": [
    "model = keras.models.Sequential([\n",
    "    Embedding(len(vocab)+1, 128, input_length=SEQ_LEN),\n",
    "    Bidirectional(LSTM(128, return_sequences=True)),\n",
    "    Dropout(.2),\n",
    "    Bidirectional(LSTM(128)),\n",
    "    Dropout(.2),\n",
    "    Dense(128, activation='relu'),\n",
    "    Dense(len(vocab)+1, activation='softmax')\n",
    "])\n",
    "callbacks = [\n",
    "    keras.callbacks.ModelCheckpoint(\n",
    "        filepath='./training_checkpoints/ckpt_{epoch}',\n",
    "        save_weights_only=True),\n",
    "    keras.callbacks.EarlyStopping(\n",
    "        monitor='loss',\n",
    "        patience=5,\n",
    "        verbose=1,\n",
    "        restore_best_weights=True),\n",
    "]\n",
    "optimizer = tf.keras.optimizers.Adam(learning_rate=0.001, clipvalue=.5)\n",
    "\n",
    "model.compile(optimizer=optimizer, loss='categorical_crossentropy')"
   ]
  },
  {
   "cell_type": "code",
   "execution_count": null,
   "metadata": {},
   "outputs": [],
   "source": [
    "history = model.fit(dataset, epochs=200, callbacks=callbacks)"
   ]
  },
  {
   "cell_type": "code",
   "execution_count": null,
   "metadata": {},
   "outputs": [],
   "source": [
    "model.save(pathlib.Path('models/word_based_dense256_batch64'))"
   ]
  },
  {
   "cell_type": "code",
   "execution_count": 8,
   "metadata": {},
   "outputs": [],
   "source": [
    "model = keras.models.load_model('models/word_based', custom_objects={'optimizer':optimizer})"
   ]
  },
  {
   "cell_type": "code",
   "execution_count": 51,
   "metadata": {},
   "outputs": [],
   "source": [
    "# Grab the index of the output, y, by bringing it to numpy wrapped in a list, and taking index(1.0)\n",
    "# Try adding prefetch to see if that speeds up training without using too much memory"
   ]
  },
  {
   "cell_type": "code",
   "execution_count": 9,
   "metadata": {},
   "outputs": [],
   "source": [
    "# INPUTS FOR PREDICTION\n",
    "tmp = model(list(timeseries_dataset_from_array(all_notes[:SEQ_LEN*3].to_numpy(), targets=None, sequence_length=SEQ_LEN, batch_size=32))[0]).numpy()"
   ]
  },
  {
   "cell_type": "code",
   "execution_count": 42,
   "metadata": {},
   "outputs": [
    {
     "data": {
      "text/plain": [
       "(32, 11619)"
      ]
     },
     "execution_count": 42,
     "metadata": {},
     "output_type": "execute_result"
    }
   ],
   "source": [
    "tmp.shape"
   ]
  },
  {
   "cell_type": "code",
   "execution_count": 38,
   "metadata": {},
   "outputs": [
    {
     "data": {
      "text/html": [
       "<div>\n",
       "<style scoped>\n",
       "    .dataframe tbody tr th:only-of-type {\n",
       "        vertical-align: middle;\n",
       "    }\n",
       "\n",
       "    .dataframe tbody tr th {\n",
       "        vertical-align: top;\n",
       "    }\n",
       "\n",
       "    .dataframe thead th {\n",
       "        text-align: right;\n",
       "    }\n",
       "</style>\n",
       "<table border=\"1\" class=\"dataframe\">\n",
       "  <thead>\n",
       "    <tr style=\"text-align: right;\">\n",
       "      <th></th>\n",
       "      <th>pitch</th>\n",
       "      <th>start</th>\n",
       "      <th>end</th>\n",
       "      <th>duration</th>\n",
       "      <th>step</th>\n",
       "    </tr>\n",
       "  </thead>\n",
       "  <tbody>\n",
       "    <tr>\n",
       "      <th>0</th>\n",
       "      <td>A#3</td>\n",
       "      <td>0.95</td>\n",
       "      <td>1.05</td>\n",
       "      <td>0.1</td>\n",
       "      <td>0.2</td>\n",
       "    </tr>\n",
       "    <tr>\n",
       "      <th>0</th>\n",
       "      <td>A#6</td>\n",
       "      <td>0.95</td>\n",
       "      <td>1.05</td>\n",
       "      <td>0.1</td>\n",
       "      <td>0.2</td>\n",
       "    </tr>\n",
       "    <tr>\n",
       "      <th>0</th>\n",
       "      <td>F3</td>\n",
       "      <td>0.95</td>\n",
       "      <td>1.05</td>\n",
       "      <td>0.1</td>\n",
       "      <td>0.2</td>\n",
       "    </tr>\n",
       "    <tr>\n",
       "      <th>1</th>\n",
       "      <td>C5</td>\n",
       "      <td>1.15</td>\n",
       "      <td>1.25</td>\n",
       "      <td>0.1</td>\n",
       "      <td>0.2</td>\n",
       "    </tr>\n",
       "    <tr>\n",
       "      <th>1</th>\n",
       "      <td>F#5</td>\n",
       "      <td>1.15</td>\n",
       "      <td>1.25</td>\n",
       "      <td>0.1</td>\n",
       "      <td>0.2</td>\n",
       "    </tr>\n",
       "    <tr>\n",
       "      <th>...</th>\n",
       "      <td>...</td>\n",
       "      <td>...</td>\n",
       "      <td>...</td>\n",
       "      <td>...</td>\n",
       "      <td>...</td>\n",
       "    </tr>\n",
       "    <tr>\n",
       "      <th>30</th>\n",
       "      <td>G#5</td>\n",
       "      <td>6.95</td>\n",
       "      <td>7.05</td>\n",
       "      <td>0.1</td>\n",
       "      <td>0.2</td>\n",
       "    </tr>\n",
       "    <tr>\n",
       "      <th>31</th>\n",
       "      <td>A#1</td>\n",
       "      <td>7.15</td>\n",
       "      <td>7.25</td>\n",
       "      <td>0.1</td>\n",
       "      <td>0.2</td>\n",
       "    </tr>\n",
       "    <tr>\n",
       "      <th>31</th>\n",
       "      <td>A#2</td>\n",
       "      <td>7.15</td>\n",
       "      <td>7.25</td>\n",
       "      <td>0.1</td>\n",
       "      <td>0.2</td>\n",
       "    </tr>\n",
       "    <tr>\n",
       "      <th>31</th>\n",
       "      <td>D6</td>\n",
       "      <td>7.15</td>\n",
       "      <td>7.25</td>\n",
       "      <td>0.1</td>\n",
       "      <td>0.2</td>\n",
       "    </tr>\n",
       "    <tr>\n",
       "      <th>31</th>\n",
       "      <td>D7</td>\n",
       "      <td>7.15</td>\n",
       "      <td>7.25</td>\n",
       "      <td>0.1</td>\n",
       "      <td>0.2</td>\n",
       "    </tr>\n",
       "  </tbody>\n",
       "</table>\n",
       "<p>96 rows × 5 columns</p>\n",
       "</div>"
      ],
      "text/plain": [
       "   pitch  start   end  duration  step\n",
       "0    A#3   0.95  1.05       0.1   0.2\n",
       "0    A#6   0.95  1.05       0.1   0.2\n",
       "0     F3   0.95  1.05       0.1   0.2\n",
       "1     C5   1.15  1.25       0.1   0.2\n",
       "1    F#5   1.15  1.25       0.1   0.2\n",
       "..   ...    ...   ...       ...   ...\n",
       "30   G#5   6.95  7.05       0.1   0.2\n",
       "31   A#1   7.15  7.25       0.1   0.2\n",
       "31   A#2   7.15  7.25       0.1   0.2\n",
       "31    D6   7.15  7.25       0.1   0.2\n",
       "31    D7   7.15  7.25       0.1   0.2\n",
       "\n",
       "[96 rows x 5 columns]"
      ]
     },
     "execution_count": 38,
     "metadata": {},
     "output_type": "execute_result"
    }
   ],
   "source": [
    "notes = []\n",
    "start = []\n",
    "j = 0.75\n",
    "for i in range(len(tmp)):\n",
    "    temp = .2\n",
    "    j += temp\n",
    "    notes.append((chars_from_ids[list(tmp[i]).index(np.max(tmp[i]))].split(','), j, j+.1, .1, temp))\n",
    "notes_df = pd.DataFrame(notes, columns=['pitch', 'start', 'end', 'duration', 'step']).explode('pitch')\n",
    "notes_df"
   ]
  },
  {
   "cell_type": "code",
   "execution_count": 39,
   "metadata": {},
   "outputs": [],
   "source": [
    "def df_to_midi(\n",
    "        notes: pd.DataFrame,\n",
    "        out_file: str, \n",
    "        instrument_name: str,\n",
    "        velocity: int = 90,  # note loudness\n",
    ") -> pretty_midi.PrettyMIDI:\n",
    "    file = pretty_midi.PrettyMIDI()\n",
    "    instrument = pretty_midi.Instrument(\n",
    "        program=pretty_midi.instrument_name_to_program(\n",
    "        instrument_name))\n",
    "    for i, note in notes.iterrows():\n",
    "        note = pretty_midi.Note(\n",
    "            velocity=velocity,\n",
    "            pitch=int(pretty_midi.note_name_to_number(note['pitch'])),\n",
    "            start=note['start'],\n",
    "            end=note['end'],\n",
    "        )\n",
    "        instrument.notes.append(note)\n",
    "    file.instruments.append(instrument)\n",
    "    file.write(out_file)\n",
    "    return file"
   ]
  },
  {
   "cell_type": "code",
   "execution_count": 40,
   "metadata": {},
   "outputs": [
    {
     "data": {
      "text/plain": [
       "<pretty_midi.pretty_midi.PrettyMIDI at 0x1994d88ca00>"
      ]
     },
     "execution_count": 40,
     "metadata": {},
     "output_type": "execute_result"
    }
   ],
   "source": [
    "file = pretty_midi.PrettyMIDI(filenames[0])\n",
    "instrument_name = pretty_midi.program_to_instrument_name(file.instruments[0].program)\n",
    "df_to_midi(\n",
    "    notes_df,\n",
    "    'tmp.midi',\n",
    "    instrument_name\n",
    ")"
   ]
  },
  {
   "cell_type": "code",
   "execution_count": null,
   "metadata": {},
   "outputs": [],
   "source": []
  }
 ],
 "metadata": {
  "kernelspec": {
   "display_name": "Python 3.9.12 ('base')",
   "language": "python",
   "name": "python3"
  },
  "language_info": {
   "codemirror_mode": {
    "name": "ipython",
    "version": 3
   },
   "file_extension": ".py",
   "mimetype": "text/x-python",
   "name": "python",
   "nbconvert_exporter": "python",
   "pygments_lexer": "ipython3",
   "version": "3.9.12"
  },
  "orig_nbformat": 4,
  "vscode": {
   "interpreter": {
    "hash": "3247f7d4635bb288d9e06d3deacee818856115b2677ccfdf5a578edab993fe5f"
   }
  }
 },
 "nbformat": 4,
 "nbformat_minor": 2
}

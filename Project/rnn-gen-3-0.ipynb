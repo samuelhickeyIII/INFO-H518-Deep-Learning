{
 "cells": [
  {
   "attachments": {},
   "cell_type": "markdown",
   "metadata": {},
   "source": [
    "## Author: Samuel Hickey\n",
    "\n",
    "### Word-level (notes and chords treated as singular words) Music Generating RNN\n",
    "### Version 3.0: Next Word Prediction with context targets\n",
    "\n",
    "In version 1, we followed the Tensorflow tutorial from Magenta to attempt to generate Music using RNNs.\n",
    "\n",
    "In version 2, we will diverge from the approach of V1 and attempt to generate notes in a manner similar to generating sentences in NLP.\n",
    "We will train the model using next word prediction. Our vocabulary will consist of all notes and note combinations found in the Maestro v2 dataset (~12000 different combinations)\n",
    "\n",
    "Here in 3.0, we will...\n",
    "\n",
    "- remove one-hot encoding of the targets\n",
    "- instead of only providing the next note as a target use the next sequence.\n",
    "- refactor the model structure to a class\n",
    "- modify the generation process to match the new structure"
   ]
  },
  {
   "cell_type": "markdown",
   "metadata": {},
   "source": [
    "## Imports"
   ]
  },
  {
   "cell_type": "code",
   "execution_count": 1,
   "metadata": {},
   "outputs": [],
   "source": [
    "import collections\n",
    "import glob\n",
    "import keras\n",
    "import numpy as np\n",
    "import pathlib\n",
    "import pandas as pd\n",
    "import pretty_midi\n",
    "import seaborn as sns\n",
    "import tensorflow as tf\n",
    "gpu = tf.config.list_physical_devices('GPU')[0]\n",
    "tf.config.experimental.set_memory_growth(gpu, False)\n",
    "import warnings\n",
    "\n",
    "from numba import jit\n",
    "from keras.layers import (BatchNormalization, Bidirectional, CategoryEncoding, Embedding, Dense, Dropout, LSTM)\n",
    "from keras.utils import timeseries_dataset_from_array\n",
    "from keras.preprocessing.text import Tokenizer\n",
    "from utilities.DatasetUtils import (midi_to_notes, plot_piano_roll)\n",
    "\n",
    "warnings.filterwarnings(\"ignore\")\n",
    "\n",
    "SEQ_LEN = 256\n",
    "MODEL_PATH = 'models/V3.0/'"
   ]
  },
  {
   "cell_type": "markdown",
   "metadata": {},
   "source": [
    "### Select Dataset"
   ]
  },
  {
   "cell_type": "code",
   "execution_count": 2,
   "metadata": {},
   "outputs": [
    {
     "name": "stdout",
     "output_type": "stream",
     "text": [
      "Number of files: 1282\n"
     ]
    }
   ],
   "source": [
    "data_dir = pathlib.Path('data/maestro-v2.0.0')\n",
    "filenames = glob.glob(str(data_dir/'*/*.mid*'))\n",
    "print('Number of files:', len(filenames))"
   ]
  },
  {
   "cell_type": "markdown",
   "metadata": {},
   "source": [
    "### Extract the Notes\n",
    "\n",
    "For each song, we round the start times of each note to the nearest one-thousandth of a second and consider any notes with the same start time to be a chord i.e. a new term in our vocabulary. Each step contains at least one key and as many as seven keys."
   ]
  },
  {
   "cell_type": "code",
   "execution_count": 3,
   "metadata": {},
   "outputs": [],
   "source": [
    "def midi_to_notes(midi_file: str) -> pd.DataFrame:\n",
    "\tinstrument = pretty_midi.PrettyMIDI(midi_file).instruments[0]\n",
    "\tnotes = collections.defaultdict(list)\n",
    "\tnotes['pitch'].append('[START]')\n",
    "\tnotes['start'].append(0)\n",
    "\tfor note in sorted(instrument.notes, key=lambda note: note.start):\n",
    "\t\tnotes['pitch'].append(pretty_midi.note_number_to_name(note.pitch))\n",
    "\t\tnotes['start'].append(round(note.start, 3))\n",
    "\tnotes['pitch'].append('[END]')\n",
    "\tnotes['start'].append(round(note.start, 2) + 3)\n",
    "\n",
    "\tresult = pd.DataFrame({name: np.array(value) for name, value in notes.items()}) \\\n",
    "\t\t.groupby('start') \\\n",
    "\t\t.agg({'pitch': sorted}) \\\n",
    "\t\t.reset_index() \\\n",
    "\t\t.pitch.str.join(',') \\\n",
    "\t\t.to_frame()\n",
    "\treturn result\n",
    "\n",
    "# Load the files\n",
    "num_files = 25 # len(filenames)\n",
    "notes = []\n",
    "for f in np.random.choice(filenames, num_files):\n",
    "    df = midi_to_notes(f)\n",
    "    notes.append(df)\n",
    "notes = pd.concat(notes).pitch"
   ]
  },
  {
   "cell_type": "markdown",
   "metadata": {},
   "source": [
    "### Save Notes, Vocabulary, Character Indices"
   ]
  },
  {
   "cell_type": "code",
   "execution_count": 4,
   "metadata": {},
   "outputs": [],
   "source": [
    "# Create a vocabulary, id-lookup, and note-lookup\n",
    "vocab = np.unique(notes.to_numpy())\n",
    "ids_from_notes = {v:k for k, v in enumerate(vocab)}\n",
    "notes_from_ids = {k:v for k, v in enumerate(vocab)}\n",
    "# np.save(\n",
    "#     pathlib.Path('data/preprocessed/vocab_ids_notes.npy'),\n",
    "#     [vocab, ids_from_notes, notes_from_ids],\n",
    "#     allow_pickle=True\n",
    "# )\n",
    "# Integer encode the notes\n",
    "notes = notes.map(lambda note: ids_from_notes[note]) \\\n",
    "\t.reset_index() \\\n",
    "\t.pitch\n",
    "# np.save(\n",
    "#     pathlib.Path('data/preprocessed/notes.npy'),\n",
    "#     notes,\n",
    "#     allow_pickle=True\n",
    "# )"
   ]
  },
  {
   "attachments": {},
   "cell_type": "markdown",
   "metadata": {},
   "source": [
    "### Load Notes, Vocabulary, Note Indices\n",
    "\n",
    "The vocabulary and note indices were created using ALL of the available midi files in the Maestro V2 dataset."
   ]
  },
  {
   "cell_type": "code",
   "execution_count": 5,
   "metadata": {},
   "outputs": [],
   "source": [
    "# vocab, ids_from_chars, chars_from_ids = np.load(\n",
    "# \t'data/preprocessed/vocab_ids_notes.npy',\n",
    "# \tallow_pickle=True\n",
    "# )\n",
    "# notes = np.load('data/preprocessed/notes.npy', allow_pickle=True)"
   ]
  },
  {
   "cell_type": "markdown",
   "metadata": {},
   "source": [
    "### Create Dataset\n",
    "\n",
    "Here we are using time_series_dataset_from_array to create batches of sequences that have a length of SEQ_LEN. Next, we map each batch over the split_input_target function to create an input and a target of shape (batch_size, SEQ_LEN-1). \n",
    "\n",
    "It is important to our understanding that we realize time_series_dataset_from_array will take a sequence of events [x1, x2, ...,  x_n] and produce a tensor of sequences: \n",
    "\n",
    "[[x1, x2, ..., x_seq_len], \n",
    "<br>[x_seq_len, x_seq_len+1, ..., x_seq_len*2],\n",
    "<br>[  ...  ]\n",
    "<br>[x_n-seq_len, x_n+1-seq_len, ..., x_n]]\n",
    "\n",
    "Where [x_n-seq_len, x_n+1-seq_len, ..., x_n]] is the last sequence in the batch."
   ]
  },
  {
   "cell_type": "code",
   "execution_count": 6,
   "metadata": {},
   "outputs": [],
   "source": [
    "batch_size = 64\n",
    "# buffer_size = 10000\n",
    "# removed .shuffle(buffer_size) \\ after \".map(split) \\\"\n",
    "\n",
    "split = lambda seq: (seq[:, :-1], seq[:, 1:])\n",
    "def reshape(x, y):\n",
    "    x, y = tf.squeeze(x), tf.squeeze(y)\n",
    "    x.set_shape((batch_size, SEQ_LEN))\n",
    "    y.set_shape((batch_size, SEQ_LEN))\n",
    "    return x, y\n",
    "\n",
    "dataset = timeseries_dataset_from_array(\n",
    "    data=notes,\n",
    "    targets=None,\n",
    "    sequence_length=SEQ_LEN+1,\n",
    "    batch_size=1\n",
    ") \\\n",
    "    .map(split) \\\n",
    "    .batch(batch_size, drop_remainder=True) \\\n",
    "    .map(reshape) \\\n",
    "    .cache() \\\n",
    "    .prefetch(tf.data.AUTOTUNE)\n",
    "\n",
    "# tf.data.experimental.save(dataset, 'data/preprocessed/1282_notes')"
   ]
  },
  {
   "cell_type": "markdown",
   "metadata": {},
   "source": [
    "### Model Definition and Initialization"
   ]
  },
  {
   "cell_type": "code",
   "execution_count": 7,
   "metadata": {},
   "outputs": [],
   "source": [
    "vocab_size = len(vocab)\n",
    "embedding_dim = 256\n",
    "units = 256\n",
    "\n",
    "class MusicGenRnnV3(keras.Model):\n",
    "    def __init__(self, vocab_size, embedding_dim, units):\n",
    "        super().__init__(self)\n",
    "        self.embedding = Embedding(vocab_size, embedding_dim)\n",
    "        self.lstm = Bidirectional(LSTM(units//2, return_sequences=True, return_state=True))\n",
    "        self.out = Dense(vocab_size)\n",
    "    \n",
    "    def call(self, inputs, states=None, return_states=False, training=False):\n",
    "        x = inputs\n",
    "        x = self.embedding(x, training=training)\n",
    "        x, fwd_h, fwd_c, bkwd_h, bkwd_c = self.lstm(x, initial_state=states, training=training)\n",
    "        x = self.out(x, training=training)\n",
    "\n",
    "        if return_states:\n",
    "            return (x, [fwd_h, fwd_c, bkwd_h, bkwd_c])\n",
    "        else:\n",
    "            return x\n",
    "\n",
    "model = MusicGenRnnV3(vocab_size, embedding_dim, units)\n",
    "optimizer = tf.keras.optimizers.Adam(learning_rate=0.001, clipvalue=.5)\n",
    "loss = keras.losses.SparseCategoricalCrossentropy(from_logits=True)\n",
    "model.compile(optimizer=optimizer, loss=loss)"
   ]
  },
  {
   "cell_type": "markdown",
   "metadata": {},
   "source": [
    "### Training"
   ]
  },
  {
   "cell_type": "code",
   "execution_count": 8,
   "metadata": {},
   "outputs": [
    {
     "name": "stdout",
     "output_type": "stream",
     "text": [
      "Epoch 1/50\n",
      "1502/1502 [==============================] - 103s 66ms/step - loss: 1.8270\n",
      "Epoch 2/50\n",
      "1502/1502 [==============================] - 99s 66ms/step - loss: 0.2440\n",
      "Epoch 3/50\n",
      "1502/1502 [==============================] - 101s 67ms/step - loss: 0.1000\n",
      "Epoch 4/50\n",
      "1502/1502 [==============================] - 101s 67ms/step - loss: 0.0411\n",
      "Epoch 5/50\n",
      "1502/1502 [==============================] - 100s 66ms/step - loss: 0.0221\n",
      "Epoch 6/50\n",
      "1502/1502 [==============================] - 99s 66ms/step - loss: 0.0166\n",
      "Epoch 7/50\n",
      "1502/1502 [==============================] - 100s 66ms/step - loss: 0.0147\n",
      "Epoch 8/50\n",
      "1502/1502 [==============================] - 100s 66ms/step - loss: 0.0140\n",
      "Epoch 9/50\n",
      "1502/1502 [==============================] - 100s 67ms/step - loss: 0.0135\n",
      "Epoch 10/50\n",
      "1502/1502 [==============================] - 99s 66ms/step - loss: 0.0131\n",
      "Epoch 11/50\n",
      "1502/1502 [==============================] - 98s 65ms/step - loss: 0.0128\n",
      "Epoch 12/50\n",
      "1502/1502 [==============================] - 99s 66ms/step - loss: 0.0124\n",
      "Epoch 13/50\n",
      "1502/1502 [==============================] - 100s 67ms/step - loss: 0.0121\n",
      "Epoch 14/50\n",
      "1502/1502 [==============================] - 98s 65ms/step - loss: 0.0118\n",
      "Epoch 15/50\n",
      "1502/1502 [==============================] - 100s 67ms/step - loss: 0.0116\n",
      "Epoch 16/50\n",
      "1502/1502 [==============================] - 100s 67ms/step - loss: 0.0114\n",
      "Epoch 17/50\n",
      "1502/1502 [==============================] - 100s 66ms/step - loss: 0.0112\n",
      "Epoch 18/50\n",
      "1502/1502 [==============================] - 100s 66ms/step - loss: 0.0110\n",
      "Epoch 19/50\n",
      "1502/1502 [==============================] - 99s 66ms/step - loss: 0.0108\n",
      "Epoch 20/50\n",
      "1502/1502 [==============================] - 99s 66ms/step - loss: 0.0106\n",
      "Epoch 21/50\n",
      "1502/1502 [==============================] - 100s 66ms/step - loss: 0.0105\n",
      "Epoch 22/50\n",
      "1502/1502 [==============================] - 97s 64ms/step - loss: 0.0103\n",
      "Epoch 23/50\n",
      "1502/1502 [==============================] - 100s 67ms/step - loss: 0.0102\n",
      "Epoch 24/50\n",
      "1502/1502 [==============================] - 101s 67ms/step - loss: 0.0101\n",
      "Epoch 25/50\n",
      "1502/1502 [==============================] - 99s 66ms/step - loss: 0.0099\n",
      "Epoch 26/50\n",
      "1502/1502 [==============================] - 100s 66ms/step - loss: 0.0098\n",
      "Epoch 27/50\n",
      "1502/1502 [==============================] - 101s 67ms/step - loss: 0.0098\n",
      "Epoch 28/50\n",
      "1502/1502 [==============================] - 99s 66ms/step - loss: 0.0097\n",
      "Epoch 29/50\n",
      "1502/1502 [==============================] - 100s 67ms/step - loss: 0.0096\n",
      "Epoch 30/50\n",
      "1502/1502 [==============================] - 100s 67ms/step - loss: 0.0095\n",
      "Epoch 31/50\n",
      "1502/1502 [==============================] - 99s 66ms/step - loss: 0.0094\n",
      "Epoch 32/50\n",
      "1502/1502 [==============================] - 99s 66ms/step - loss: 0.0093\n",
      "Epoch 33/50\n",
      "1502/1502 [==============================] - 101s 67ms/step - loss: 0.0092\n",
      "Epoch 34/50\n",
      "1502/1502 [==============================] - 100s 67ms/step - loss: 0.0092\n",
      "Epoch 35/50\n",
      "1502/1502 [==============================] - 101s 67ms/step - loss: 0.0091\n",
      "Epoch 36/50\n",
      "1502/1502 [==============================] - 98s 66ms/step - loss: 0.0090\n",
      "Epoch 37/50\n",
      "1502/1502 [==============================] - 99s 66ms/step - loss: 0.0090\n",
      "Epoch 38/50\n",
      "1502/1502 [==============================] - 98s 66ms/step - loss: 0.0089\n",
      "Epoch 39/50\n",
      "1502/1502 [==============================] - 100s 67ms/step - loss: 0.0089\n",
      "Epoch 40/50\n",
      "1502/1502 [==============================] - 99s 66ms/step - loss: 0.0088\n",
      "Epoch 41/50\n",
      "1502/1502 [==============================] - 100s 66ms/step - loss: 0.0088\n",
      "Epoch 42/50\n",
      "1502/1502 [==============================] - 100s 66ms/step - loss: 0.0087\n",
      "Epoch 43/50\n",
      "1502/1502 [==============================] - 101s 67ms/step - loss: 0.0087\n",
      "Epoch 44/50\n",
      "1502/1502 [==============================] - 100s 66ms/step - loss: 0.0086\n",
      "Epoch 45/50\n",
      "1502/1502 [==============================] - 100s 67ms/step - loss: 0.0086\n",
      "Epoch 46/50\n",
      "1502/1502 [==============================] - 100s 67ms/step - loss: 0.0086\n",
      "Epoch 47/50\n",
      "1502/1502 [==============================] - 101s 67ms/step - loss: 0.0085\n",
      "Epoch 48/50\n",
      "1502/1502 [==============================] - 99s 66ms/step - loss: 0.0085\n",
      "Epoch 49/50\n",
      "1502/1502 [==============================] - 100s 67ms/step - loss: 0.0085\n",
      "Epoch 50/50\n",
      "1502/1502 [==============================] - 100s 67ms/step - loss: 0.0084\n"
     ]
    },
    {
     "name": "stderr",
     "output_type": "stream",
     "text": [
      "WARNING:absl:Found untraced functions such as lstm_cell_1_layer_call_fn, lstm_cell_1_layer_call_and_return_conditional_losses, lstm_cell_2_layer_call_fn, lstm_cell_2_layer_call_and_return_conditional_losses while saving (showing 4 of 4). These functions will not be directly callable after loading.\n"
     ]
    },
    {
     "name": "stdout",
     "output_type": "stream",
     "text": [
      "INFO:tensorflow:Assets written to: models\\V3.0\\generator\\seq_len_256\\model\\assets\n"
     ]
    },
    {
     "name": "stderr",
     "output_type": "stream",
     "text": [
      "INFO:tensorflow:Assets written to: models\\V3.0\\generator\\seq_len_256\\model\\assets\n"
     ]
    }
   ],
   "source": [
    "callbacks = [\n",
    "    keras.callbacks.ModelCheckpoint(\n",
    "        filepath=MODEL_PATH+f'generator/seq_len_{SEQ_LEN}/checkpoints/'+'ckpt_{epoch}',\n",
    "        save_weights_only=True),\n",
    "    keras.callbacks.EarlyStopping(\n",
    "        monitor='loss',\n",
    "        patience=5,\n",
    "        verbose=1,\n",
    "        restore_best_weights=True),\n",
    "]\n",
    "history = model.fit(dataset, epochs=50, callbacks=callbacks)\n",
    "model.save(pathlib.Path(MODEL_PATH+f'generator/seq_len_{SEQ_LEN}/model/'))"
   ]
  },
  {
   "cell_type": "markdown",
   "metadata": {},
   "source": [
    "# Generation"
   ]
  },
  {
   "attachments": {},
   "cell_type": "markdown",
   "metadata": {},
   "source": [
    "### Create OneStep Model"
   ]
  },
  {
   "cell_type": "code",
   "execution_count": 12,
   "metadata": {},
   "outputs": [
    {
     "name": "stderr",
     "output_type": "stream",
     "text": [
      "WARNING:absl:Found untraced functions such as lstm_cell_1_layer_call_fn, lstm_cell_1_layer_call_and_return_conditional_losses, lstm_cell_2_layer_call_fn, lstm_cell_2_layer_call_and_return_conditional_losses while saving (showing 4 of 4). These functions will not be directly callable after loading.\n"
     ]
    },
    {
     "name": "stdout",
     "output_type": "stream",
     "text": [
      "INFO:tensorflow:Assets written to: models\\V3.0\\step\\seq_len_256\\assets\n"
     ]
    },
    {
     "name": "stderr",
     "output_type": "stream",
     "text": [
      "INFO:tensorflow:Assets written to: models\\V3.0\\step\\seq_len_256\\assets\n"
     ]
    }
   ],
   "source": [
    "class OneStep(tf.keras.Model):\n",
    "  def __init__(self, model, vocabulary, temperature=0.1):\n",
    "    super().__init__(self)\n",
    "    self.temperature = temperature\n",
    "    self.model = model\n",
    "    self.ids_from_notes = tf.keras.layers.StringLookup(vocabulary=list(vocabulary), mask_token=None)\n",
    "    self.notes_from_ids = tf.keras.layers.StringLookup(vocabulary=list(vocabulary), mask_token=None, invert=True)\n",
    "    self.ids_from_notes.compile(run_eagerly=True)\n",
    "  @tf.function\n",
    "  def call(self, inputs, states=None):\n",
    "    # predicted_logits.shape = [1, SEQ_LEN, vocab_size]\n",
    "    input_ids = self.ids_from_notes(tf.expand_dims(inputs, axis=0))\n",
    "    predicted_logits, states = self.model(input_ids, states=states, return_states=True)\n",
    "    predicted_logits = predicted_logits[:, -1, :]\n",
    "    predicted_logits = predicted_logits / self.temperature\n",
    "\n",
    "    # Choose a random sample from top 5% of logits\n",
    "    predicted_ids = tf.random.categorical(predicted_logits, num_samples=1)\n",
    "    predicted_ids = tf.squeeze(predicted_ids, axis=-1)\n",
    "\n",
    "    prediction =self.notes_from_ids(predicted_ids)\n",
    "\n",
    "    # Return the int_id of note and model state.\n",
    "    return prediction, states\n",
    "\n",
    "# Declare, Initialize, and Save Step Model\n",
    "one_step_model = OneStep(model, vocab)\n",
    "one_step_model(\n",
    "  notes.map(lambda note: notes_from_ids[note]).to_numpy()[:SEQ_LEN]\n",
    ")\n",
    "one_step_model.save(pathlib.Path(f'models/V3.0/step/seq_len_{SEQ_LEN}'))"
   ]
  },
  {
   "attachments": {},
   "cell_type": "markdown",
   "metadata": {},
   "source": [
    "### Generate new notes"
   ]
  },
  {
   "cell_type": "code",
   "execution_count": 21,
   "metadata": {},
   "outputs": [
    {
     "name": "stdout",
     "output_type": "stream",
     "text": [
      "Input: ['C4', 'G5', 'E5', 'C4', 'D6', 'D5', 'G3', 'E3', 'E6', 'E5', 'G2', 'A2', 'G2', 'F5', 'F6', 'G5', 'D3', 'F3', 'B3', 'G5', 'B3', 'D5', 'D6', 'C6', 'F3', 'D3', 'B5', 'B4', 'G2', 'G2', 'C5', 'C6', 'E3', 'G5', 'G3', 'E5', 'C4', 'E5', 'G5', 'C4', 'G5', 'G4', 'G3', 'E3', 'G2', 'G4', 'G5', 'G2', 'G4', 'G5', 'D3', 'F3', 'F5', 'D5', 'B3', 'D5', 'F5', 'B3', 'A5', 'A4', 'F3', 'D3', 'B5', 'B4', 'G2', 'G2', 'C5', 'C6', 'E3', 'G3', 'E5,G5', 'C4', 'G5', 'E5', 'C4', 'D6', 'D5', 'G3', 'E3', 'E6', 'E5', 'G2', 'G2', 'G6', 'B5', 'G5', 'D3', 'F3', 'F6', 'F5', 'B3', 'B3', 'D6', 'D5', 'F3', 'D3', 'B5', 'B4', 'G2', 'C4', 'C5,C6,E5', 'E3', 'C3', 'D3', 'E4', 'E5', 'E3', 'E5', 'E4,E6', 'E3', 'E6', 'E4', 'E7', 'C#7', 'E3', 'E6', 'F3', 'E4', 'F6', 'C#4', 'E3', 'C#3', 'E5', 'E5', 'E4', 'D4', 'F3', 'D3', 'F5', 'F4', 'F4', 'F4', 'E4', 'F4', 'E4', 'F4', 'E4', 'F4', 'B3', 'B2', 'F3', 'F4', 'F5', 'F4', 'E4', 'F4', 'E4', 'F4', 'F4', 'E4', 'F5', 'F4', 'G#3', 'F4', 'F5,G#2', 'E3', 'E4', 'E5', 'E3', 'E5', 'E4', 'E6', 'E3', 'D6', 'E6', 'E4', 'E7', 'D7', 'E3', 'E6', 'D6', 'E4', 'E6', 'E5', 'C#4', 'E3', 'C#3', 'E5', 'E4', 'D4', 'F3', 'D3', 'F4', 'F5', 'E5', 'F4', 'E4', 'F4', 'E4', 'F4', 'E4', 'F4', 'E4', 'F4', 'E4', 'B3', 'B2', 'F5', 'F3', 'F4', 'C3', 'G4', 'F4', 'E4', 'E4', 'F4', 'F4', 'E4', 'F4', 'F5', 'F4', 'G#3', 'G#2', 'E4', 'E3', 'A#4', 'E5', 'E5', 'E4', 'E6', 'E4', 'E6', 'E4', 'E7', 'E6', 'E4', 'E6', 'E4', 'B4', 'E5', 'G#3', 'E4', 'E5', 'A3', 'C5', 'E4', 'E5', 'E4', 'B4', 'G#3', 'E5', 'E4', 'E5', 'C5', 'A3', 'E4', 'E5', 'E4', 'C#5', 'A#3', 'E5', 'E4', 'E5', 'D5', 'E4', 'B3'] \n",
      "\n",
      "Results ['B4,G5', 'C4', 'E3', 'E5', 'C4', 'F#3', 'D5', 'G3', 'E3', 'G#5', 'E5', 'G2', 'E5', 'G2', 'E5', 'B5,G#3', 'A#5,G6', 'D3', 'C#2,G#3', 'A#4,E3', 'G5', 'G2,G6', 'D5', 'D6', 'F#3,G3', 'F#2,G#4', 'F3,G#1', 'F6,G#6', 'D5,G5', 'C1,E4,G3', 'D#5,G5', 'B4,G5', 'G3', 'E3', 'G5', 'D#5,G5', 'E5', 'A#4,G5', 'E5', 'G5', 'D#5,G5', 'G5', 'G#5,G2', 'G3', 'F7', 'C1,E4,G3', 'G#5,G2', 'G5', 'G2', 'E5', 'G5', 'D3', 'F6,G#6', 'A7', 'D5,G5', 'B2,G6', 'D5', 'F5', 'B3', 'A5', 'C#3,G3', 'F#2,G#4', 'A#5,G6', 'G5', 'D#1,D#2', 'G2', 'D#5,G5', 'B4,G5', 'G3', 'E3', 'F#5,G5', 'E5,G5', 'C4', 'G#4', 'B3', 'C4', 'E6,G6', 'D#1,D#2', 'G3', 'E3', 'A#3,D#6', 'E5', 'G1,G6', 'E5', 'A2,C#5,G4', 'B5', 'G5', 'D3', 'C1,E4,G3', 'C#7,E6', 'D1,D4', 'B3', 'A#6,F3', 'F#6,F4', 'D5', 'C1,E4,G3', 'D3', 'D#5,G5', 'C4,G6', 'C1,E4,G3', 'C4', 'A2,C#5,G4', 'E3', 'C3', 'D3', 'A5', 'C#6,G5', 'E3', 'C#6,G5', 'A#7', 'E3', 'A5,G6', 'E4', 'A#7', 'D#5', 'C#3,G3', 'C#6,G5', 'F3', 'G#5', 'B3,F7,G#6', 'B4,G5', 'E3', 'D4', 'E5', 'E5', 'B5,G#3', 'F#3', 'F3', 'D3', 'F4', 'F4', 'F4', 'G#3,G#6', 'D7', 'C3', 'E4', 'G#3,G#6', 'E4', 'G#3,G#6', 'F#4,G#3', 'C#7,E6', 'F3', 'F4', 'F5,G5', 'F4', 'E3', 'F4', 'A5', 'F4', 'F4', 'A5', 'F5', 'A3,G4', 'D3,D4,F3', 'F5', 'A3,G4', 'E3', 'C#3,G3', 'E5', 'C#3,G3', 'E5', 'A#2', 'E6', 'E3', 'F#3', 'D6', 'C#2,G#3', 'C#3,F#2,F#4', 'E7,G7', 'E3', 'A#3,D#6', 'D6', 'A3,G4', 'F#5', 'C#6,G5', 'E3', 'E3', 'E3', 'E5', 'E4', 'A4', 'F3', 'D3', 'F4', 'A4,D3', 'D7', 'G#3,G#6', 'E4', 'G#3,G#6', 'E4', 'G#3,G#6', 'E4', 'G#3,G#6', 'E4', 'G#3,G#6', 'E4', 'G2,G6', 'C5,D4', 'F5', 'F3', 'G#3,G#6', 'C3', 'A#5,G6', 'F4', 'A3,G4', 'A5', 'F4', 'F4', 'A5', 'A5,G6', 'F5,G5', 'F4', 'D1,D4', 'A5,G6', 'C#2,G#3', 'E3', 'D#5,G5', 'C#6,G5', 'C#6,G5', 'E4', 'D#3,F#2', 'G#5', 'E6', 'C#6,G5', 'C#6,F#3', 'A5,G6', 'A3,G4', 'A2,A4,F4', 'E4,G#5', 'B3', 'E5', 'G#3', 'E4', 'E5', 'B4,G5', 'C5', 'E3', 'E5', 'G#2,G#6', 'B4', 'A4', 'E5', 'G#2,G#6', 'E5', 'C5', 'A3', 'E4', 'E5', 'G#2,G#6', 'C#5', 'A#3', 'E5', 'C#6,G5', 'C#6,G5', 'D#2,G#4', 'E4']\n"
     ]
    }
   ],
   "source": [
    "# Get indices for a random input sequence from notes\n",
    "start = np.random.choice([i for i in range(len(notes)-SEQ_LEN-1)])\n",
    "end = start + SEQ_LEN\n",
    "\n",
    "# Set initial states, sequence, and results\n",
    "states = None\n",
    "next_note = notes \\\n",
    "  .map(lambda note: notes_from_ids[note]) \\\n",
    "  .to_numpy()[start:end]\n",
    "results = list(next_note)\n",
    "\n",
    "steps = 256\n",
    "for n in range(steps):\n",
    "  pred_note, states = one_step_model(next_note, states=states)\n",
    "  pred_note = pred_note.numpy()[0].decode('utf-8') \n",
    "  next_note = np.append(next_note[1::], pred_note)\n",
    "  results.append(pred_note)\n",
    "print(\n",
    "  'Input:', results[:SEQ_LEN], \n",
    "  '\\n\\nResults', results[SEQ_LEN:]\n",
    ")"
   ]
  },
  {
   "attachments": {},
   "cell_type": "markdown",
   "metadata": {},
   "source": [
    "### Cosine Similarity"
   ]
  },
  {
   "cell_type": "code",
   "execution_count": 22,
   "metadata": {},
   "outputs": [
    {
     "data": {
      "text/plain": [
       "0.9117033782331208"
      ]
     },
     "execution_count": 22,
     "metadata": {},
     "output_type": "execute_result"
    }
   ],
   "source": [
    "orig = np.vectorize(lambda x: ids_from_notes[x])(results[:SEQ_LEN])\n",
    "gen = np.vectorize(lambda x: ids_from_notes[x])(results[SEQ_LEN:SEQ_LEN*2])\n",
    "\n",
    "cos_sim = np.dot(gen, orig) \\\n",
    "    / (np.linalg.norm(gen) * np.linalg.norm(orig))\n",
    "cos_sim"
   ]
  },
  {
   "cell_type": "markdown",
   "metadata": {},
   "source": [
    "### Extract Input & Target Sequence to DataFrame"
   ]
  },
  {
   "cell_type": "code",
   "execution_count": 23,
   "metadata": {},
   "outputs": [],
   "source": [
    "def notes_to_df(input: list) -> pd.DataFrame:\n",
    "    '''\n",
    "        Params:\n",
    "            input: list[str] - contains a sequence of notes, chords\n",
    "                should be a single string with each key separated by a comma\n",
    "        Returns:\n",
    "            pd.DataFrame(cols=['pitch', 'start', 'end', 'duration', 'step'])\n",
    "    '''\n",
    "    notes = pd.DataFrame(columns=['pitch', 'start', 'end', 'duration', 'step'])\n",
    "    temp, j = (0.2, 0.5)\n",
    "    for i in range(len(input)):\n",
    "        if input[i] != '[END]':\n",
    "            j+= temp\n",
    "            notes.loc[i] = (input[i].split(','), j, j+.1, .1, temp)\n",
    "        else:\n",
    "            break\n",
    "    return notes.explode('pitch')\n",
    "    \n",
    "orig_df = notes_to_df(results[1:SEQ_LEN])\n",
    "notes_df = notes_to_df(results[SEQ_LEN:])"
   ]
  },
  {
   "cell_type": "markdown",
   "metadata": {},
   "source": [
    "### Extract Instrument"
   ]
  },
  {
   "cell_type": "code",
   "execution_count": 24,
   "metadata": {},
   "outputs": [],
   "source": [
    "file = pretty_midi.PrettyMIDI(filenames[0])\n",
    "instrument_name = pretty_midi.program_to_instrument_name(file.instruments[0].program)"
   ]
  },
  {
   "cell_type": "markdown",
   "metadata": {},
   "source": [
    "### Save MIDI files"
   ]
  },
  {
   "cell_type": "code",
   "execution_count": 25,
   "metadata": {},
   "outputs": [],
   "source": [
    "def df_to_midi(\n",
    "        notes: pd.DataFrame,\n",
    "        out_file: str, \n",
    "        instrument_name: str,\n",
    "        velocity: int = 90,  # note loudness\n",
    ") -> pretty_midi.PrettyMIDI:\n",
    "    file = pretty_midi.PrettyMIDI()\n",
    "    instrument = pretty_midi.Instrument(\n",
    "        program=pretty_midi.instrument_name_to_program(\n",
    "        instrument_name))\n",
    "    for i, note in notes.iterrows():\n",
    "        note = pretty_midi.Note(\n",
    "            velocity=velocity,\n",
    "            pitch=int(pretty_midi.note_name_to_number(note['pitch'])),\n",
    "            start=note['start'],\n",
    "            end=note['end'],\n",
    "        )\n",
    "        instrument.notes.append(note)\n",
    "    file.instruments.append(instrument)\n",
    "    file.write(out_file)\n",
    "\n",
    "df_to_midi(orig_df, 'input_seq.midi', instrument_name)\n",
    "df_to_midi(notes_df, f'seq_len_{SEQ_LEN}_steps_{steps}.midi', instrument_name)"
   ]
  },
  {
   "cell_type": "markdown",
   "metadata": {},
   "source": [
    "### Prep and Plot the DataFrames"
   ]
  },
  {
   "cell_type": "code",
   "execution_count": 26,
   "metadata": {},
   "outputs": [],
   "source": [
    "orig_df.pitch = orig_df.pitch.map(pretty_midi.note_name_to_number)\n",
    "notes_df.pitch = notes_df.pitch.map(pretty_midi.note_name_to_number)"
   ]
  },
  {
   "cell_type": "code",
   "execution_count": 27,
   "metadata": {},
   "outputs": [
    {
     "data": {
      "image/png": "[encoded data removed]",
      "text/plain": [
       "<Figure size 2000x400 with 1 Axes>"
      ]
     },
     "metadata": {},
     "output_type": "display_data"
    }
   ],
   "source": [
    "plot_piano_roll(notes_df, 256)"
   ]
  },
  {
   "cell_type": "code",
   "execution_count": 28,
   "metadata": {},
   "outputs": [
    {
     "data": {
      "image/png": "[encoded data removed]",
      "text/plain": [
       "<Figure size 2000x400 with 1 Axes>"
      ]
     },
     "metadata": {},
     "output_type": "display_data"
    }
   ],
   "source": [
    "plot_piano_roll(orig_df, 256)"
   ]
  },
  {
   "cell_type": "code",
   "execution_count": null,
   "metadata": {},
   "outputs": [],
   "source": []
  }
 ],
 "metadata": {
  "kernelspec": {
   "display_name": "Python 3.9.12 ('base')",
   "language": "python",
   "name": "python3"
  },
  "language_info": {
   "codemirror_mode": {
    "name": "ipython",
    "version": 3
   },
   "file_extension": ".py",
   "mimetype": "text/x-python",
   "name": "python",
   "nbconvert_exporter": "python",
   "pygments_lexer": "ipython3",
   "version": "3.9.12"
  },
  "orig_nbformat": 4,
  "vscode": {
   "interpreter": {
    "hash": "3247f7d4635bb288d9e06d3deacee818856115b2677ccfdf5a578edab993fe5f"
   }
  }
 },
 "nbformat": 4,
 "nbformat_minor": 2
}

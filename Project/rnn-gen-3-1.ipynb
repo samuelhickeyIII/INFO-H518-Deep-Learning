{
 "cells": [
  {
   "cell_type": "markdown",
   "metadata": {},
   "source": [
    "# Author: Samuel Hickey\n",
    "\n",
    "### Word-level (notes and chords treated as singular words) Music Generating RNN\n",
    "### Version 3.1: seq2seq\n",
    "\n",
    "In version 1, we followed the Tensorflow tutorial from Magenta to attempt to generate Music using RNNs.\n",
    "\n",
    "In version 2, we will diverge from the approach of V1 and attempt to generate notes in a manner similar to generating sentences in NLP.\n",
    "We will train the model using next word prediction. Our vocabulary will consist of all notes and note combinations found in the Maestro v2 dataset (~12000 different combinations)\n",
    "\n",
    "In version 3.0 we:\n",
    "- removed one-hot encoding of the targets\n",
    "- instead of only providing the next note as a target, we used the next sequence.\n",
    "- refactored the model structure to a class\n",
    "- modified the generation process to match the new structure\n",
    "\n",
    "In this version, 3.1, we will:\n",
    "- simplify the encoder\n",
    "- add an attention layer\n",
    "- add a decoder"
   ]
  },
  {
   "cell_type": "markdown",
   "metadata": {},
   "source": [
    "## Imports"
   ]
  },
  {
   "cell_type": "code",
   "execution_count": 1,
   "metadata": {},
   "outputs": [],
   "source": [
    "import collections\n",
    "import glob\n",
    "import keras\n",
    "import numpy as np\n",
    "import pathlib\n",
    "import pandas as pd\n",
    "import pretty_midi\n",
    "import seaborn as sns\n",
    "import tensorflow as tf\n",
    "import warnings\n",
    "\n",
    "from numba import jit\n",
    "from keras.layers import (BatchNormalization, Bidirectional, CategoryEncoding, Embedding, Dense, Dropout, LSTM)\n",
    "from keras.utils import timeseries_dataset_from_array\n",
    "from keras.preprocessing.text import Tokenizer\n",
    "from utilities.DatasetUtils import (midi_to_notes, plot_piano_roll)\n",
    "\n",
    "warnings.filterwarnings(\"ignore\")\n",
    "\n",
    "# Sampling rate for audio playback\n",
    "_SAMPLING_RATE = 16000\n",
    "\n",
    "SEQ_LEN = 128"
   ]
  },
  {
   "cell_type": "markdown",
   "metadata": {},
   "source": [
    "### Select Dataset"
   ]
  },
  {
   "cell_type": "code",
   "execution_count": 2,
   "metadata": {},
   "outputs": [
    {
     "name": "stdout",
     "output_type": "stream",
     "text": [
      "Number of files: 1282\n"
     ]
    }
   ],
   "source": [
    "data_dir = pathlib.Path('data/maestro-v2.0.0')\n",
    "filenames = glob.glob(str(data_dir/'*/*.mid*'))\n",
    "print('Number of files:', len(filenames))"
   ]
  },
  {
   "cell_type": "markdown",
   "metadata": {},
   "source": [
    "### Extract the Notes\n",
    "\n",
    "For each song, we round the start times of each note to the nearest one-thousandth of a second and consider any notes with the same start time to be a chord i.e. a new term in our vocabulary. Each step contains at least one key and as many as seven keys."
   ]
  },
  {
   "cell_type": "code",
   "execution_count": 3,
   "metadata": {},
   "outputs": [],
   "source": [
    "def midi_to_notes(midi_file: str) -> pd.DataFrame:\n",
    "\tpm = pretty_midi.PrettyMIDI(midi_file)\n",
    "\tinstrument = pm.instruments[0]\n",
    "\tnotes = collections.defaultdict(list)\n",
    "\n",
    "\t# Sort the notes by start time\n",
    "\tsorted_notes = sorted(instrument.notes, key=lambda note: note.start)\n",
    "\t\n",
    "\tnotes['pitch'].append('START')\n",
    "\tnotes['start'].append(0)\n",
    "\tfor note in sorted_notes:\n",
    "\t\tnotes['pitch'].append(pretty_midi.note_number_to_name(note.pitch))\n",
    "\t\tnotes['start'].append(round(note.start, 3))\n",
    "\tnotes['pitch'].append('END')\n",
    "\tnotes['start'].append(round(note.start, 2) + 3)\n",
    "\n",
    "\tresult = pd.DataFrame({name: np.array(value) for name, value in notes.items()})\t\n",
    "\tresult = result.groupby('start').agg({'pitch': sorted}).reset_index()\n",
    "\tresult.pitch = result.pitch.str.join(',')\n",
    "\treturn result\n",
    "tf.strings."
   ]
  },
  {
   "cell_type": "code",
   "execution_count": 4,
   "metadata": {},
   "outputs": [],
   "source": [
    "# Load the files\n",
    "num_files = 50  # len(filenames)\n",
    "all_notes, vocab = [], []\n",
    "for f in filenames[:num_files]:\n",
    "    df = midi_to_notes(f)\n",
    "    all_notes.append(df)"
   ]
  },
  {
   "cell_type": "markdown",
   "metadata": {},
   "source": [
    "### Save Notes, Vocabulary, Character Indices"
   ]
  },
  {
   "cell_type": "code",
   "execution_count": 5,
   "metadata": {},
   "outputs": [],
   "source": [
    "# SAVE NOTES AND VARS\n",
    "# vocab = np.unique(pd.concat(all_notes).pitch.to_numpy())\n",
    "# ids_from_chars = {v:k for k, v in enumerate(vocab)}\n",
    "# chars_from_ids = {k:v for k, v in enumerate(vocab)}\n",
    "# np.save(\n",
    "#     pathlib.Path('data/preprocessed/vocab_ids_chars.npy'),\n",
    "#     [vocab, ids_from_chars, chars_from_ids],\n",
    "#     allow_pickle=True\n",
    "# )\n",
    "\n",
    "# all_notes = np.array([padded_song(song) for song in all_notes])\n",
    "# np.save(\n",
    "#     pathlib.Path('data/preprocessed/sample_notes.npy'),\n",
    "#     all_notes,\n",
    "#     allow_pickle=True\n",
    "# )"
   ]
  },
  {
   "cell_type": "markdown",
   "metadata": {},
   "source": [
    "### Load Notes, Vocabulary, Character Indices\n",
    "\n",
    "As mentioned earlier, the vocabulary and character indices were created using ALL of the available midi files in the Maestro V2 dataset. However, \"all_notes\" consists only of all the notes found in the files we chose to use i.e. num_files"
   ]
  },
  {
   "cell_type": "code",
   "execution_count": 6,
   "metadata": {},
   "outputs": [],
   "source": [
    "vocab, ids_from_chars, chars_from_ids = np.load(\n",
    "\t'data/preprocessed/vocab_ids_chars.npy',\n",
    "\tallow_pickle=True\n",
    ")  # This file was built using all available input files \n",
    "\n",
    "all_notes = pd.concat(all_notes).pitch \\\n",
    "\t.map(lambda note: ids_from_chars[note]) \\\n",
    "\t.reset_index() \\\n",
    "\t.pitch"
   ]
  },
  {
   "cell_type": "markdown",
   "metadata": {},
   "source": [
    "### Create Dataset\n",
    "\n",
    "Here we are using time_series_dataset_from_array to create batches of sequences that have a length of SEQ_LEN. Next, we map each batch through the split_input_target function to create an input and a target of shape (batch_size, SEQ_LEN-1).\n",
    "\n",
    "It is important to our understanding that we realize time_series_dataset_from_array will take a sequence of events [x1, x2, ...,  x_n] and produce a tensor of sequences: \n",
    "\n",
    "[[x1, x2, ..., x_seq_len], \n",
    "<br>[x_seq_len, x_seq_len+1, ..., x_seq_len*2],\n",
    "<br>[  ...  ]\n",
    "<br>[x_n-seq_len, x_n+1-seq_len, ..., x_n]]\n",
    "\n",
    "Where [x_n-seq_len, x_n+1-seq_len, ..., x_n]] is the last sequence in the batch and n = k*(batch_size*seq_len) for some natural number, k."
   ]
  },
  {
   "cell_type": "code",
   "execution_count": 20,
   "metadata": {},
   "outputs": [],
   "source": [
    "def split_input_target(seq):\n",
    "    layer = CategoryEncoding(num_tokens=len(vocab)+1, output_mode=\"one_hot\")\n",
    "    inputs, targets = seq[:, :-1], seq[:, 1:]\n",
    "    return (\n",
    "        inputs,\n",
    "        layer(targets)\n",
    "    )\n",
    "dataset = timeseries_dataset_from_array(all_notes, None, SEQ_LEN, batch_size=64) \\\n",
    "    .map(split_input_target)"
   ]
  },
  {
   "cell_type": "markdown",
   "metadata": {},
   "source": [
    "### Model Definition and Initialization"
   ]
  },
  {
   "cell_type": "code",
   "execution_count": 22,
   "metadata": {},
   "outputs": [],
   "source": [
    "# EXPERIMENTAL\n",
    "model = keras.models.Sequential([\n",
    "    Embedding(len(vocab)+1, 128, input_length=SEQ_LEN),\n",
    "    Bidirectional(LSTM(128, return_sequences=True)),\n",
    "    Dropout(.2),\n",
    "    Bidirectional(LSTM(256, return_sequences=True)),\n",
    "    Dropout(.2),\n",
    "    Bidirectional(LSTM(512)),\n",
    "    Dropout(.2),\n",
    "    Dense(512, activation='relu'),\n",
    "    Dense(len(vocab)+1, activation='softmax')\n",
    "])"
   ]
  },
  {
   "cell_type": "code",
   "execution_count": 23,
   "metadata": {},
   "outputs": [],
   "source": [
    "# model = keras.models.Sequential([\n",
    "#     Embedding(len(vocab)+1, 128, input_length=SEQ_LEN),\n",
    "#     Bidirectional(LSTM(128, return_sequences=True)),\n",
    "#     Dropout(.2),\n",
    "#     Bidirectional(LSTM(128)),\n",
    "#     Dropout(.2),\n",
    "#     Dense(128, activation='relu'),\n",
    "#     Dense(len(vocab)+1, activation='softmax')\n",
    "# ])\n",
    "callbacks = [\n",
    "    keras.callbacks.ModelCheckpoint(\n",
    "        filepath='./training_checkpoints/ckpt_{epoch}',\n",
    "        save_weights_only=True),\n",
    "    keras.callbacks.EarlyStopping(\n",
    "        monitor='loss',\n",
    "        patience=5,\n",
    "        verbose=1,\n",
    "        restore_best_weights=True),\n",
    "]\n",
    "optimizer = tf.keras.optimizers.Adam(learning_rate=0.001, clipvalue=.5)\n",
    "\n",
    "model.compile(optimizer=optimizer, loss='categorical_crossentropy')"
   ]
  },
  {
   "cell_type": "markdown",
   "metadata": {},
   "source": [
    "### Training"
   ]
  },
  {
   "cell_type": "code",
   "execution_count": 24,
   "metadata": {},
   "outputs": [
    {
     "name": "stdout",
     "output_type": "stream",
     "text": [
      "Epoch 1/200\n",
      "4554/4554 [==============================] - 471s 102ms/step - loss: 4.2017\n",
      "Epoch 2/200\n",
      "4554/4554 [==============================] - 463s 102ms/step - loss: 4.1491\n",
      "Epoch 3/200\n",
      "4554/4554 [==============================] - 465s 102ms/step - loss: 4.1318\n",
      "Epoch 4/200\n",
      "4554/4554 [==============================] - 462s 101ms/step - loss: 4.0805\n",
      "Epoch 5/200\n",
      "4554/4554 [==============================] - 463s 102ms/step - loss: 4.0126\n",
      "Epoch 6/200\n",
      "4554/4554 [==============================] - 465s 102ms/step - loss: 3.9431\n",
      "Epoch 7/200\n",
      "4554/4554 [==============================] - 465s 102ms/step - loss: 3.9025\n",
      "Epoch 8/200\n",
      "4554/4554 [==============================] - 464s 102ms/step - loss: 3.8483\n",
      "Epoch 9/200\n",
      "4554/4554 [==============================] - 464s 102ms/step - loss: 3.7882\n",
      "Epoch 10/200\n",
      "4554/4554 [==============================] - 464s 102ms/step - loss: 3.7463\n",
      "Epoch 11/200\n",
      "4554/4554 [==============================] - 467s 103ms/step - loss: 3.7059\n",
      "Epoch 12/200\n",
      "4554/4554 [==============================] - 467s 102ms/step - loss: 3.6677\n",
      "Epoch 13/200\n",
      "4554/4554 [==============================] - 464s 102ms/step - loss: 3.6279\n",
      "Epoch 14/200\n",
      "4554/4554 [==============================] - 464s 102ms/step - loss: 3.5875\n",
      "Epoch 15/200\n",
      "4554/4554 [==============================] - 465s 102ms/step - loss: 3.5513\n",
      "Epoch 16/200\n",
      "4554/4554 [==============================] - 465s 102ms/step - loss: 3.5196\n",
      "Epoch 17/200\n",
      "4554/4554 [==============================] - 460s 101ms/step - loss: 3.4817\n",
      "Epoch 18/200\n",
      "4554/4554 [==============================] - 465s 102ms/step - loss: 3.4495\n",
      "Epoch 19/200\n",
      "4554/4554 [==============================] - 463s 102ms/step - loss: 3.4212\n",
      "Epoch 20/200\n",
      "4554/4554 [==============================] - 467s 102ms/step - loss: 3.3916\n",
      "Epoch 21/200\n",
      "4554/4554 [==============================] - 463s 102ms/step - loss: 3.3627\n",
      "Epoch 22/200\n",
      "4554/4554 [==============================] - 466s 102ms/step - loss: 3.3327\n",
      "Epoch 23/200\n",
      "4554/4554 [==============================] - 462s 102ms/step - loss: 3.3117\n",
      "Epoch 24/200\n",
      "4554/4554 [==============================] - 467s 102ms/step - loss: 3.2860\n",
      "Epoch 25/200\n",
      "4554/4554 [==============================] - 469s 103ms/step - loss: 3.2627\n",
      "Epoch 26/200\n",
      "4554/4554 [==============================] - 467s 102ms/step - loss: 3.2407\n",
      "Epoch 27/200\n",
      "4554/4554 [==============================] - 467s 103ms/step - loss: 3.2222\n",
      "Epoch 28/200\n",
      "4554/4554 [==============================] - 470s 103ms/step - loss: 3.2011\n",
      "Epoch 29/200\n",
      "4554/4554 [==============================] - 467s 103ms/step - loss: 3.1795\n",
      "Epoch 30/200\n",
      "4554/4554 [==============================] - 466s 102ms/step - loss: 3.1649\n",
      "Epoch 31/200\n",
      "4554/4554 [==============================] - 481s 106ms/step - loss: 3.1452\n",
      "Epoch 32/200\n",
      "4554/4554 [==============================] - 469s 103ms/step - loss: 3.1272\n",
      "Epoch 33/200\n",
      "4554/4554 [==============================] - 469s 103ms/step - loss: 3.1156\n",
      "Epoch 34/200\n",
      "4554/4554 [==============================] - 463s 102ms/step - loss: 3.1015\n",
      "Epoch 35/200\n",
      "4554/4554 [==============================] - 466s 102ms/step - loss: 3.0846\n",
      "Epoch 36/200\n",
      "4554/4554 [==============================] - 468s 103ms/step - loss: 3.0718\n",
      "Epoch 37/200\n",
      "4554/4554 [==============================] - 467s 103ms/step - loss: 3.0595\n",
      "Epoch 38/200\n",
      "4554/4554 [==============================] - 468s 103ms/step - loss: 3.0470\n",
      "Epoch 39/200\n",
      "4554/4554 [==============================] - 467s 102ms/step - loss: 3.0356\n",
      "Epoch 40/200\n",
      "4554/4554 [==============================] - 466s 102ms/step - loss: 3.0260\n",
      "Epoch 41/200\n",
      "4554/4554 [==============================] - 469s 103ms/step - loss: 3.0136\n",
      "Epoch 42/200\n",
      "4554/4554 [==============================] - 470s 103ms/step - loss: 3.0053\n",
      "Epoch 43/200\n",
      "4554/4554 [==============================] - 464s 102ms/step - loss: 2.9912\n",
      "Epoch 44/200\n",
      "4554/4554 [==============================] - 468s 103ms/step - loss: 2.9836\n",
      "Epoch 45/200\n",
      "4554/4554 [==============================] - 470s 103ms/step - loss: 2.9721\n",
      "Epoch 46/200\n",
      "4554/4554 [==============================] - 467s 102ms/step - loss: 2.9627\n",
      "Epoch 47/200\n",
      "4554/4554 [==============================] - 465s 102ms/step - loss: 2.9550\n",
      "Epoch 48/200\n",
      "4554/4554 [==============================] - 465s 102ms/step - loss: 2.9486\n",
      "Epoch 49/200\n",
      "4554/4554 [==============================] - 464s 102ms/step - loss: 2.9404\n",
      "Epoch 50/200\n",
      "4554/4554 [==============================] - 461s 101ms/step - loss: 2.9325\n",
      "Epoch 51/200\n",
      "4554/4554 [==============================] - 463s 102ms/step - loss: 2.9234\n",
      "Epoch 52/200\n",
      "4554/4554 [==============================] - 461s 101ms/step - loss: 2.9142\n",
      "Epoch 53/200\n",
      "4554/4554 [==============================] - 465s 102ms/step - loss: 2.9084\n",
      "Epoch 54/200\n",
      "4554/4554 [==============================] - 462s 101ms/step - loss: 2.9002\n",
      "Epoch 55/200\n",
      "4554/4554 [==============================] - 462s 101ms/step - loss: 2.8982\n",
      "Epoch 56/200\n",
      "4554/4554 [==============================] - 464s 102ms/step - loss: 2.8909\n",
      "Epoch 57/200\n",
      "4554/4554 [==============================] - 463s 102ms/step - loss: 2.8823\n",
      "Epoch 58/200\n",
      "4554/4554 [==============================] - 464s 102ms/step - loss: 2.8785\n",
      "Epoch 59/200\n",
      "4554/4554 [==============================] - 466s 102ms/step - loss: 2.8697\n",
      "Epoch 60/200\n",
      "4554/4554 [==============================] - 462s 101ms/step - loss: 2.8698\n",
      "Epoch 61/200\n",
      "4554/4554 [==============================] - 464s 102ms/step - loss: 2.8608\n",
      "Epoch 62/200\n",
      "4554/4554 [==============================] - 462s 102ms/step - loss: 2.8527\n",
      "Epoch 63/200\n",
      "4554/4554 [==============================] - 466s 102ms/step - loss: 2.8522\n",
      "Epoch 64/200\n",
      "4554/4554 [==============================] - 462s 101ms/step - loss: 2.8496\n",
      "Epoch 65/200\n",
      "4554/4554 [==============================] - 463s 102ms/step - loss: 2.8398\n",
      "Epoch 66/200\n",
      "4554/4554 [==============================] - 463s 102ms/step - loss: 2.8339\n",
      "Epoch 67/200\n",
      "4554/4554 [==============================] - 463s 102ms/step - loss: 2.8314\n",
      "Epoch 68/200\n",
      "4554/4554 [==============================] - 462s 102ms/step - loss: 2.8264\n",
      "Epoch 69/200\n",
      "4554/4554 [==============================] - 464s 102ms/step - loss: 2.8244\n",
      "Epoch 70/200\n",
      "4554/4554 [==============================] - 461s 101ms/step - loss: 2.8191\n",
      "Epoch 71/200\n",
      "4554/4554 [==============================] - 463s 102ms/step - loss: 2.8122\n",
      "Epoch 72/200\n",
      "4554/4554 [==============================] - 463s 102ms/step - loss: 2.8069\n",
      "Epoch 73/200\n",
      "4554/4554 [==============================] - 456s 100ms/step - loss: 2.8044\n",
      "Epoch 74/200\n",
      "4554/4554 [==============================] - 461s 101ms/step - loss: 2.8029\n",
      "Epoch 75/200\n",
      "4554/4554 [==============================] - 461s 101ms/step - loss: 2.7940\n",
      "Epoch 76/200\n",
      "4554/4554 [==============================] - 462s 102ms/step - loss: 2.7905\n",
      "Epoch 77/200\n",
      "4554/4554 [==============================] - 457s 100ms/step - loss: 2.7868\n",
      "Epoch 78/200\n",
      "4554/4554 [==============================] - 458s 101ms/step - loss: 2.7842\n",
      "Epoch 79/200\n",
      "4554/4554 [==============================] - 463s 102ms/step - loss: 2.7811\n",
      "Epoch 80/200\n",
      "4554/4554 [==============================] - 462s 102ms/step - loss: 2.7792\n",
      "Epoch 81/200\n",
      "4554/4554 [==============================] - 463s 102ms/step - loss: 2.7691\n",
      "Epoch 82/200\n",
      "4554/4554 [==============================] - 461s 101ms/step - loss: 2.7714\n",
      "Epoch 83/200\n",
      "4554/4554 [==============================] - 460s 101ms/step - loss: 2.7651\n",
      "Epoch 84/200\n",
      "4554/4554 [==============================] - 462s 101ms/step - loss: 2.7633\n",
      "Epoch 85/200\n",
      "4554/4554 [==============================] - 462s 101ms/step - loss: 2.7605\n",
      "Epoch 86/200\n",
      "4554/4554 [==============================] - 460s 101ms/step - loss: 2.7554\n",
      "Epoch 87/200\n",
      "4554/4554 [==============================] - 462s 102ms/step - loss: 2.7571\n",
      "Epoch 88/200\n",
      "4554/4554 [==============================] - 461s 101ms/step - loss: 2.7494\n",
      "Epoch 89/200\n",
      "4554/4554 [==============================] - 462s 101ms/step - loss: 2.7466\n",
      "Epoch 90/200\n",
      "4554/4554 [==============================] - 458s 101ms/step - loss: 2.7404\n",
      "Epoch 91/200\n",
      "4554/4554 [==============================] - 463s 102ms/step - loss: 2.7408\n",
      "Epoch 92/200\n",
      "4554/4554 [==============================] - 460s 101ms/step - loss: 2.7362\n",
      "Epoch 93/200\n",
      "4554/4554 [==============================] - 464s 102ms/step - loss: 2.7372\n",
      "Epoch 94/200\n",
      "4554/4554 [==============================] - 461s 101ms/step - loss: 2.7298\n",
      "Epoch 95/200\n",
      "4554/4554 [==============================] - 459s 101ms/step - loss: 2.7303\n",
      "Epoch 96/200\n",
      "4554/4554 [==============================] - 461s 101ms/step - loss: 2.7301\n",
      "Epoch 97/200\n",
      "4554/4554 [==============================] - 462s 102ms/step - loss: 2.7228\n",
      "Epoch 98/200\n",
      "4554/4554 [==============================] - 462s 101ms/step - loss: 2.7193\n",
      "Epoch 99/200\n",
      "4554/4554 [==============================] - 458s 101ms/step - loss: 2.7171\n",
      "Epoch 100/200\n",
      "4554/4554 [==============================] - 459s 101ms/step - loss: 2.7178\n",
      "Epoch 101/200\n",
      "4554/4554 [==============================] - 459s 101ms/step - loss: 2.7112\n",
      "Epoch 102/200\n",
      "4554/4554 [==============================] - 462s 101ms/step - loss: 2.7105\n",
      "Epoch 103/200\n",
      "4554/4554 [==============================] - 460s 101ms/step - loss: 2.7050\n",
      "Epoch 104/200\n",
      "4554/4554 [==============================] - 459s 101ms/step - loss: 2.7006\n",
      "Epoch 105/200\n",
      "4554/4554 [==============================] - 461s 101ms/step - loss: 2.7013\n",
      "Epoch 106/200\n",
      "4554/4554 [==============================] - 461s 101ms/step - loss: 2.6975\n",
      "Epoch 107/200\n",
      "4554/4554 [==============================] - 460s 101ms/step - loss: 2.6893\n",
      "Epoch 108/200\n",
      "4554/4554 [==============================] - 460s 101ms/step - loss: 2.6863\n",
      "Epoch 109/200\n",
      "4554/4554 [==============================] - 457s 100ms/step - loss: 2.6857\n",
      "Epoch 110/200\n",
      "4554/4554 [==============================] - 462s 101ms/step - loss: 2.6810\n",
      "Epoch 111/200\n",
      "4554/4554 [==============================] - 460s 101ms/step - loss: 2.6792\n",
      "Epoch 112/200\n",
      "4554/4554 [==============================] - 458s 101ms/step - loss: 2.6755\n",
      "Epoch 113/200\n",
      "4554/4554 [==============================] - 460s 101ms/step - loss: 2.6678\n",
      "Epoch 114/200\n",
      "4554/4554 [==============================] - 461s 101ms/step - loss: 2.6654\n",
      "Epoch 115/200\n",
      "4554/4554 [==============================] - 461s 101ms/step - loss: 2.6669\n",
      "Epoch 116/200\n",
      "4554/4554 [==============================] - 458s 100ms/step - loss: 2.6635\n",
      "Epoch 117/200\n",
      "4554/4554 [==============================] - 460s 101ms/step - loss: 2.6579\n",
      "Epoch 118/200\n",
      "4554/4554 [==============================] - 467s 103ms/step - loss: 2.6607\n",
      "Epoch 119/200\n",
      "4554/4554 [==============================] - 465s 102ms/step - loss: 2.6514\n",
      "Epoch 120/200\n",
      "4554/4554 [==============================] - 466s 102ms/step - loss: 2.6482\n",
      "Epoch 121/200\n",
      "4554/4554 [==============================] - 465s 102ms/step - loss: 2.6441\n",
      "Epoch 122/200\n",
      "4554/4554 [==============================] - 465s 102ms/step - loss: 2.6390\n",
      "Epoch 123/200\n",
      "4554/4554 [==============================] - 467s 103ms/step - loss: 2.6377\n",
      "Epoch 124/200\n",
      "4554/4554 [==============================] - 464s 102ms/step - loss: 2.6260\n",
      "Epoch 125/200\n",
      "4554/4554 [==============================] - 470s 103ms/step - loss: 2.6234\n",
      "Epoch 126/200\n",
      "4554/4554 [==============================] - 472s 104ms/step - loss: 2.6265\n",
      "Epoch 127/200\n",
      "4554/4554 [==============================] - 470s 103ms/step - loss: 2.6231\n",
      "Epoch 128/200\n",
      "4554/4554 [==============================] - 477s 105ms/step - loss: 2.6233\n",
      "Epoch 129/200\n",
      "4554/4554 [==============================] - 469s 103ms/step - loss: 2.6218\n",
      "Epoch 130/200\n",
      "4554/4554 [==============================] - 466s 102ms/step - loss: 2.6229\n",
      "Epoch 131/200\n",
      "4554/4554 [==============================] - 467s 102ms/step - loss: 2.6103\n",
      "Epoch 132/200\n",
      "4554/4554 [==============================] - 475s 104ms/step - loss: 2.6096\n",
      "Epoch 133/200\n",
      "4554/4554 [==============================] - 473s 104ms/step - loss: 2.6050\n",
      "Epoch 134/200\n",
      "4554/4554 [==============================] - 467s 102ms/step - loss: 2.6074\n",
      "Epoch 135/200\n",
      "4554/4554 [==============================] - 466s 102ms/step - loss: 2.5986\n",
      "Epoch 136/200\n",
      "4554/4554 [==============================] - 468s 103ms/step - loss: 2.5979\n",
      "Epoch 137/200\n",
      "4554/4554 [==============================] - 467s 102ms/step - loss: 2.5945\n",
      "Epoch 138/200\n",
      "4554/4554 [==============================] - 465s 102ms/step - loss: 2.5932\n",
      "Epoch 139/200\n",
      "4554/4554 [==============================] - 466s 102ms/step - loss: 2.5891\n",
      "Epoch 140/200\n",
      "4554/4554 [==============================] - 466s 102ms/step - loss: 2.5846\n",
      "Epoch 141/200\n",
      "4554/4554 [==============================] - 471s 104ms/step - loss: 2.5813\n",
      "Epoch 142/200\n",
      "4554/4554 [==============================] - 464s 102ms/step - loss: 2.5801\n",
      "Epoch 143/200\n",
      "4554/4554 [==============================] - 462s 101ms/step - loss: 2.5764\n",
      "Epoch 144/200\n",
      "4554/4554 [==============================] - 462s 101ms/step - loss: 2.5688\n",
      "Epoch 145/200\n",
      "4554/4554 [==============================] - 472s 104ms/step - loss: 2.5694\n",
      "Epoch 146/200\n",
      "3398/4554 [=====================>........] - ETA: 2:01 - loss: 2.5779"
     ]
    }
   ],
   "source": [
    "history = model.fit(dataset, epochs=200, callbacks=callbacks)"
   ]
  },
  {
   "cell_type": "markdown",
   "metadata": {},
   "source": [
    "### Save the Model"
   ]
  },
  {
   "cell_type": "code",
   "execution_count": 20,
   "metadata": {},
   "outputs": [
    {
     "name": "stderr",
     "output_type": "stream",
     "text": [
      "WARNING:absl:Found untraced functions such as lstm_cell_7_layer_call_fn, lstm_cell_7_layer_call_and_return_conditional_losses, lstm_cell_8_layer_call_fn, lstm_cell_8_layer_call_and_return_conditional_losses, lstm_cell_10_layer_call_fn while saving (showing 5 of 8). These functions will not be directly callable after loading.\n"
     ]
    },
    {
     "name": "stdout",
     "output_type": "stream",
     "text": [
      "INFO:tensorflow:Assets written to: models\\trained_on_all\\seq_len_128\\assets\n"
     ]
    },
    {
     "name": "stderr",
     "output_type": "stream",
     "text": [
      "INFO:tensorflow:Assets written to: models\\trained_on_all\\seq_len_128\\assets\n"
     ]
    }
   ],
   "source": [
    "model.save(pathlib.Path(f'models/V2.0/trained_on_{num_files}/seq_len_{SEQ_LEN}'))"
   ]
  },
  {
   "cell_type": "markdown",
   "metadata": {},
   "source": [
    "# Supported Generation"
   ]
  },
  {
   "cell_type": "markdown",
   "metadata": {},
   "source": [
    "### Load Model and Make Prediction"
   ]
  },
  {
   "cell_type": "code",
   "execution_count": null,
   "metadata": {},
   "outputs": [],
   "source": [
    "model = keras.models.load_model(f'models/V2.0/trained_on_{num_files}/seq_len_{SEQ_LEN}', custom_objects={'optimizer':optimizer})\n",
    "\n",
    "# Prediction\n",
    "num_steps = 256\n",
    "preds = model(list(timeseries_dataset_from_array(all_notes[SEQ_LEN:SEQ_LEN*13].to_numpy(), targets=None, sequence_length=SEQ_LEN, batch_size=num_steps))[0]).numpy()"
   ]
  },
  {
   "cell_type": "markdown",
   "metadata": {},
   "source": [
    "### Extract Input & Target Sequence to DataFrame"
   ]
  },
  {
   "cell_type": "code",
   "execution_count": null,
   "metadata": {},
   "outputs": [],
   "source": [
    "# Inputs\n",
    "to_notes = lambda x: chars_from_ids[x].split(',')\n",
    "orig = all_notes[SEQ_LEN:SEQ_LEN*13].map(to_notes)  # .explode('pitch').map(pretty_midi.note_name_to_number)\n",
    "notes = []\n",
    "start = []\n",
    "j = 0.75\n",
    "for i in orig.iteritems():\n",
    "    temp = .2\n",
    "    j += temp\n",
    "    notes.append((i[1], j, j+.1, .1, temp))\n",
    "orig_df = pd.DataFrame(notes, columns=['pitch', 'start', 'end', 'duration', 'step']).explode('pitch')\n",
    "\n",
    "\n",
    "# Target\n",
    "notes = []\n",
    "start = []\n",
    "j = 0.75\n",
    "for i in range(len(preds)):\n",
    "    temp = .2\n",
    "    j += temp\n",
    "    notes.append((chars_from_ids[list(preds[i]).index(np.max(preds[i]))].split(','), j, j+.1, .1, temp))\n",
    "notes_df = pd.DataFrame(notes, columns=['pitch', 'start', 'end', 'duration', 'step']).explode('pitch')"
   ]
  },
  {
   "cell_type": "markdown",
   "metadata": {},
   "source": [
    "### Extract Instrument"
   ]
  },
  {
   "cell_type": "code",
   "execution_count": null,
   "metadata": {},
   "outputs": [],
   "source": [
    "file = pretty_midi.PrettyMIDI(filenames[0])\n",
    "instrument_name = pretty_midi.program_to_instrument_name(file.instruments[0].program)"
   ]
  },
  {
   "cell_type": "markdown",
   "metadata": {},
   "source": [
    "### Save MIDI files"
   ]
  },
  {
   "cell_type": "code",
   "execution_count": 112,
   "metadata": {},
   "outputs": [
    {
     "data": {
      "text/plain": [
       "<pretty_midi.pretty_midi.PrettyMIDI at 0x155b8b88fa0>"
      ]
     },
     "execution_count": 112,
     "metadata": {},
     "output_type": "execute_result"
    }
   ],
   "source": [
    "def df_to_midi(\n",
    "        notes: pd.DataFrame,\n",
    "        out_file: str, \n",
    "        instrument_name: str,\n",
    "        velocity: int = 90,  # note loudness\n",
    ") -> pretty_midi.PrettyMIDI:\n",
    "    file = pretty_midi.PrettyMIDI()\n",
    "    instrument = pretty_midi.Instrument(\n",
    "        program=pretty_midi.instrument_name_to_program(\n",
    "        instrument_name))\n",
    "    for i, note in notes.iterrows():\n",
    "        note = pretty_midi.Note(\n",
    "            velocity=velocity,\n",
    "            pitch=int(pretty_midi.note_name_to_number(note['pitch'])),\n",
    "            start=note['start'],\n",
    "            end=note['end'],\n",
    "        )\n",
    "        instrument.notes.append(note)\n",
    "    file.instruments.append(instrument)\n",
    "    file.write(out_file)\n",
    "\n",
    "# df_to_midi(orig_df, 'data/generated_files/input_seq.midi', instrument_name)\n",
    "df_to_midi(notes_df, f'seq_len_{SEQ_LEN}_steps_{num_steps}.midi', instrument_name)"
   ]
  },
  {
   "cell_type": "markdown",
   "metadata": {},
   "source": [
    "### Prep and Plot the DataFrames"
   ]
  },
  {
   "cell_type": "code",
   "execution_count": null,
   "metadata": {},
   "outputs": [],
   "source": [
    "orig_df.pitch = orig_df.pitch.map(pretty_midi.note_name_to_number)\n",
    "notes_df.pitch = notes_df.pitch.map(pretty_midi.note_name_to_number)"
   ]
  },
  {
   "cell_type": "code",
   "execution_count": 113,
   "metadata": {},
   "outputs": [
    {
     "data": {
      "image/png": "[encoded data removed]",
      "text/plain": [
       "<Figure size 2000x400 with 1 Axes>"
      ]
     },
     "metadata": {},
     "output_type": "display_data"
    }
   ],
   "source": [
    "plot_piano_roll(notes_df, 256)"
   ]
  },
  {
   "cell_type": "code",
   "execution_count": 108,
   "metadata": {},
   "outputs": [
    {
     "data": {
      "image/png": "[encoded data removed]",
      "text/plain": [
       "<Figure size 2000x400 with 1 Axes>"
      ]
     },
     "metadata": {},
     "output_type": "display_data"
    }
   ],
   "source": [
    "plot_piano_roll(orig_df, 256)"
   ]
  },
  {
   "cell_type": "code",
   "execution_count": null,
   "metadata": {},
   "outputs": [],
   "source": []
  }
 ],
 "metadata": {
  "kernelspec": {
   "display_name": "Python 3.9.12 ('base')",
   "language": "python",
   "name": "python3"
  },
  "language_info": {
   "codemirror_mode": {
    "name": "ipython",
    "version": 3
   },
   "file_extension": ".py",
   "mimetype": "text/x-python",
   "name": "python",
   "nbconvert_exporter": "python",
   "pygments_lexer": "ipython3",
   "version": "3.9.12 (main, Apr  4 2022, 05:22:27) [MSC v.1916 64 bit (AMD64)]"
  },
  "orig_nbformat": 4,
  "vscode": {
   "interpreter": {
    "hash": "3247f7d4635bb288d9e06d3deacee818856115b2677ccfdf5a578edab993fe5f"
   }
  }
 },
 "nbformat": 4,
 "nbformat_minor": 2
}

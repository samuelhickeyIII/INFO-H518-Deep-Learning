{
 "cells": [
  {
   "attachments": {},
   "cell_type": "markdown",
   "metadata": {},
   "source": [
    "# Author: Samuel Hickey\n",
    "\n",
    "### Note-level (notes and chords treated as singular words) Music Generating RNN\n",
    "### Version 3.1: seq2seq\n",
    "\n",
    "In version 1, we followed the Tensorflow tutorial from Magenta to attempt to generate Music using RNNs.\n",
    "\n",
    "In version 2, we will diverge from the approach of V1 and attempt to generate notes in a manner similar to generating sentences in NLP.\n",
    "We will train the model using next word prediction. Our vocabulary will consist of all notes and note combinations found in the Maestro v2 dataset (~12000 different combinations)\n",
    "\n",
    "In version 3.0 we:\n",
    "- removed one-hot encoding of the targets\n",
    "- instead of only providing the next note as a target, we used the next sequence.\n",
    "- refactored the model structure to a class\n",
    "- modified the generation process to match the new structure\n",
    "\n",
    "In this version, 3.1, we will:\n",
    "- Develop an encoder to take the place of our original model\n",
    "- add an attention layer\n",
    "- add a decoder"
   ]
  },
  {
   "cell_type": "markdown",
   "metadata": {},
   "source": [
    "## Imports"
   ]
  },
  {
   "cell_type": "code",
   "execution_count": 1,
   "metadata": {},
   "outputs": [],
   "source": [
    "import collections\n",
    "import glob\n",
    "import keras\n",
    "import numpy as np\n",
    "import pathlib\n",
    "import pandas as pd\n",
    "import pretty_midi\n",
    "import tensorflow as tf\n",
    "gpu = tf.config.list_physical_devices('GPU')[0]\n",
    "tf.config.experimental.set_memory_growth(gpu, False)\n",
    "\n",
    "from keras.layers import (Bidirectional, Embedding, Dense, LSTM)\n",
    "from keras.utils import timeseries_dataset_from_array\n",
    "from utilities.DatasetUtils import plot_piano_roll\n",
    "\n",
    "SEQ_LEN = 256\n",
    "MODEL_PATH = 'models/V3.0/'"
   ]
  },
  {
   "cell_type": "markdown",
   "metadata": {},
   "source": [
    "### Select Dataset"
   ]
  },
  {
   "cell_type": "code",
   "execution_count": 2,
   "metadata": {},
   "outputs": [
    {
     "name": "stdout",
     "output_type": "stream",
     "text": [
      "Number of files: 1282\n"
     ]
    }
   ],
   "source": [
    "data_dir = pathlib.Path('data/maestro-v2.0.0')\n",
    "filenames = glob.glob(str(data_dir/'*/*.mid*'))\n",
    "num_files = len(filenames)\n",
    "print('Number of files:', num_files)"
   ]
  },
  {
   "cell_type": "markdown",
   "metadata": {},
   "source": [
    "### Extract the Notes\n",
    "\n",
    "For each song, we round the start times of each note to the nearest one-thousandth of a second and consider any notes with the same start time to be a chord i.e. a new term in our vocabulary. Each step contains at least one key and as many as seven keys."
   ]
  },
  {
   "cell_type": "code",
   "execution_count": 3,
   "metadata": {},
   "outputs": [],
   "source": [
    "def midi_to_notes(midi_file: str) -> pd.DataFrame:\n",
    "\tinstrument = pretty_midi.PrettyMIDI(midi_file).instruments[0]\n",
    "\tnotes = collections.defaultdict(list)\n",
    "\tnotes['pitch'].append('[START]')\n",
    "\tnotes['start'].append(0)\n",
    "\tfor note in sorted(instrument.notes, key=lambda note: note.start):\n",
    "\t\tnotes['pitch'].append(pretty_midi.note_number_to_name(note.pitch))\n",
    "\t\tnotes['start'].append(round(note.start, 3))\n",
    "\tnotes['pitch'].append('[END]')\n",
    "\tnotes['start'].append(round(note.start, 2) + 3)\n",
    "\n",
    "\tresult = pd.DataFrame({name: np.array(value) for name, value in notes.items()}) \\\n",
    "\t\t.groupby('start') \\\n",
    "\t\t.agg({'pitch': sorted}) \\\n",
    "\t\t.reset_index() \\\n",
    "\t\t.pitch.str.join(',') \\\n",
    "\t\t.to_frame()\n",
    "\treturn result\n",
    "\n",
    "# # Load the files\n",
    "# notes = []\n",
    "# for f in np.random.choice(filenames, num_files):\n",
    "#     df = midi_to_notes(f)\n",
    "#     notes.append(df)\n",
    "# notes = pd.concat(notes).pitch"
   ]
  },
  {
   "attachments": {},
   "cell_type": "markdown",
   "metadata": {},
   "source": [
    "### Save Vocabulary, Indices, and Notes"
   ]
  },
  {
   "cell_type": "code",
   "execution_count": 4,
   "metadata": {},
   "outputs": [],
   "source": [
    "# # Create a vocabulary, id-lookup, and note-lookup\n",
    "# vocab = np.unique(notes.to_numpy())\n",
    "# ids_from_notes = {v:k for k, v in enumerate(vocab)}\n",
    "# notes_from_ids = {k:v for k, v in enumerate(vocab)}\n",
    "# np.save(\n",
    "#     pathlib.Path('data/preprocessed/vocab_ids_notes.npy'),\n",
    "#     [vocab, ids_from_notes, notes_from_ids],\n",
    "#     allow_pickle=True\n",
    "# )\n",
    "\n",
    "# # Integer encode the notes\n",
    "# notes = notes.map(lambda note: ids_from_notes[note]) \\\n",
    "# \t.reset_index() \\\n",
    "# \t.pitch\n",
    "# np.save(\n",
    "#     pathlib.Path('data/preprocessed/notes.npy'),\n",
    "#     notes,\n",
    "#     allow_pickle=True\n",
    "# )"
   ]
  },
  {
   "attachments": {},
   "cell_type": "markdown",
   "metadata": {},
   "source": [
    "### Load Notes, Vocabulary, Note Indices\n",
    "\n",
    "The vocabulary and note indices were created using ALL of the available midi files in the Maestro V2 dataset."
   ]
  },
  {
   "cell_type": "code",
   "execution_count": 19,
   "metadata": {},
   "outputs": [],
   "source": [
    "vocab, ids_from_notes, notes_from_ids = np.load(\n",
    "\t'data/preprocessed/vocab_ids_notes.npy',\n",
    "\tallow_pickle=True\n",
    ")\n",
    "notes = np.load('data/preprocessed/notes.npy', allow_pickle=True)"
   ]
  },
  {
   "cell_type": "markdown",
   "metadata": {},
   "source": [
    "### Create Dataset\n",
    "\n",
    "Here we are using time_series_dataset_from_array to create batches of sequences that have a length of SEQ_LEN. Next, we map each batch over the split_input_target function to create an input and a target of shape (batch_size, SEQ_LEN-1). \n",
    "\n",
    "It is important to our understanding that we realize time_series_dataset_from_array will take a sequence of events [x1, x2, ...,  x_n] and produce a tensor of sequences: \n",
    "\n",
    "[[x1, x2, ..., x_seq_len], \n",
    "<br>[x_seq_len, x_seq_len+1, ..., x_seq_len*2],\n",
    "<br>[  ...  ]\n",
    "<br>[x_n-seq_len, x_n+1-seq_len, ..., x_n]]\n",
    "\n",
    "Where [x_n-seq_len, x_n+1-seq_len, ..., x_n]] is the last sequence in the batch."
   ]
  },
  {
   "cell_type": "code",
   "execution_count": 9,
   "metadata": {},
   "outputs": [],
   "source": [
    "batch_size = 64\n",
    "buffer_size = 750\n",
    "# removed .shuffle(buffer_size) \\ after \".map(split) \\\"\n",
    "\n",
    "split = lambda seq: (seq[:, :-1], seq[:, 1:])\n",
    "def reshape(x, y):\n",
    "    x, y = tf.squeeze(x), tf.squeeze(y)\n",
    "    x.set_shape((batch_size, SEQ_LEN))\n",
    "    y.set_shape((batch_size, SEQ_LEN))\n",
    "    return x, y\n",
    "\n",
    "dataset = timeseries_dataset_from_array(\n",
    "    data=notes,\n",
    "    targets=None,\n",
    "    sequence_length=SEQ_LEN+1,\n",
    "    batch_size=1\n",
    ") \\\n",
    "    .map(split) \\\n",
    "    .batch(batch_size, drop_remainder=True) \\\n",
    "    .map(reshape) \\\n",
    "    .prefetch(buffer_size)\n",
    "\n",
    "# tf.data.experimental.save(dataset, 'data/preprocessed/1282_notes')"
   ]
  },
  {
   "cell_type": "markdown",
   "metadata": {},
   "source": [
    "### Model Definition and Initialization"
   ]
  },
  {
   "cell_type": "code",
   "execution_count": 10,
   "metadata": {},
   "outputs": [],
   "source": [
    "vocab_size = len(vocab)\n",
    "embedding_dim = 256\n",
    "units = 256\n",
    "\n",
    "class MusicGenRnnV3(keras.Model):\n",
    "    def __init__(self, vocab_size, embedding_dim, units):\n",
    "        super().__init__(self)\n",
    "        self.embedding = Embedding(vocab_size, embedding_dim)\n",
    "        self.lstm = Bidirectional(LSTM(units//2, return_sequences=True, return_state=True))\n",
    "        self.out = Dense(vocab_size)\n",
    "    \n",
    "    def call(self, inputs, states=None, return_states=False, training=False):\n",
    "        x = inputs\n",
    "        x = self.embedding(x, training=training)\n",
    "        x, fwd_h, fwd_c, bkwd_h, bkwd_c = self.lstm(x, initial_state=states, training=training)\n",
    "        x = self.out(x, training=training)\n",
    "\n",
    "        if return_states:\n",
    "            return (x, [fwd_h, fwd_c, bkwd_h, bkwd_c])\n",
    "        else:\n",
    "            return x\n",
    "\n",
    "model = MusicGenRnnV3(vocab_size, embedding_dim, units)\n",
    "optimizer = tf.keras.optimizers.Adam(learning_rate=0.001, clipvalue=.5)\n",
    "loss = keras.losses.SparseCategoricalCrossentropy(from_logits=True)\n",
    "model.compile(optimizer=optimizer, loss=loss)"
   ]
  },
  {
   "cell_type": "markdown",
   "metadata": {},
   "source": [
    "### Training"
   ]
  },
  {
   "cell_type": "code",
   "execution_count": 11,
   "metadata": {},
   "outputs": [
    {
     "name": "stdout",
     "output_type": "stream",
     "text": [
      "Epoch 1/100\n",
      "106006/106006 [==============================] - 9801s 92ms/step - loss: 0.1187\n",
      "Epoch 2/100\n",
      "106006/106006 [==============================] - 9832s 93ms/step - loss: 0.0280\n",
      "Epoch 3/100\n",
      "106006/106006 [==============================] - 9848s 93ms/step - loss: 0.0224\n",
      "Epoch 4/100\n",
      "106006/106006 [==============================] - 9837s 93ms/step - loss: 0.0202\n",
      "Epoch 5/100\n",
      "106006/106006 [==============================] - 9847s 93ms/step - loss: 0.0191\n",
      "Epoch 6/100\n",
      "106006/106006 [==============================] - 9826s 93ms/step - loss: 0.0181\n",
      "Epoch 7/100\n",
      "106006/106006 [==============================] - 9831s 93ms/step - loss: 0.0175\n",
      "Epoch 8/100\n",
      "106006/106006 [==============================] - 9833s 93ms/step - loss: 0.0171\n",
      "Epoch 9/100\n",
      "106006/106006 [==============================] - 9830s 93ms/step - loss: 0.0168\n",
      "Epoch 10/100\n",
      "106006/106006 [==============================] - 9857s 93ms/step - loss: 0.0165\n",
      "Epoch 11/100\n",
      "106006/106006 [==============================] - 9858s 93ms/step - loss: 0.0164\n",
      "Epoch 12/100\n",
      "106006/106006 [==============================] - 9865s 93ms/step - loss: 0.0162\n",
      "Epoch 13/100\n",
      "106006/106006 [==============================] - 9883s 93ms/step - loss: 0.0158\n",
      "Epoch 14/100\n",
      "106006/106006 [==============================] - 9879s 93ms/step - loss: 0.0155\n",
      "Epoch 15/100\n",
      "106006/106006 [==============================] - 9875s 93ms/step - loss: 0.0155\n",
      "Epoch 16/100\n",
      "106006/106006 [==============================] - 9884s 93ms/step - loss: 0.0155\n",
      "Epoch 17/100\n",
      "106006/106006 [==============================] - 9871s 93ms/step - loss: 0.0156\n",
      "Epoch 18/100\n",
      "106006/106006 [==============================] - 9876s 93ms/step - loss: 0.0153\n",
      "Epoch 19/100\n",
      "106006/106006 [==============================] - 9877s 93ms/step - loss: 0.0152\n",
      "Epoch 20/100\n",
      "106006/106006 [==============================] - 9878s 93ms/step - loss: 0.0153\n",
      "Epoch 21/100\n",
      "106006/106006 [==============================] - 9884s 93ms/step - loss: 0.0153\n",
      "Epoch 22/100\n",
      "106006/106006 [==============================] - ETA: 0s - loss: 0.0154Restoring model weights from the end of the best epoch: 19.\n",
      "106006/106006 [==============================] - 9876s 93ms/step - loss: 0.0154\n",
      "Epoch 22: early stopping\n"
     ]
    },
    {
     "name": "stderr",
     "output_type": "stream",
     "text": [
      "WARNING:absl:Found untraced functions such as lstm_cell_4_layer_call_fn, lstm_cell_4_layer_call_and_return_conditional_losses, lstm_cell_5_layer_call_fn, lstm_cell_5_layer_call_and_return_conditional_losses while saving (showing 4 of 4). These functions will not be directly callable after loading.\n"
     ]
    },
    {
     "name": "stdout",
     "output_type": "stream",
     "text": [
      "INFO:tensorflow:Assets written to: models\\V3.0\\generator\\seq_len_256\\model\\assets\n"
     ]
    },
    {
     "name": "stderr",
     "output_type": "stream",
     "text": [
      "INFO:tensorflow:Assets written to: models\\V3.0\\generator\\seq_len_256\\model\\assets\n"
     ]
    }
   ],
   "source": [
    "callbacks = [\n",
    "    keras.callbacks.ModelCheckpoint(\n",
    "        filepath=MODEL_PATH+f'generator/seq_len_{SEQ_LEN}/checkpoints/'+'ckpt_{epoch}',\n",
    "        save_weights_only=True),\n",
    "    keras.callbacks.EarlyStopping(\n",
    "        monitor='loss',\n",
    "        patience=3,\n",
    "        verbose=1,\n",
    "        restore_best_weights=True),\n",
    "]\n",
    "history = model.fit(dataset, epochs=100, callbacks=callbacks)\n",
    "model.save(pathlib.Path(MODEL_PATH+f'generator/seq_len_{SEQ_LEN}/model/'))"
   ]
  },
  {
   "cell_type": "markdown",
   "metadata": {},
   "source": [
    "# Generation"
   ]
  },
  {
   "attachments": {},
   "cell_type": "markdown",
   "metadata": {},
   "source": [
    "### Create OneStep Model"
   ]
  },
  {
   "cell_type": "code",
   "execution_count": 22,
   "metadata": {},
   "outputs": [],
   "source": [
    "class OneStep(tf.keras.Model):\n",
    "  def __init__(self, model, vocabulary, temperature=0.1):\n",
    "    super().__init__(self)\n",
    "    self.temperature = temperature\n",
    "    self.model = model\n",
    "    self.ids_from_notes = tf.keras.layers.StringLookup(vocabulary=list(vocabulary), mask_token=None)\n",
    "    self.notes_from_ids = tf.keras.layers.StringLookup(vocabulary=list(vocabulary), mask_token=None, invert=True)\n",
    "    self.ids_from_notes.compile(run_eagerly=True)\n",
    "  @tf.function\n",
    "  def call(self, inputs, states=None):\n",
    "    # predicted_logits.shape = [batch_size, SEQ_LEN, vocab_size]\n",
    "    input_ids = self.ids_from_notes(tf.expand_dims(inputs, axis=0))\n",
    "    predicted_logits, states = self.model(input_ids, states=states, return_states=True)\n",
    "    predicted_logits = predicted_logits[:, -1, :]\n",
    "    predicted_logits = predicted_logits / self.temperature\n",
    "\n",
    "    # Choose a random sample from top 5% of logits\n",
    "    predicted_ids = tf.random.categorical(predicted_logits, num_samples=1)\n",
    "    predicted_ids = tf.squeeze(predicted_ids, axis=-1)\n",
    "\n",
    "    prediction = self.notes_from_ids(predicted_ids)\n",
    "\n",
    "    # Return the int_id of note and model state.\n",
    "    return prediction, states\n",
    "\n",
    "# Declare, Initialize, and Save Step Model\n",
    "one_step_model = OneStep(model, vocab)\n",
    "tmp = one_step_model(\n",
    "  notes.map(lambda note: notes_from_ids[note]).to_numpy()[:SEQ_LEN]\n",
    ")\n",
    "# one_step_model.save(pathlib.Path(f'models/V3.0/step/seq_len_{SEQ_LEN}'))"
   ]
  },
  {
   "attachments": {},
   "cell_type": "markdown",
   "metadata": {},
   "source": [
    "### Generate new notes"
   ]
  },
  {
   "cell_type": "code",
   "execution_count": 35,
   "metadata": {},
   "outputs": [
    {
     "name": "stdout",
     "output_type": "stream",
     "text": [
      "Input: ['C#5', 'A#2', 'A#1', 'F#6', 'E4,F#5', 'F#3', 'C#4,C#6', 'E6', 'G#5', 'B2', 'E5', 'B1', 'F#2', 'C#2', 'B3', 'B2', 'D#5', 'F#5', 'D#6', 'D#6', 'F#5', 'D#5', 'B3', 'A4', 'F#4', 'C#6', 'A4', 'B3', 'F#4', 'C#6', 'C#5,E5', 'F#4', 'B3', 'A4', 'A4', 'B3', 'F#4,F#5', 'D#5', 'D#6', 'E6', 'B2', 'G#5', 'E5', 'B1', 'D#5', 'F#5', 'D#6', 'C3', 'C2', 'C#3', 'C#2', 'C#5,C#6', 'E5', 'C#6', 'C#5', 'E5', 'A3', 'A2', 'C#3', 'A#2', 'D#6', 'F#5', 'D#5', 'F#3', 'F#2', 'G#3', 'C#6', 'C#5,E5', 'G#2', 'C6', 'D#5', 'C5', 'G#2', 'G#1', 'A#5', 'C#3', 'C#5,C#6', 'E5', 'C#2', 'G#3', 'G#4', 'C#4', 'E3', 'E4', 'F4', 'G#3', 'G#4', 'C#4', 'C#5', 'C#4', 'G#3', 'G#4', 'G#4', 'C#4,G#3', 'E4', 'C#5,E4', 'G#3,G#4', 'C#4', 'E5', 'E4', 'C#4', 'G#4', 'C#5', 'G#4', 'E4', 'G#5', 'C#5', 'E5', 'C#5', 'G5', 'C#5,G#5', 'A5', 'C#5', 'E5', 'C#5', 'A#5', 'E5', 'C#5', 'B5', 'E5', 'C6', 'E5', 'G#5', 'C#6', 'G#5', 'E5', 'E4', 'C#5', 'G#4', 'C#5', 'D#4', 'F#4', 'F4', 'D#4', 'C5', 'F#4', 'A6', 'B4,F#4', 'A5', 'C5', 'F#4', 'D#4', 'C#5', 'F#4', 'G#6', 'C5', 'G#5', 'D#4', 'F#4', 'B4', 'F#4', 'A4', 'G#5', 'G#4', 'C5', 'G#4', 'E4', 'G#5', 'C#5', 'E5', 'G5', 'C#5', 'C#5', 'G#5', 'E5', 'A5', 'C#5', 'E5', 'C#5', 'A#5', 'E5', 'C#5', 'B5', 'E5', 'C6', 'C#6', 'G#5', 'E5', 'C#6', 'E4', 'E5', 'C#5,G#5', 'G#4', 'C#5', 'D#4', 'F#4', 'D#4', 'C5', 'F#4', 'F#4', 'A6,D#4', 'B4', 'A5', 'C5', 'D#4', 'F#4', 'C#5', 'D#4', 'F#4', 'F#4', 'D#5', 'F#6', 'F#5', 'C#5', 'F#4', 'A4', 'C5,F#4', 'A4', 'B5', 'F#4', 'F#5', 'D#5', 'B4', 'G#4', 'B5', 'E5', 'G#5', 'A#5', 'G#5', 'E5', 'B5', 'G#5', 'E5', 'C6', 'G#5', 'E5', 'C#6', 'G#5', 'E5', 'G#5', 'D6,E5', 'D#6', 'G#5', 'B5', 'E6,G#5', 'B5', 'G#4', 'B4,E5', 'E5', 'A4', 'F#4', 'A4', 'F#4', 'D#5', 'C7', 'D5', 'C6', 'A4', 'F#4', 'D#5', 'F#4', 'A4', 'E5', 'F#4', 'A4', 'D#5'] \n",
      "\n",
      "Results ['F#3,G7', 'C#5', 'A#2', 'A#1', 'F#6', 'D#7,F#4', 'F#3', 'C3,G1', 'E6', 'G#5', 'B2', 'E5', 'B1', 'F#2', 'C#2', 'B3', 'B2', 'D#5', 'F#5', 'D#6', 'D#6', 'F#5', 'D#5', 'B3', 'A4', 'F#4', 'C#6', 'A4', 'B3', 'F#4', 'A3,C5,F4', 'C5,C6,E4,E5', 'F#4', 'B3', 'A4', 'A4', 'B3', 'C7,D6,G#2', 'D#5', 'D#6', 'E6', 'B2', 'G#5', 'E5', 'B1', 'D#5', 'F#5', 'D#6', 'C3', 'C2', 'C#3', 'C#2', 'A#3,A#4,G6', 'E5', 'C#6', 'C#5', 'E5', 'A3', 'A2', 'C#3', 'A#2', 'D#6', 'F#5', 'D#5', 'F#3', 'F#2', 'G#3', 'C#6', 'D4,G2,G3', 'G#2', 'C6', 'D#5', 'C5', 'G#2', 'G#1', 'A#5', 'C#3', 'A#2,G2,G3', 'E5', 'C#2', 'G#3', 'G#4', 'C#4', 'E3', 'E4', 'F4', 'G#3', 'G#4', 'C#4', 'C#5', 'C#4', 'G#3', 'G#4', 'G#4', 'C#4,G#3', 'E4', 'E2,E4,G4', 'G#3,G#4', 'C#4', 'E5', 'E4', 'C#4', 'G#4', 'C#5', 'G#4', 'E4', 'G#5', 'C#5', 'E5', 'C#5', 'G5', 'A#3,E4,F#5', 'A5', 'C#5', 'E5', 'C#5', 'A#5', 'E5', 'C#5', 'B5', 'E5', 'C6', 'E5', 'G#5', 'C#6', 'G#5', 'E5', 'E4', 'C#5', 'G#4', 'C#5', 'D#4', 'F#4', 'F4', 'D#4', 'C5', 'F#4', 'A#5,C#5,G#3', 'C5,F#4', 'A5', 'C5', 'F#4', 'D#4', 'C#5', 'F#4', 'E2,E4,G4', 'C5', 'G#5', 'D#4', 'F#4', 'B4', 'F#4', 'A4', 'G#5', 'G#4', 'C5', 'G#4', 'E4', 'G#5', 'C#5', 'E5', 'G5', 'C#5', 'C#5', 'G#5', 'E5', 'A5', 'C#5', 'E5', 'C#5', 'A#5', 'E5', 'C#5', 'B5', 'E5', 'C6', 'C#6', 'G#5', 'E5', 'C#6', 'E4', 'E5', 'A#6,F#5,G#5', 'G#4', 'C#5', 'D#4', 'F#4', 'D#4', 'C5', 'F#4', 'F#4', 'A4,D5,F5', 'B4', 'A5', 'C5', 'D#4', 'F#4', 'C#5', 'D#4', 'F#4', 'F#4', 'D#5', 'F#6', 'F#5', 'C#5', 'F#4', 'A4', 'B2,D#4,G#4', 'A4', 'B5', 'F#4', 'F#5', 'D#5', 'B4', 'G#4', 'B5', 'E5', 'G#5', 'A#5', 'G#5', 'E5', 'B5', 'G#5', 'E5', 'C6', 'G#5', 'E5', 'C#6', 'G#5', 'E5', 'G#5', 'B1,G#4,G#5', 'D#6', 'G#5', 'B5', 'A1,D3,D4', 'B5', 'G#4', 'C3,E3,F#4,F#5', 'E5', 'A4', 'F#4', 'A4', 'F#4', 'D#5', 'A#3,C#7', 'D5', 'C6', 'A4', 'F#4', 'D#5', 'F#4', 'A4', 'E5', 'F#4', 'A4']\n"
     ]
    }
   ],
   "source": [
    "# Get indices for a random input sequence from notes\n",
    "start = np.random.choice([i for i in range(len(notes)-SEQ_LEN-1)])\n",
    "end = start + SEQ_LEN\n",
    "\n",
    "# Set initial states, sequence, and results\n",
    "states = None\n",
    "next_note = notes \\\n",
    "  .map(lambda note: notes_from_ids[note]) \\\n",
    "  .to_numpy()[start:end]\n",
    "results = list(next_note)\n",
    "\n",
    "steps = 256\n",
    "for n in range(steps):\n",
    "  pred_note, states = one_step_model(next_note, states=states)\n",
    "  pred_note = pred_note.numpy()[0].decode('utf-8') \n",
    "  next_note = np.append(next_note[1::], pred_note)\n",
    "  results.append(pred_note)\n",
    "print(\n",
    "  'Input:', results[:SEQ_LEN], \n",
    "  '\\n\\nResults', results[SEQ_LEN:]\n",
    ")"
   ]
  },
  {
   "attachments": {},
   "cell_type": "markdown",
   "metadata": {},
   "source": [
    "### Cosine Similarity"
   ]
  },
  {
   "cell_type": "code",
   "execution_count": 43,
   "metadata": {},
   "outputs": [
    {
     "data": {
      "text/plain": [
       "-0.041484485256127024"
      ]
     },
     "execution_count": 43,
     "metadata": {},
     "output_type": "execute_result"
    }
   ],
   "source": [
    "orig = np.vectorize(lambda x: ids_from_notes[x])(results[:SEQ_LEN])\n",
    "gen = np.vectorize(lambda x: ids_from_notes[x])(results[SEQ_LEN:SEQ_LEN*2])\n",
    "\n",
    "cos_sim = np.dot(gen, orig) \\\n",
    "    / (np.linalg.norm(gen) * np.linalg.norm(orig))\n",
    "cos_sim"
   ]
  },
  {
   "cell_type": "markdown",
   "metadata": {},
   "source": [
    "### Extract Input & Target Sequence to DataFrame"
   ]
  },
  {
   "cell_type": "code",
   "execution_count": 37,
   "metadata": {},
   "outputs": [],
   "source": [
    "def notes_to_df(input: list) -> pd.DataFrame:\n",
    "    '''\n",
    "        Params:\n",
    "            input: list[str] - contains a sequence of notes, chords\n",
    "                should be a single string with each key separated by a comma\n",
    "        Returns:\n",
    "            pd.DataFrame(cols=['pitch', 'start', 'end', 'duration', 'step'])\n",
    "    '''\n",
    "    notes = pd.DataFrame(columns=['pitch', 'start', 'end', 'duration', 'step'])\n",
    "    temp, j = (0.2, 0.5)\n",
    "    for i in range(len(input)):\n",
    "        if input[i] != '[END]':\n",
    "            j+= temp\n",
    "            notes.loc[i] = (input[i].split(','), j, j+.1, .1, temp)\n",
    "        else:\n",
    "            break\n",
    "    return notes.explode('pitch')\n",
    "    \n",
    "orig_df = notes_to_df(results[1:SEQ_LEN])\n",
    "notes_df = notes_to_df(results[SEQ_LEN:])"
   ]
  },
  {
   "cell_type": "markdown",
   "metadata": {},
   "source": [
    "### Extract Instrument"
   ]
  },
  {
   "cell_type": "code",
   "execution_count": 38,
   "metadata": {},
   "outputs": [],
   "source": [
    "file = pretty_midi.PrettyMIDI(filenames[0])\n",
    "instrument_name = pretty_midi.program_to_instrument_name(file.instruments[0].program)"
   ]
  },
  {
   "cell_type": "markdown",
   "metadata": {},
   "source": [
    "### Save MIDI files"
   ]
  },
  {
   "cell_type": "code",
   "execution_count": 39,
   "metadata": {},
   "outputs": [],
   "source": [
    "def df_to_midi(\n",
    "        notes: pd.DataFrame,\n",
    "        out_file: str, \n",
    "        instrument_name: str,\n",
    "        velocity: int = 90,  # note loudness\n",
    ") -> pretty_midi.PrettyMIDI:\n",
    "    file = pretty_midi.PrettyMIDI()\n",
    "    instrument = pretty_midi.Instrument(\n",
    "        program=pretty_midi.instrument_name_to_program(\n",
    "        instrument_name))\n",
    "    for i, note in notes.iterrows():\n",
    "        note = pretty_midi.Note(\n",
    "            velocity=velocity,\n",
    "            pitch=int(pretty_midi.note_name_to_number(note['pitch'])),\n",
    "            start=note['start'],\n",
    "            end=note['end'],\n",
    "        )\n",
    "        instrument.notes.append(note)\n",
    "    file.instruments.append(instrument)\n",
    "    file.write(out_file)\n",
    "\n",
    "df_to_midi(orig_df, 'input_seq.midi', instrument_name)\n",
    "df_to_midi(notes_df, f'seq_len_{SEQ_LEN}_steps_{steps}.midi', instrument_name)"
   ]
  },
  {
   "cell_type": "markdown",
   "metadata": {},
   "source": [
    "### Prep and Plot the DataFrames"
   ]
  },
  {
   "cell_type": "code",
   "execution_count": 40,
   "metadata": {},
   "outputs": [],
   "source": [
    "orig_df.pitch = orig_df.pitch.map(pretty_midi.note_name_to_number)\n",
    "notes_df.pitch = notes_df.pitch.map(pretty_midi.note_name_to_number)"
   ]
  },
  {
   "cell_type": "code",
   "execution_count": 41,
   "metadata": {},
   "outputs": [
    {
     "data": {
      "image/png": "[encoded data removed]",
      "text/plain": [
       "<Figure size 2000x400 with 1 Axes>"
      ]
     },
     "metadata": {},
     "output_type": "display_data"
    }
   ],
   "source": [
    "plot_piano_roll(notes_df, 256)"
   ]
  },
  {
   "cell_type": "code",
   "execution_count": 42,
   "metadata": {},
   "outputs": [
    {
     "data": {
      "image/png": "[encoded data removed]",
      "text/plain": [
       "<Figure size 2000x400 with 1 Axes>"
      ]
     },
     "metadata": {},
     "output_type": "display_data"
    }
   ],
   "source": [
    "plot_piano_roll(orig_df, 256)"
   ]
  }
 ],
 "metadata": {
  "kernelspec": {
   "display_name": "tf",
   "language": "python",
   "name": "python3"
  },
  "language_info": {
   "codemirror_mode": {
    "name": "ipython",
    "version": 3
   },
   "file_extension": ".py",
   "mimetype": "text/x-python",
   "name": "python",
   "nbconvert_exporter": "python",
   "pygments_lexer": "ipython3",
   "version": "3.9.16"
  },
  "orig_nbformat": 4,
  "vscode": {
   "interpreter": {
    "hash": "9a9f9d2636d429c0263fe515000376bf2e0f1a96bb6efde409a9a507504e7fc3"
   }
  }
 },
 "nbformat": 4,
 "nbformat_minor": 2
}

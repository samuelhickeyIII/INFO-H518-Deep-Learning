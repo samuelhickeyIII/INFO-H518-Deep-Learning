{
 "cells": [
  {
   "cell_type": "markdown",
   "metadata": {},
   "source": [
    "# Author: Samuel Hickey\n",
    "\n",
    "### Word-level (notes and chords treated as singular words) Music Generating RNN\n",
    "### Version 2.0: Next Word Prediction\n",
    "\n",
    "In version 1, we followed the Tensorflow tutorial from Magenta to attempt to generate Music using RNNs.\n",
    "\n",
    "In version 2, we will diverge from the approach of V1 and attempt to generate notes in a manner similar to generating sentences in NLP.\n",
    "We will train the model using next word prediction. Our vocabulary will consist of all notes and note combinations found in the Maestro v2 dataset (~12000 different combinations)\n"
   ]
  },
  {
   "cell_type": "markdown",
   "metadata": {},
   "source": [
    "## Imports"
   ]
  },
  {
   "cell_type": "code",
   "execution_count": 1,
   "metadata": {},
   "outputs": [],
   "source": [
    "import collections\n",
    "import glob\n",
    "import keras\n",
    "import numpy as np\n",
    "import pathlib\n",
    "import pandas as pd\n",
    "import pretty_midi\n",
    "import seaborn as sns\n",
    "import tensorflow as tf\n",
    "import warnings\n",
    "\n",
    "from numba import jit\n",
    "from keras.layers import (BatchNormalization, Bidirectional, CategoryEncoding, Embedding, Dense, Dropout, LSTM)\n",
    "from keras.utils import timeseries_dataset_from_array\n",
    "from keras.preprocessing.text import Tokenizer\n",
    "from scipy import spatial\n",
    "from utilities.DatasetUtils import plot_piano_roll\n",
    "\n",
    "warnings.filterwarnings(\"ignore\")\n",
    "\n",
    "_SAMPLING_RATE = 16000\n",
    "SEQ_LEN = 128"
   ]
  },
  {
   "cell_type": "markdown",
   "metadata": {},
   "source": [
    "### Select Dataset"
   ]
  },
  {
   "cell_type": "code",
   "execution_count": 2,
   "metadata": {},
   "outputs": [
    {
     "name": "stdout",
     "output_type": "stream",
     "text": [
      "Number of files: 1282\n"
     ]
    }
   ],
   "source": [
    "data_dir = pathlib.Path('data/maestro-v2.0.0')\n",
    "filenames = glob.glob(str(data_dir/'*/*.mid*'))\n",
    "print('Number of files:', len(filenames))"
   ]
  },
  {
   "cell_type": "markdown",
   "metadata": {},
   "source": [
    "### Extract the Notes\n",
    "\n",
    "For each song, we round the start times of each note to the nearest one-thousandth of a second and consider any notes with the same start time to be a chord i.e. a new term in our vocabulary. Each step contains at least one key and as many as seven keys."
   ]
  },
  {
   "cell_type": "code",
   "execution_count": 42,
   "metadata": {},
   "outputs": [],
   "source": [
    "def midi_to_notes(midi_file: str) -> pd.DataFrame:\n",
    "\tpm = pretty_midi.PrettyMIDI(midi_file)\n",
    "\tinstrument = pm.instruments[0]\n",
    "\tnotes = collections.defaultdict(list)\n",
    "\tnotes['pitch'].append('[START]')\n",
    "\tnotes['start'].append(0)\n",
    "\tfor note in sorted(instrument.notes, key=lambda note: note.start):\n",
    "\t\tnotes['pitch'].append(pretty_midi.note_number_to_name(note.pitch))\n",
    "\t\tnotes['start'].append(round(note.start, 3))\n",
    "\tnotes['pitch'].append('[END]')\n",
    "\tnotes['start'].append(round(note.start, 2) + 3)\n",
    "\n",
    "\tresult = pd.DataFrame({name: np.array(value) for name, value in notes.items()}) \\\n",
    "\t\t.groupby('start') \\\n",
    "\t\t.agg({'pitch': sorted}) \\\n",
    "\t\t.reset_index() \\\n",
    "\t\t.pitch.str.join(',') \\\n",
    "\t\t.to_frame()\n",
    "\treturn result\n",
    "\n",
    "# Load the files\n",
    "num_files = len(filenames)\n",
    "notes = []\n",
    "for f in filenames[:num_files]:\n",
    "    df = midi_to_notes(f)\n",
    "    notes.append(df)\n",
    "notes = pd.concat(notes).pitch"
   ]
  },
  {
   "cell_type": "markdown",
   "metadata": {},
   "source": [
    "### Save Notes, Vocabulary, Character Indices"
   ]
  },
  {
   "cell_type": "code",
   "execution_count": 29,
   "metadata": {},
   "outputs": [],
   "source": [
    "# Create a vocabulary, id-lookup, and note-lookup\n",
    "vocab = np.unique(notes.to_numpy())\n",
    "ids_from_notes = {v:k for k, v in enumerate(vocab)}\n",
    "notes_from_ids = {k:v for k, v in enumerate(vocab)}\n",
    "np.save(\n",
    "    pathlib.Path('data/preprocessed/vocab_ids_notes.npy'),\n",
    "    [vocab, ids_from_notes, notes_from_ids],\n",
    "    allow_pickle=True\n",
    ")\n",
    "# Integer encode the notes\n",
    "notes = notes.map(lambda note: ids_from_notes[note]) \\\n",
    "\t.reset_index() \\\n",
    "\t.pitch\n",
    "np.save(\n",
    "    pathlib.Path('data/preprocessed/notes.npy'),\n",
    "    notes,\n",
    "    allow_pickle=True\n",
    ")"
   ]
  },
  {
   "attachments": {},
   "cell_type": "markdown",
   "metadata": {},
   "source": [
    "### Load Notes, Vocabulary, Character Indices\n",
    "\n",
    "As mentioned earlier, the vocabulary and character indices were created using ALL of the available midi files in the Maestro V2 dataset."
   ]
  },
  {
   "cell_type": "code",
   "execution_count": 33,
   "metadata": {},
   "outputs": [],
   "source": [
    "vocab, ids_from_chars, chars_from_ids = np.load(\n",
    "\t'data/preprocessed/vocab_ids_notes.npy',\n",
    "\tallow_pickle=True\n",
    ")\n",
    "notes = np.load('data/preprocessed/notes.npy', allow_pickle=True)"
   ]
  },
  {
   "cell_type": "markdown",
   "metadata": {},
   "source": [
    "### Create Dataset\n",
    "\n",
    "Here we are using time_series_dataset_from_array to create batches of sequences that have a length of SEQ_LEN. Next, we map each batch over the split_input_target function to create an input of shape (batch_size, SEQ_LEN-1) and a target of shape (batch_size, 1). \n",
    "\n",
    "It is important to our understanding that we realize time_series_dataset_from_array will take a sequence of events [x1, x2, ...,  x_n] and produce a tensor of sequences: \n",
    "\n",
    "[[x1, x2, ..., x_seq_len], \n",
    "<br>[x_seq_len, x_seq_len+1, ..., x_seq_len*2],\n",
    "<br>[  ...  ]\n",
    "<br>[x_n-seq_len, x_n+1-seq_len, ..., x_n]]\n",
    "\n",
    "Where [x_n-seq_len, x_n+1-seq_len, ..., x_n]] is the last sequence in the batch."
   ]
  },
  {
   "cell_type": "code",
   "execution_count": 34,
   "metadata": {},
   "outputs": [],
   "source": [
    "def split_input_target(seq):\n",
    "    layer = CategoryEncoding(num_tokens=len(vocab)+1, output_mode=\"one_hot\")\n",
    "    inputs, targets = seq[:, :-1], seq[:, -1]\n",
    "    return (\n",
    "        inputs,\n",
    "        layer(targets)\n",
    "    )\n",
    "dataset = timeseries_dataset_from_array(notes, None, SEQ_LEN, batch_size=64) \\\n",
    "    .map(split_input_target)"
   ]
  },
  {
   "cell_type": "markdown",
   "metadata": {},
   "source": [
    "### Model Definition and Initialization"
   ]
  },
  {
   "cell_type": "code",
   "execution_count": 36,
   "metadata": {},
   "outputs": [],
   "source": [
    "model = keras.models.Sequential([\n",
    "    Embedding(len(vocab)+1, 128, input_length=SEQ_LEN),\n",
    "    Bidirectional(LSTM(128, return_sequences=True)),\n",
    "    Dropout(.2),\n",
    "    Bidirectional(LSTM(128)),\n",
    "    Dropout(.2),\n",
    "    Dense(128, activation='relu'),\n",
    "    Dense(len(vocab)+1, activation='softmax')\n",
    "])\n",
    "callbacks = [\n",
    "    keras.callbacks.ModelCheckpoint(\n",
    "        filepath='./training_checkpoints/ckpt_{epoch}',\n",
    "        save_weights_only=True),\n",
    "    keras.callbacks.EarlyStopping(\n",
    "        monitor='loss',\n",
    "        patience=5,\n",
    "        verbose=1,\n",
    "        restore_best_weights=True),\n",
    "]\n",
    "optimizer = tf.keras.optimizers.Adam(learning_rate=0.001, clipvalue=.5)\n",
    "\n",
    "model.compile(optimizer=optimizer, loss='categorical_crossentropy')"
   ]
  },
  {
   "cell_type": "markdown",
   "metadata": {},
   "source": [
    "### Training"
   ]
  },
  {
   "cell_type": "code",
   "execution_count": null,
   "metadata": {},
   "outputs": [],
   "source": [
    "history = model.fit(dataset, epochs=200, callbacks=callbacks)"
   ]
  },
  {
   "cell_type": "markdown",
   "metadata": {},
   "source": [
    "### Save the Model"
   ]
  },
  {
   "cell_type": "code",
   "execution_count": null,
   "metadata": {},
   "outputs": [],
   "source": [
    "model.save(pathlib.Path(f'models/V2.0/EXPERIMENTAL/trained_on_{num_files}/seq_len_{SEQ_LEN}'))"
   ]
  },
  {
   "cell_type": "markdown",
   "metadata": {},
   "source": [
    "# Supported Generation"
   ]
  },
  {
   "cell_type": "markdown",
   "metadata": {},
   "source": [
    "### Load Model and Make Prediction"
   ]
  },
  {
   "cell_type": "code",
   "execution_count": 69,
   "metadata": {},
   "outputs": [],
   "source": [
    "model = keras.models.load_model(f'models/V2.0/trained_on_{num_files}/seq_len_{SEQ_LEN}', custom_objects={'optimizer':optimizer})\n",
    "\n",
    "# Prediction\n",
    "num_steps = 256\n",
    "preds = model(list(timeseries_dataset_from_array(notes[SEQ_LEN:SEQ_LEN*13], targets=None, sequence_length=SEQ_LEN, batch_size=num_steps))[0]).numpy()"
   ]
  },
  {
   "cell_type": "markdown",
   "metadata": {},
   "source": [
    "### Extract Input & Target Sequence to DataFrame"
   ]
  },
  {
   "cell_type": "code",
   "execution_count": 70,
   "metadata": {},
   "outputs": [],
   "source": [
    "# Inputs\n",
    "to_notes = np.vectorize(lambda x: notes_from_ids[x].split(','))\n",
    "orig = list(map(to_notes, notes[SEQ_LEN:SEQ_LEN*13]))\n",
    "notes_ = []\n",
    "start = []\n",
    "j = 0.75\n",
    "for i in orig:\n",
    "    temp = .2\n",
    "    j += temp\n",
    "    notes_.append((i[0], j, j+.1, .1, temp))\n",
    "orig_df = pd.DataFrame(notes_, columns=['pitch', 'start', 'end', 'duration', 'step']).explode('pitch')\n",
    "\n",
    "\n",
    "# Target\n",
    "notes_ = []\n",
    "start = []\n",
    "j = 0.75\n",
    "for i in range(len(preds)):\n",
    "    temp = .2\n",
    "    j += temp\n",
    "    notes_.append((notes_from_ids[list(preds[i]).index(np.max(preds[i]))].split(','), j, j+.1, .1, temp))\n",
    "notes_df = pd.DataFrame(notes_, columns=['pitch', 'start', 'end', 'duration', 'step']).explode('pitch')"
   ]
  },
  {
   "cell_type": "markdown",
   "metadata": {},
   "source": [
    "### Extract Instrument"
   ]
  },
  {
   "cell_type": "code",
   "execution_count": 71,
   "metadata": {},
   "outputs": [],
   "source": [
    "file = pretty_midi.PrettyMIDI(filenames[0])\n",
    "instrument_name = pretty_midi.program_to_instrument_name(file.instruments[0].program)"
   ]
  },
  {
   "cell_type": "markdown",
   "metadata": {},
   "source": [
    "### Save MIDI files"
   ]
  },
  {
   "cell_type": "code",
   "execution_count": 72,
   "metadata": {},
   "outputs": [],
   "source": [
    "def df_to_midi(\n",
    "        notes: pd.DataFrame,\n",
    "        out_file: str, \n",
    "        instrument_name: str,\n",
    "        velocity: int = 90,  # note loudness\n",
    ") -> pretty_midi.PrettyMIDI:\n",
    "    file = pretty_midi.PrettyMIDI()\n",
    "    instrument = pretty_midi.Instrument(\n",
    "        program=pretty_midi.instrument_name_to_program(\n",
    "        instrument_name))\n",
    "    for i, note in notes.iterrows():\n",
    "        note = pretty_midi.Note(\n",
    "            velocity=velocity,\n",
    "            pitch=int(pretty_midi.note_name_to_number(note['pitch'])),\n",
    "            start=note['start'],\n",
    "            end=note['end'],\n",
    "        )\n",
    "        instrument.notes.append(note)\n",
    "    file.instruments.append(instrument)\n",
    "    file.write(out_file)\n",
    "ORIG_PATH = f'data/generated_files/V2.0/trained_on_{num_files}/seq_len_{SEQ_LEN}_steps_{num_steps}_input.midi'\n",
    "GEN_PATH = f'data/generated_files/V2.0/trained_on_{num_files}/seq_len_{SEQ_LEN}_steps_{num_steps}.midi'\n",
    "df_to_midi(orig_df, ORIG_PATH, instrument_name)\n",
    "df_to_midi(notes_df, GEN_PATH, instrument_name)"
   ]
  },
  {
   "cell_type": "markdown",
   "metadata": {},
   "source": [
    "### Prep and Plot the DataFrames"
   ]
  },
  {
   "cell_type": "code",
   "execution_count": 73,
   "metadata": {},
   "outputs": [],
   "source": [
    "orig_df.pitch = orig_df.pitch.map(pretty_midi.note_name_to_number)\n",
    "notes_df.pitch = notes_df.pitch.map(pretty_midi.note_name_to_number)"
   ]
  },
  {
   "cell_type": "code",
   "execution_count": 74,
   "metadata": {},
   "outputs": [
    {
     "data": {
      "image/png": "[encoded data removed]",
      "text/plain": [
       "<Figure size 2000x400 with 1 Axes>"
      ]
     },
     "metadata": {},
     "output_type": "display_data"
    }
   ],
   "source": [
    "plot_piano_roll(notes_df, 256)"
   ]
  },
  {
   "cell_type": "code",
   "execution_count": 75,
   "metadata": {},
   "outputs": [
    {
     "data": {
      "image/png": "[encoded data removed]",
      "text/plain": [
       "<Figure size 2000x400 with 1 Axes>"
      ]
     },
     "metadata": {},
     "output_type": "display_data"
    }
   ],
   "source": [
    "plot_piano_roll(orig_df, 256)"
   ]
  },
  {
   "attachments": {},
   "cell_type": "markdown",
   "metadata": {},
   "source": [
    "### Calculate the Cosine-Similarity between the original song and the predicted notes"
   ]
  },
  {
   "cell_type": "code",
   "execution_count": 76,
   "metadata": {},
   "outputs": [],
   "source": [
    "predicted = midi_to_notes(GEN_PATH) \\\n",
    "    .iloc[1:-1] \\\n",
    "    .pitch \\\n",
    "    .map(lambda note: ids_from_chars[note]) \\\n",
    "    .to_numpy()\n",
    "original = midi_to_notes(ORIG_PATH) \\\n",
    "    .iloc[:256] \\\n",
    "    .pitch \\\n",
    "    .map(lambda note: ids_from_chars[note]) \\\n",
    "    .to_numpy()"
   ]
  },
  {
   "cell_type": "code",
   "execution_count": 77,
   "metadata": {},
   "outputs": [
    {
     "data": {
      "text/plain": [
       "0.8661153431881068"
      ]
     },
     "execution_count": 77,
     "metadata": {},
     "output_type": "execute_result"
    }
   ],
   "source": [
    "cos_sim = np.dot(predicted, original) \\\n",
    "    / (np.linalg.norm(predicted) * np.linalg.norm(original))\n",
    "cos_sim"
   ]
  }
 ],
 "metadata": {
  "kernelspec": {
   "display_name": "Python 3.9.12 ('base')",
   "language": "python",
   "name": "python3"
  },
  "language_info": {
   "codemirror_mode": {
    "name": "ipython",
    "version": 3
   },
   "file_extension": ".py",
   "mimetype": "text/x-python",
   "name": "python",
   "nbconvert_exporter": "python",
   "pygments_lexer": "ipython3",
   "version": "3.9.12"
  },
  "orig_nbformat": 4,
  "vscode": {
   "interpreter": {
    "hash": "3247f7d4635bb288d9e06d3deacee818856115b2677ccfdf5a578edab993fe5f"
   }
  }
 },
 "nbformat": 4,
 "nbformat_minor": 2
}

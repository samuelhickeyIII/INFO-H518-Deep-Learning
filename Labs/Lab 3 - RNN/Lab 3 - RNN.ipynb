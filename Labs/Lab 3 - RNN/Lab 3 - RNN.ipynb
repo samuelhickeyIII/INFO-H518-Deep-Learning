{
 "cells": [
  {
   "cell_type": "code",
   "execution_count": 2,
   "metadata": {},
   "outputs": [
    {
     "name": "stderr",
     "output_type": "stream",
     "text": [
      "C:\\Users\\samue\\AppData\\Local\\Temp\\ipykernel_22208\\706976942.py:7: DeprecationWarning: `magic(...)` is deprecated since IPython 0.13 (warning added in 8.1), use run_line_magic(magic_name, parameter_s).\n",
      "  get_ipython().magic(u'matplotlib inline')\n"
     ]
    }
   ],
   "source": [
    "from numpy import array\n",
    "from keras.models import Sequential\n",
    "from keras.layers import LSTM, GRU\n",
    "from keras.layers import Dense\n",
    "\n",
    "import matplotlib as plt\n",
    "get_ipython().magic(u'matplotlib inline')\n",
    "\n",
    "import datetime as dt\n",
    "import itertools\n",
    "import keras\n",
    "import matplotlib.pyplot as plt\n",
    "import numpy as np\n",
    "import os\n",
    "import pandas as pd\n",
    "import tensorflow as tf"
   ]
  },
  {
   "cell_type": "code",
   "execution_count": 3,
   "metadata": {},
   "outputs": [],
   "source": [
    "def split_sequence(sequence, n_steps=7, lookahead=0):\n",
    "    X, y = list(), list()\n",
    "    for i in range(lookahead,len(sequence)):\n",
    "        # find the end of this pattern\n",
    "        end_ix = i + n_steps\n",
    "        # check if we are beyond the sequence\n",
    "        if end_ix >= len(sequence):\n",
    "            break\n",
    "        # gather input and output parts of the pattern\n",
    "        seq_x, seq_y = sequence[i-lookahead:end_ix-lookahead], sequence[end_ix]\n",
    "        X.append(seq_x)\n",
    "        y.append(seq_y)\n",
    "    return array(X), array(y)"
   ]
  },
  {
   "cell_type": "markdown",
   "metadata": {},
   "source": [
    "### Data preprocessing"
   ]
  },
  {
   "cell_type": "code",
   "execution_count": 4,
   "metadata": {},
   "outputs": [
    {
     "data": {
      "text/html": [
       "<div>\n",
       "<style scoped>\n",
       "    .dataframe tbody tr th:only-of-type {\n",
       "        vertical-align: middle;\n",
       "    }\n",
       "\n",
       "    .dataframe tbody tr th {\n",
       "        vertical-align: top;\n",
       "    }\n",
       "\n",
       "    .dataframe thead th {\n",
       "        text-align: right;\n",
       "    }\n",
       "</style>\n",
       "<table border=\"1\" class=\"dataframe\">\n",
       "  <thead>\n",
       "    <tr style=\"text-align: right;\">\n",
       "      <th></th>\n",
       "      <th>Date</th>\n",
       "      <th>Price</th>\n",
       "    </tr>\n",
       "  </thead>\n",
       "  <tbody>\n",
       "    <tr>\n",
       "      <th>0</th>\n",
       "      <td>1/1/2006</td>\n",
       "      <td>569.865168</td>\n",
       "    </tr>\n",
       "    <tr>\n",
       "      <th>1</th>\n",
       "      <td>1/2/2006</td>\n",
       "      <td>593.271930</td>\n",
       "    </tr>\n",
       "    <tr>\n",
       "      <th>2</th>\n",
       "      <td>1/3/2006</td>\n",
       "      <td>606.471193</td>\n",
       "    </tr>\n",
       "    <tr>\n",
       "      <th>3</th>\n",
       "      <td>1/4/2006</td>\n",
       "      <td>576.932773</td>\n",
       "    </tr>\n",
       "    <tr>\n",
       "      <th>4</th>\n",
       "      <td>1/5/2006</td>\n",
       "      <td>573.812500</td>\n",
       "    </tr>\n",
       "    <tr>\n",
       "      <th>...</th>\n",
       "      <td>...</td>\n",
       "      <td>...</td>\n",
       "    </tr>\n",
       "    <tr>\n",
       "      <th>3647</th>\n",
       "      <td>12/27/2015</td>\n",
       "      <td>832.554167</td>\n",
       "    </tr>\n",
       "    <tr>\n",
       "      <th>3648</th>\n",
       "      <td>12/28/2015</td>\n",
       "      <td>880.513919</td>\n",
       "    </tr>\n",
       "    <tr>\n",
       "      <th>3649</th>\n",
       "      <td>12/29/2015</td>\n",
       "      <td>856.883910</td>\n",
       "    </tr>\n",
       "    <tr>\n",
       "      <th>3650</th>\n",
       "      <td>12/30/2015</td>\n",
       "      <td>888.002212</td>\n",
       "    </tr>\n",
       "    <tr>\n",
       "      <th>3651</th>\n",
       "      <td>12/31/2015</td>\n",
       "      <td>918.498795</td>\n",
       "    </tr>\n",
       "  </tbody>\n",
       "</table>\n",
       "<p>3652 rows × 2 columns</p>\n",
       "</div>"
      ],
      "text/plain": [
       "            Date       Price\n",
       "0       1/1/2006  569.865168\n",
       "1       1/2/2006  593.271930\n",
       "2       1/3/2006  606.471193\n",
       "3       1/4/2006  576.932773\n",
       "4       1/5/2006  573.812500\n",
       "...          ...         ...\n",
       "3647  12/27/2015  832.554167\n",
       "3648  12/28/2015  880.513919\n",
       "3649  12/29/2015  856.883910\n",
       "3650  12/30/2015  888.002212\n",
       "3651  12/31/2015  918.498795\n",
       "\n",
       "[3652 rows x 2 columns]"
      ]
     },
     "execution_count": 4,
     "metadata": {},
     "output_type": "execute_result"
    }
   ],
   "source": [
    "tsdataframe = pd.read_csv('timeseries_lab3.csv')\n",
    "tsdataframe"
   ]
  },
  {
   "cell_type": "code",
   "execution_count": 5,
   "metadata": {},
   "outputs": [],
   "source": [
    "tsdata = np.load('timeseries_lab3.npy')"
   ]
  },
  {
   "cell_type": "code",
   "execution_count": 6,
   "metadata": {},
   "outputs": [
    {
     "data": {
      "text/plain": [
       "array([569.86516854, 593.27192983, 606.47119342, ..., 856.88391039,\n",
       "       888.00221239, 918.49879518])"
      ]
     },
     "execution_count": 6,
     "metadata": {},
     "output_type": "execute_result"
    }
   ],
   "source": [
    "tsdata"
   ]
  },
  {
   "cell_type": "code",
   "execution_count": 7,
   "metadata": {},
   "outputs": [
    {
     "data": {
      "text/plain": [
       "[<matplotlib.lines.Line2D at 0x1a84830be20>]"
      ]
     },
     "execution_count": 7,
     "metadata": {},
     "output_type": "execute_result"
    },
    {
     "data": {
      "image/png": "[encoded data removed]",
      "text/plain": [
       "<Figure size 640x480 with 1 Axes>"
      ]
     },
     "metadata": {},
     "output_type": "display_data"
    }
   ],
   "source": [
    "plt.plot(tsdata)"
   ]
  },
  {
   "cell_type": "code",
   "execution_count": 8,
   "metadata": {},
   "outputs": [],
   "source": [
    "n_steps=7\n",
    "n_features = 1\n",
    "train_size = 2557"
   ]
  },
  {
   "cell_type": "code",
   "execution_count": 9,
   "metadata": {},
   "outputs": [],
   "source": [
    "X, y = split_sequence(tsdata,n_steps)"
   ]
  },
  {
   "cell_type": "code",
   "execution_count": 10,
   "metadata": {},
   "outputs": [
    {
     "data": {
      "text/plain": [
       "array([[569.86516854, 593.27192983, 606.47119342, ..., 573.8125    ,\n",
       "        576.17699115, 548.16748768],\n",
       "       [593.27192983, 606.47119342, 576.93277311, ..., 576.17699115,\n",
       "        548.16748768, 528.13043478],\n",
       "       [606.47119342, 576.93277311, 573.8125    , ..., 548.16748768,\n",
       "        528.13043478, 543.19517544],\n",
       "       ...,\n",
       "       [876.92110454, 923.34583333, 807.89142857, ..., 865.42385787,\n",
       "        832.55416667, 880.51391863],\n",
       "       [923.34583333, 807.89142857, 753.03703704, ..., 832.55416667,\n",
       "        880.51391863, 856.88391039],\n",
       "       [807.89142857, 753.03703704, 865.42385787, ..., 880.51391863,\n",
       "        856.88391039, 888.00221239]])"
      ]
     },
     "execution_count": 10,
     "metadata": {},
     "output_type": "execute_result"
    }
   ],
   "source": [
    "X"
   ]
  },
  {
   "cell_type": "code",
   "execution_count": 11,
   "metadata": {},
   "outputs": [],
   "source": [
    "X = X.reshape((X.shape[0], X.shape[1], n_features))\n",
    "trainX = X[:train_size]\n",
    "trainy = y[:train_size]\n",
    "testX = X[train_size:]\n",
    "testy = y[train_size:]"
   ]
  },
  {
   "cell_type": "code",
   "execution_count": 12,
   "metadata": {},
   "outputs": [
    {
     "data": {
      "text/plain": [
       "array([[569.86516854],\n",
       "       [593.27192983],\n",
       "       [606.47119342],\n",
       "       [576.93277311],\n",
       "       [573.8125    ],\n",
       "       [576.17699115],\n",
       "       [548.16748768]])"
      ]
     },
     "execution_count": 12,
     "metadata": {},
     "output_type": "execute_result"
    }
   ],
   "source": [
    "trainX[0]"
   ]
  },
  {
   "cell_type": "markdown",
   "metadata": {},
   "source": [
    "### LSTM model for time series prediction"
   ]
  },
  {
   "cell_type": "code",
   "execution_count": 13,
   "metadata": {},
   "outputs": [
    {
     "name": "stdout",
     "output_type": "stream",
     "text": [
      "WARNING:tensorflow:Layer lstm will not use cuDNN kernels since it doesn't meet the criteria. It will use a generic GPU kernel as fallback when running on GPU.\n"
     ]
    }
   ],
   "source": [
    "model = Sequential()\n",
    "model.add(LSTM(50, activation='relu', input_shape=(n_steps, n_features)))\n",
    "model.add(Dense(1))\n",
    "model.compile(optimizer='adam', loss='mse')"
   ]
  },
  {
   "cell_type": "code",
   "execution_count": 14,
   "metadata": {},
   "outputs": [
    {
     "name": "stdout",
     "output_type": "stream",
     "text": [
      "Epoch 1/20\n",
      "80/80 [==============================] - 4s 17ms/step - loss: 85620.2891\n",
      "Epoch 2/20\n",
      "80/80 [==============================] - 1s 16ms/step - loss: 696.8395\n",
      "Epoch 3/20\n",
      "80/80 [==============================] - 1s 18ms/step - loss: 616.3602\n",
      "Epoch 4/20\n",
      "80/80 [==============================] - 1s 18ms/step - loss: 618.9208\n",
      "Epoch 5/20\n",
      "80/80 [==============================] - 1s 19ms/step - loss: 630.6581\n",
      "Epoch 6/20\n",
      "80/80 [==============================] - 2s 19ms/step - loss: 647.9551\n",
      "Epoch 7/20\n",
      "80/80 [==============================] - 1s 19ms/step - loss: 630.1905\n",
      "Epoch 8/20\n",
      "80/80 [==============================] - 2s 19ms/step - loss: 625.9268\n",
      "Epoch 9/20\n",
      "80/80 [==============================] - 2s 20ms/step - loss: 618.6486\n",
      "Epoch 10/20\n",
      "80/80 [==============================] - 2s 19ms/step - loss: 645.3029\n",
      "Epoch 11/20\n",
      "80/80 [==============================] - 2s 20ms/step - loss: 647.5797\n",
      "Epoch 12/20\n",
      "80/80 [==============================] - 1s 19ms/step - loss: 630.7380\n",
      "Epoch 13/20\n",
      "80/80 [==============================] - 2s 19ms/step - loss: 634.2725\n",
      "Epoch 14/20\n",
      "80/80 [==============================] - 2s 20ms/step - loss: 605.5112\n",
      "Epoch 15/20\n",
      "80/80 [==============================] - 2s 19ms/step - loss: 662.1349\n",
      "Epoch 16/20\n",
      "80/80 [==============================] - 2s 20ms/step - loss: 624.5452\n",
      "Epoch 17/20\n",
      "80/80 [==============================] - 2s 19ms/step - loss: 615.9252\n",
      "Epoch 18/20\n",
      "80/80 [==============================] - 2s 20ms/step - loss: 6000.8872\n",
      "Epoch 19/20\n",
      "80/80 [==============================] - 2s 19ms/step - loss: 2459.8203\n",
      "Epoch 20/20\n",
      "80/80 [==============================] - 1s 18ms/step - loss: 689.5396\n"
     ]
    },
    {
     "data": {
      "text/plain": [
       "<keras.callbacks.History at 0x1a848446550>"
      ]
     },
     "execution_count": 14,
     "metadata": {},
     "output_type": "execute_result"
    }
   ],
   "source": [
    "model.fit(trainX, trainy, epochs=20, verbose=1)"
   ]
  },
  {
   "cell_type": "markdown",
   "metadata": {},
   "source": [
    "### Prediction (test set)"
   ]
  },
  {
   "cell_type": "code",
   "execution_count": 15,
   "metadata": {},
   "outputs": [],
   "source": [
    "yhat = model.predict(testX, verbose=0)"
   ]
  },
  {
   "cell_type": "code",
   "execution_count": 16,
   "metadata": {},
   "outputs": [],
   "source": [
    "pred = []\n",
    "for i in range(yhat.shape[0]):\n",
    "    pred.append(yhat[i])\n",
    "pred = np.array(pred)"
   ]
  },
  {
   "cell_type": "code",
   "execution_count": 17,
   "metadata": {},
   "outputs": [
    {
     "data": {
      "text/plain": [
       "Text(0.5, 0, 'Days')"
      ]
     },
     "execution_count": 17,
     "metadata": {},
     "output_type": "execute_result"
    },
    {
     "data": {
      "image/png": "[encoded data removed]",
      "text/plain": [
       "<Figure size 640x480 with 1 Axes>"
      ]
     },
     "metadata": {},
     "output_type": "display_data"
    }
   ],
   "source": [
    "plt.plot(range(len(tsdata)),tsdata,label='True')\n",
    "plt.plot(range(len(tsdata)-len(testy),len(tsdata)),pred,label='Predicted')\n",
    "plt.legend(loc='upper left')\n",
    "plt.xlabel('Days')\n",
    "\n"
   ]
  },
  {
   "cell_type": "markdown",
   "metadata": {},
   "source": [
    "## Lab 4: Language Model"
   ]
  },
  {
   "cell_type": "markdown",
   "metadata": {},
   "source": [
    "<b>Problem statement:</b> Use the following dataset containing element names to train a language model. Generate new names using the trained model. The generated names should resemble element names, e.g. ends with '-ium'"
   ]
  },
  {
   "cell_type": "markdown",
   "metadata": {},
   "source": [
    "### Data"
   ]
  },
  {
   "cell_type": "code",
   "execution_count": 34,
   "metadata": {},
   "outputs": [
    {
     "data": {
      "text/plain": [
       "['hydrogen\\n', 'helium\\n', 'lithium\\n', 'beryllium\\n', 'boron\\n']"
      ]
     },
     "execution_count": 34,
     "metadata": {},
     "output_type": "execute_result"
    }
   ],
   "source": [
    "data = open('elements.txt', 'r').read()\n",
    "data = data.lower()\n",
    "vocab = sorted(set(data))\n",
    "data_size, vocab_size = len(data), len(vocab)\n",
    "chars = tf.strings.unicode_split(data.split('\\n'), 'UTF-8')\n",
    "data = data.replace('\\n', '\\n ').split(' ')\n",
    "data[:5]"
   ]
  },
  {
   "cell_type": "code",
   "execution_count": 35,
   "metadata": {},
   "outputs": [],
   "source": [
    "max_len = len(max(data, key=len))\n",
    "x, y = [], []\n",
    "\n",
    "for word in data:\n",
    "    tmp = (max_len - len(word)) * '0' + word\n",
    "    x.append(tmp)\n",
    "    y.append('')\n",
    "    for i, j in enumerate(word):\n",
    "        if (i >= len(word) - 1):\n",
    "            break\n",
    "        tmp = (max_len - len(word[:-1-i])) * '0' + word[:-1-i]\n",
    "        x.append(tmp)\n",
    "        y.append(word[-1-i])"
   ]
  },
  {
   "cell_type": "code",
   "execution_count": 36,
   "metadata": {},
   "outputs": [],
   "source": [
    "ids_from_chars = keras.layers.StringLookup(vocabulary=list(vocab), mask_token=None)\n",
    "chars_from_ids = tf.keras.layers.StringLookup(vocabulary=ids_from_chars.get_vocabulary(), invert=True, mask_token=None)\n",
    "train_x = np.zeros((len(x), max_len, len(vocab)), dtype=bool)\n",
    "train_y = np.zeros((len(x), len(vocab)), dtype=bool)\n",
    "for i, seq in enumerate(x):\n",
    "    for j, c in enumerate(seq):\n",
    "        if c != '0':\n",
    "            train_x[i, j, ids_from_chars(c).numpy()-1] = 1\n",
    "    train_y[i, ids_from_chars(y[i]).numpy()-1] = 1"
   ]
  },
  {
   "cell_type": "markdown",
   "metadata": {},
   "source": [
    "### Model Architecture"
   ]
  },
  {
   "cell_type": "markdown",
   "metadata": {},
   "source": [
    "<img src=\"./rnn_langmod.png\" style=\"width:500;height:300px;\">"
   ]
  },
  {
   "cell_type": "code",
   "execution_count": 37,
   "metadata": {},
   "outputs": [],
   "source": [
    "model = Sequential()\n",
    "model.add(LSTM(64, input_shape=(max_len, vocab_size)))\n",
    "model.add(Dense(vocab_size, activation='softmax'))\n",
    "model.compile(optimizer='adam', loss='categorical_crossentropy')"
   ]
  },
  {
   "cell_type": "code",
   "execution_count": 38,
   "metadata": {},
   "outputs": [
    {
     "name": "stdout",
     "output_type": "stream",
     "text": [
      "Epoch 1/20\n",
      "33/33 [==============================] - 1s 5ms/step - loss: 3.1142\n",
      "Epoch 2/20\n",
      "33/33 [==============================] - 0s 5ms/step - loss: 2.7069\n",
      "Epoch 3/20\n",
      "33/33 [==============================] - 0s 5ms/step - loss: 2.5055\n",
      "Epoch 4/20\n",
      "33/33 [==============================] - 0s 5ms/step - loss: 2.3263\n",
      "Epoch 5/20\n",
      "33/33 [==============================] - 0s 5ms/step - loss: 2.2073\n",
      "Epoch 6/20\n",
      "33/33 [==============================] - 0s 5ms/step - loss: 2.1168\n",
      "Epoch 7/20\n",
      "33/33 [==============================] - 0s 5ms/step - loss: 2.0335\n",
      "Epoch 8/20\n",
      "33/33 [==============================] - 0s 5ms/step - loss: 1.9647\n",
      "Epoch 9/20\n",
      "33/33 [==============================] - 0s 5ms/step - loss: 1.9080\n",
      "Epoch 10/20\n",
      "33/33 [==============================] - 0s 5ms/step - loss: 1.8550\n",
      "Epoch 11/20\n",
      "33/33 [==============================] - 0s 5ms/step - loss: 1.8140\n",
      "Epoch 12/20\n",
      "33/33 [==============================] - 0s 5ms/step - loss: 1.7666\n",
      "Epoch 13/20\n",
      "33/33 [==============================] - 0s 5ms/step - loss: 1.7417\n",
      "Epoch 14/20\n",
      "33/33 [==============================] - 0s 5ms/step - loss: 1.7033\n",
      "Epoch 15/20\n",
      "33/33 [==============================] - 0s 5ms/step - loss: 1.6733\n",
      "Epoch 16/20\n",
      "33/33 [==============================] - 0s 5ms/step - loss: 1.6467\n",
      "Epoch 17/20\n",
      "33/33 [==============================] - 0s 5ms/step - loss: 1.6270\n",
      "Epoch 18/20\n",
      "33/33 [==============================] - 0s 5ms/step - loss: 1.5994\n",
      "Epoch 19/20\n",
      "33/33 [==============================] - 0s 5ms/step - loss: 1.5807\n",
      "Epoch 20/20\n",
      "33/33 [==============================] - 0s 5ms/step - loss: 1.5587\n"
     ]
    },
    {
     "data": {
      "text/plain": [
       "<keras.callbacks.History at 0x1a85e1a90d0>"
      ]
     },
     "execution_count": 38,
     "metadata": {},
     "output_type": "execute_result"
    }
   ],
   "source": [
    "model.fit(train_x, train_y, epochs=20, verbose=1)"
   ]
  },
  {
   "cell_type": "code",
   "execution_count": 48,
   "metadata": {},
   "outputs": [
    {
     "name": "stdout",
     "output_type": "stream",
     "text": [
      "Input Letters: co\t |\t New Element: conium\n",
      "Input Letters: rul\t |\t New Element: rulium\n",
      "Input Letters: mar\t |\t New Element: marium\n",
      "Input Letters: ta\t |\t New Element: tanium\n",
      "Input Letters: pur\t |\t New Element: puronium\n",
      "Input Letters: bum\t |\t New Element: bumium\n",
      "Input Letters: daz\t |\t New Element: dazium\n",
      "Input Letters: latiss\t |\t New Element: latissium\n",
      "Input Letters: k\t |\t New Element: kerium\n",
      "Input Letters: q\t |\t New Element: qanium\n",
      "Input Letters: m\t |\t New Element: manium\n",
      "Input Letters: \t |\t New Element: alium\n"
     ]
    }
   ],
   "source": [
    "base = [\"co\", \"rul\", \"mar\", \"ta\", \"pur\", \"bum\", \"daz\", \"latiss\", \"k\", \"q\", \"m\", \"\"]\n",
    "results = []\n",
    "for i in base:\n",
    "    seq = ('{0:0>' + str(max_len)+'}').format(i).lower()\n",
    "    new_word = i\n",
    "    \n",
    "    while (len(new_word) < max_len):\n",
    "        # Vectorize the input of the model.\n",
    "        x_pred = np.zeros((1, max_len, vocab_size))\n",
    "        for j, c in enumerate(seq):\n",
    "            if c != '0' and j < x_pred.shape[1]:\n",
    "                x_pred[0, j, ids_from_chars(c)-1] = 1\n",
    "\n",
    "        # Predict the probabilities of the next char.\n",
    "        preds = model.predict(x_pred, verbose=0)[0]\n",
    "\n",
    "        # Softmax\n",
    "        preds = np.exp(preds) / np.sum(np.exp(preds))\n",
    "        next_index = np.where(preds == max(preds))[0][0]\n",
    "        next_char = chars_from_ids(next_index+1).numpy().decode('utf-8')\n",
    "\n",
    "        if next_char == '\\n' or len(new_word) > max_len:\n",
    "            break\n",
    "        else:\n",
    "            # Append the character\n",
    "            new_word += next_char\n",
    "            # Add pre-padding of zeros to the sequence generated and continue.\n",
    "            seq = ('{0:0>' + str(max_len) + '}').format(new_word).lower()\n",
    "    results.append(new_word)\n",
    "\n",
    "for i in range(len(base)):\n",
    "    print(f\"Input Letters: {base[i]}\\t |\\t New Element: {results[i]}\")"
   ]
  },
  {
   "cell_type": "markdown",
   "metadata": {},
   "source": [
    "### References:"
   ]
  },
  {
   "cell_type": "markdown",
   "metadata": {},
   "source": [
    "https://www.tensorflow.org/text/tutorials/text_generation#build_the_model\n",
    "\n",
    "https://medium.com/analytics-vidhya/business-name-generator-with-tensorflow-eba86c35d9cf"
   ]
  }
 ],
 "metadata": {
  "kernelspec": {
   "display_name": "Python 3.9.13 ('tf')",
   "language": "python",
   "name": "python3"
  },
  "language_info": {
   "codemirror_mode": {
    "name": "ipython",
    "version": 3
   },
   "file_extension": ".py",
   "mimetype": "text/x-python",
   "name": "python",
   "nbconvert_exporter": "python",
   "pygments_lexer": "ipython3",
   "version": "3.9.13"
  },
  "vscode": {
   "interpreter": {
    "hash": "9a9f9d2636d429c0263fe515000376bf2e0f1a96bb6efde409a9a507504e7fc3"
   }
  }
 },
 "nbformat": 4,
 "nbformat_minor": 4
}

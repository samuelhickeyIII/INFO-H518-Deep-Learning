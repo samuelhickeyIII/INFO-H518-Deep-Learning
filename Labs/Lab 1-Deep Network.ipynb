{
 "cells": [
  {
   "cell_type": "markdown",
   "metadata": {},
   "source": [
    "### Author: Samuel Hickey\n",
    "\n",
    "In collaboration with Dallas Hutchinson"
   ]
  },
  {
   "cell_type": "markdown",
   "metadata": {},
   "source": [
    "## Problem 1:\n",
    "\n",
    "### Approximate the following function:\n",
    "$\\Large f ( x ) = 3x^2 + 4x - 9 $\n"
   ]
  },
  {
   "cell_type": "markdown",
   "metadata": {},
   "source": [
    "### Steps:\n",
    "1. Randomly generate the data. Generate at least 10,000 values for $x \\in [-100,100]$\n",
    "2. Plot the function\n",
    "3. Design a feed-forward network with 2 or more hidden layers. Choose the # of hidden units in each layer (what are the size of input and output layers?)\n",
    "4. Train the model (What loss function will be suitable here?)\n",
    "5. Generate a test data and present the test accuracy"
   ]
  },
  {
   "cell_type": "markdown",
   "metadata": {},
   "source": [
    "## Problem 2:\n",
    "\n",
    "### Feedforward Network\n",
    "- Hidden layer 1\n",
    "- Input size 784 [28X28] image\n",
    "- Hidden layer units 500\n",
    "- Output size 10\n",
    "- Other Hyperparameters:\n",
    " - num_epochs = 5\n",
    " - batch_size = 100\n",
    " - learning_rate = 0.001\n",
    "\n",
    "### Try out different regularization and optimization techniques and vary the corresponding hyperparameters\n",
    "- Hidden layers/units per layer\n",
    "- L2 regularization\n",
    "- Dropout\n",
    "- RMSProp\n",
    "- Adam\n",
    "- Minibatches\n",
    "\n",
    "### Tabulate your findings"
   ]
  },
  {
   "cell_type": "code",
   "execution_count": 1,
   "metadata": {},
   "outputs": [
    {
     "name": "stderr",
     "output_type": "stream",
     "text": [
      "c:\\Python39\\lib\\site-packages\\torchvision\\io\\image.py:13: UserWarning: Failed to load image Python extension: Could not find module 'C:\\Python39\\Lib\\site-packages\\torchvision\\image.pyd' (or one of its dependencies). Try using the full path with constructor syntax.\n",
      "  warn(f\"Failed to load image Python extension: {e}\")\n",
      "c:\\Python39\\lib\\site-packages\\requests\\__init__.py:102: RequestsDependencyWarning: urllib3 (1.26.9) or chardet (5.0.0)/charset_normalizer (2.0.12) doesn't match a supported version!\n",
      "  warnings.warn(\"urllib3 ({}) or chardet ({})/charset_normalizer ({}) doesn't match a supported \"\n"
     ]
    }
   ],
   "source": [
    "from sklearn.metrics import accuracy_score\n",
    "from torch.utils.data import TensorDataset, DataLoader\n",
    "\n",
    "import matplotlib.pyplot as plt\n",
    "import numpy as np\n",
    "import torch \n",
    "import torch.nn as nn\n",
    "import torchvision\n",
    "import torchvision.transforms as transforms"
   ]
  },
  {
   "cell_type": "markdown",
   "metadata": {},
   "source": [
    "### Problem 1"
   ]
  },
  {
   "cell_type": "code",
   "execution_count": 2,
   "metadata": {},
   "outputs": [],
   "source": [
    "def f(x) -> float:\n",
    "    return 3*x*x + 4*x - 9"
   ]
  },
  {
   "cell_type": "code",
   "execution_count": 3,
   "metadata": {},
   "outputs": [
    {
     "data": {
      "image/png": "[encoded data removed]",
      "text/plain": [
       "<Figure size 640x480 with 1 Axes>"
      ]
     },
     "metadata": {},
     "output_type": "display_data"
    }
   ],
   "source": [
    "train_x = torch.FloatTensor(50000).uniform_(-100, 101)\n",
    "train_y = torch.FloatTensor([f(x) for x in train_x])\n",
    "train_dataloader = DataLoader(\n",
    "    TensorDataset(train_x.unsqueeze(1), train_y.unsqueeze(1)),\n",
    "    batch_size=100,\n",
    "    pin_memory=True,\n",
    "    shuffle=True\n",
    ")\n",
    "\n",
    "valid_x = torch.FloatTensor(5000).uniform_(-100, 101)\n",
    "valid_y = torch.FloatTensor([f(x) for x in valid_x])\n",
    "valid_dataloader = DataLoader(\n",
    "    TensorDataset(valid_x.unsqueeze(1), valid_y.unsqueeze(1)),\n",
    "    batch_size=100,\n",
    "    pin_memory=True,\n",
    "    shuffle=True\n",
    ")\n",
    "\n",
    "test_x = torch.FloatTensor(5000).uniform_(-100, 101)\n",
    "test_y = torch.FloatTensor([f(x) for x in test_x])\n",
    "test_dataloader = DataLoader(\n",
    "    TensorDataset(test_x.unsqueeze(1), test_y.unsqueeze(1)),\n",
    "    batch_size=100,\n",
    "    pin_memory=True,\n",
    "    shuffle=True\n",
    ")\n",
    "\n",
    "plt.plot(train_x, train_y)\n",
    "plt.show()"
   ]
  },
  {
   "cell_type": "code",
   "execution_count": 13,
   "metadata": {},
   "outputs": [
    {
     "name": "stdout",
     "output_type": "stream",
     "text": [
      "Using cpu device\n",
      "NeuralNetwork(\n",
      "  (linear_silu_stack): Sequential(\n",
      "    (0): Linear(in_features=1, out_features=16, bias=True)\n",
      "    (1): SiLU()\n",
      "    (2): Linear(in_features=16, out_features=16, bias=True)\n",
      "    (3): SiLU()\n",
      "    (4): Linear(in_features=16, out_features=16, bias=True)\n",
      "    (5): SiLU()\n",
      "    (6): Linear(in_features=16, out_features=1, bias=True)\n",
      "  )\n",
      ")\n"
     ]
    }
   ],
   "source": [
    "device = \"cuda\" if torch.cuda.is_available() else \"cpu\"\n",
    "print(f\"Using {device} device\")\n",
    "\n",
    "class NeuralNetwork(nn.Module):\n",
    "    def __init__(self, input_size, hidden_size, num_classes):\n",
    "        super(NeuralNetwork, self).__init__()\n",
    "        self.linear_silu_stack = nn.Sequential(\n",
    "            nn.Linear(input_size, hidden_size),\n",
    "            nn.SiLU(),\n",
    "            nn.Linear(hidden_size, hidden_size),\n",
    "            nn.SiLU(),\n",
    "            nn.Linear(hidden_size, hidden_size),\n",
    "            nn.SiLU(),\n",
    "            nn.Linear(hidden_size, num_classes)\n",
    "        )\n",
    "          \n",
    "    \n",
    "    def forward(self, x):\n",
    "        out = self.linear_silu_stack(x)\n",
    "        return out\n",
    "\n",
    "input_size = 1\n",
    "hidden_size = 16\n",
    "num_classes = 1\n",
    "num_epochs = 50\n",
    "batch_size = 100\n",
    "learning_rate = 0.003\n",
    "model = NeuralNetwork(input_size, hidden_size, num_classes).to(device)\n",
    "print(model)\n",
    "\n",
    "criterion = nn.MSELoss(reduction=\"mean\")\n",
    "optimizer = torch.optim.Adam(model.parameters(), lr=learning_rate) "
   ]
  },
  {
   "cell_type": "code",
   "execution_count": 14,
   "metadata": {},
   "outputs": [
    {
     "name": "stdout",
     "output_type": "stream",
     "text": [
      "Median Training Difference between Y and Y-hat: 61.85984802246094\n",
      "Average Test Accuracy: 0.9379178881645203\n"
     ]
    }
   ],
   "source": [
    "def train():\n",
    "    losses = []\n",
    "    for epoch in range(num_epochs):\n",
    "        model.train()\n",
    "        tmp_loss = []\n",
    "        for X_train, y_train in train_dataloader:\n",
    "            X_train = X_train.type(torch.float32).to(device)\n",
    "            y_train = y_train.type(torch.float32).to(device)\n",
    "\n",
    "            score = model(X_train)\n",
    "            loss = torch.sqrt(criterion(input=score, target=y_train))\n",
    "            optimizer.zero_grad()\n",
    "            loss.backward()\n",
    "            optimizer.step()\n",
    "            tmp_loss.append(loss.detach().cpu().numpy())\n",
    "        losses.append([np.average(tmp_loss)])\n",
    "\n",
    "        model.eval()\n",
    "        tmp_loss = list()\n",
    "        for X_val, y_val in valid_dataloader:\n",
    "            X_val = X_val.type(torch.float32).to(device)\n",
    "            y_val = y_val.type(torch.float32).to(device)\n",
    "\n",
    "            score = model(X_val)\n",
    "            loss = torch.sqrt(criterion(input=score, target=y_val))\n",
    "            tmp_loss.append(loss.detach().cpu().numpy())\n",
    "        losses[epoch].append(np.average(tmp_loss))\n",
    "        # print(f\"Epoch {epoch+1}\")\n",
    "        # print(f\"Train Loss: {losses[epoch][0]} | Validation Loss: {losses[epoch][1]}\")\n",
    "    losses = np.array(losses)\n",
    "    return (np.median(losses[:, 0]), np.median(losses[:, 1]))\n",
    "\n",
    "def test():\n",
    "    accuracy = []\n",
    "    for x, y in test_dataloader:\n",
    "        x = x.type(torch.float32).to(device)\n",
    "        y = y.type(torch.float32).to(device)\n",
    "\n",
    "        pred = model(x)\n",
    "        batch_accuracy = []\n",
    "        for i in range(batch_size):\n",
    "            relative_acc = 1 - (abs(pred[i] - y[i]) / y[i])\n",
    "            batch_accuracy.append(relative_acc.detach().numpy())\n",
    "        accuracy.append(batch_accuracy)\n",
    "\n",
    "    return np.average(accuracy)\n",
    "\n",
    "\n",
    "train_loss = train()\n",
    "test_acc = test()\n",
    "\n",
    "print(f\"Median Training Difference between Y and Y-hat: {train_loss[0]}\")\n",
    "print(f\"Average Test Accuracy: {test_acc}\")"
   ]
  },
  {
   "cell_type": "markdown",
   "metadata": {},
   "source": [
    "## Problem 2"
   ]
  },
  {
   "cell_type": "code",
   "execution_count": 19,
   "metadata": {},
   "outputs": [],
   "source": [
    "input_size = 784\n",
    "hidden_size = 256\n",
    "num_classes = 10\n",
    "num_epochs = 20\n",
    "batch_size = 100\n",
    "learning_rate = 0.002"
   ]
  },
  {
   "cell_type": "markdown",
   "metadata": {},
   "source": [
    "### Defining the Network"
   ]
  },
  {
   "cell_type": "code",
   "execution_count": 20,
   "metadata": {},
   "outputs": [],
   "source": [
    "class NeuralNetwork(nn.Module):\n",
    "    def __init__(self, input_size, hidden_size, num_classes):\n",
    "        super(NeuralNetwork, self).__init__()\n",
    "        self.linear_silu_stack = nn.Sequential(\n",
    "            nn.Linear(input_size, hidden_size),\n",
    "            nn.SiLU(),\n",
    "            nn.Linear(hidden_size, hidden_size),\n",
    "            nn.SiLU(),\n",
    "            nn.Linear(hidden_size, num_classes)\n",
    "        )\n",
    "          \n",
    "    \n",
    "    def forward(self, x):\n",
    "        out = self.linear_silu_stack(x)\n",
    "        return out"
   ]
  },
  {
   "cell_type": "markdown",
   "metadata": {},
   "source": [
    "### Loading the datasets"
   ]
  },
  {
   "cell_type": "markdown",
   "metadata": {},
   "source": [
    "<i> \n",
    "#### Note: If the following code does not work, do the following:\n",
    "- open a terminal and enter\n",
    "- pip install ipywidgets\n",
    "- jupyter nbextension enable --py widgetsnbextension\n",
    "\n",
    "#### If the second line shows [OK], it should work </i>"
   ]
  },
  {
   "cell_type": "code",
   "execution_count": 21,
   "metadata": {},
   "outputs": [],
   "source": [
    "train_dataset = torchvision.datasets.MNIST(root='data', \n",
    "                                           train=True, \n",
    "                                           transform=transforms.ToTensor(),download=True)\n",
    "\n",
    "train_loader = torch.utils.data.DataLoader(dataset=train_dataset, \n",
    "                                           batch_size=batch_size, shuffle=True)"
   ]
  },
  {
   "cell_type": "code",
   "execution_count": 22,
   "metadata": {},
   "outputs": [],
   "source": [
    "test_dataset = torchvision.datasets.MNIST(root='data', \n",
    "                                           train=False, \n",
    "                                           transform=transforms.ToTensor(),download=True)\n",
    "\n",
    "test_loader = torch.utils.data.DataLoader(dataset=test_dataset, \n",
    "                                           batch_size=batch_size, shuffle=True)"
   ]
  },
  {
   "cell_type": "code",
   "execution_count": 23,
   "metadata": {},
   "outputs": [
    {
     "data": {
      "text/plain": [
       "Dataset MNIST\n",
       "    Number of datapoints: 60000\n",
       "    Root location: data\n",
       "    Split: Train\n",
       "    StandardTransform\n",
       "Transform: ToTensor()"
      ]
     },
     "execution_count": 23,
     "metadata": {},
     "output_type": "execute_result"
    }
   ],
   "source": [
    "train_dataset"
   ]
  },
  {
   "cell_type": "code",
   "execution_count": 24,
   "metadata": {},
   "outputs": [
    {
     "data": {
      "text/plain": [
       "Dataset MNIST\n",
       "    Number of datapoints: 10000\n",
       "    Root location: data\n",
       "    Split: Test\n",
       "    StandardTransform\n",
       "Transform: ToTensor()"
      ]
     },
     "execution_count": 24,
     "metadata": {},
     "output_type": "execute_result"
    }
   ],
   "source": [
    "test_dataset"
   ]
  },
  {
   "cell_type": "markdown",
   "metadata": {},
   "source": [
    "##### Display samples"
   ]
  },
  {
   "cell_type": "code",
   "execution_count": 29,
   "metadata": {},
   "outputs": [
    {
     "name": "stdout",
     "output_type": "stream",
     "text": [
      "3\n"
     ]
    },
    {
     "data": {
      "image/png": "[encoded data removed]",
      "text/plain": [
       "<Figure size 432x288 with 1 Axes>"
      ]
     },
     "metadata": {
      "needs_background": "light"
     },
     "output_type": "display_data"
    }
   ],
   "source": [
    "import matplotlib.pyplot as plt\n",
    "import pandas as pd\n",
    "\n",
    "\n",
    "for images, labels in train_loader:\n",
    "    print(labels[0].item())\n",
    " \n",
    "    plt.imshow(images[0].reshape((28,28)))\n",
    "    pd.DataFrame(np.round(images[0].reshape((28,28)).numpy())) \\\n",
    "        .to_csv('input_sample.csv', sep=',', index=False, header=False)\n",
    "    break"
   ]
  },
  {
   "cell_type": "code",
   "execution_count": 30,
   "metadata": {},
   "outputs": [],
   "source": [
    "model = NeuralNetwork(input_size, hidden_size, num_classes)"
   ]
  },
  {
   "cell_type": "code",
   "execution_count": 31,
   "metadata": {},
   "outputs": [],
   "source": [
    "criterion = nn.CrossEntropyLoss()\n",
    "optimizer = torch.optim.Adam(model.parameters(), lr=learning_rate) "
   ]
  },
  {
   "cell_type": "markdown",
   "metadata": {},
   "source": [
    "### Train the model"
   ]
  },
  {
   "cell_type": "code",
   "execution_count": 32,
   "metadata": {},
   "outputs": [
    {
     "name": "stdout",
     "output_type": "stream",
     "text": [
      "Epoch [1/20], Step [100/600], Loss: 0.5545\n",
      "Epoch [1/20], Step [200/600], Loss: 0.2315\n",
      "Epoch [1/20], Step [300/600], Loss: 0.2491\n",
      "Epoch [1/20], Step [400/600], Loss: 0.1187\n",
      "Epoch [1/20], Step [500/600], Loss: 0.1410\n",
      "Epoch [1/20], Step [600/600], Loss: 0.2184\n",
      "Epoch [2/20], Step [100/600], Loss: 0.1638\n",
      "Epoch [2/20], Step [200/600], Loss: 0.0597\n",
      "Epoch [2/20], Step [300/600], Loss: 0.0619\n",
      "Epoch [2/20], Step [400/600], Loss: 0.1468\n",
      "Epoch [2/20], Step [500/600], Loss: 0.0762\n",
      "Epoch [2/20], Step [600/600], Loss: 0.0219\n",
      "Epoch [3/20], Step [100/600], Loss: 0.0350\n",
      "Epoch [3/20], Step [200/600], Loss: 0.0882\n",
      "Epoch [3/20], Step [300/600], Loss: 0.0373\n",
      "Epoch [3/20], Step [400/600], Loss: 0.1268\n",
      "Epoch [3/20], Step [500/600], Loss: 0.0492\n",
      "Epoch [3/20], Step [600/600], Loss: 0.0615\n",
      "Epoch [4/20], Step [100/600], Loss: 0.0193\n",
      "Epoch [4/20], Step [200/600], Loss: 0.0497\n",
      "Epoch [4/20], Step [300/600], Loss: 0.0319\n",
      "Epoch [4/20], Step [400/600], Loss: 0.0616\n",
      "Epoch [4/20], Step [500/600], Loss: 0.0108\n",
      "Epoch [4/20], Step [600/600], Loss: 0.0347\n",
      "Epoch [5/20], Step [100/600], Loss: 0.0768\n",
      "Epoch [5/20], Step [200/600], Loss: 0.1047\n",
      "Epoch [5/20], Step [300/600], Loss: 0.1228\n",
      "Epoch [5/20], Step [400/600], Loss: 0.0602\n",
      "Epoch [5/20], Step [500/600], Loss: 0.0224\n",
      "Epoch [5/20], Step [600/600], Loss: 0.0208\n",
      "Epoch [6/20], Step [100/600], Loss: 0.0063\n",
      "Epoch [6/20], Step [200/600], Loss: 0.0054\n",
      "Epoch [6/20], Step [300/600], Loss: 0.0014\n",
      "Epoch [6/20], Step [400/600], Loss: 0.0031\n",
      "Epoch [6/20], Step [500/600], Loss: 0.0324\n",
      "Epoch [6/20], Step [600/600], Loss: 0.0690\n",
      "Epoch [7/20], Step [100/600], Loss: 0.0411\n",
      "Epoch [7/20], Step [200/600], Loss: 0.0013\n",
      "Epoch [7/20], Step [300/600], Loss: 0.0037\n",
      "Epoch [7/20], Step [400/600], Loss: 0.0199\n",
      "Epoch [7/20], Step [500/600], Loss: 0.0479\n",
      "Epoch [7/20], Step [600/600], Loss: 0.0025\n",
      "Epoch [8/20], Step [100/600], Loss: 0.0290\n",
      "Epoch [8/20], Step [200/600], Loss: 0.0559\n",
      "Epoch [8/20], Step [300/600], Loss: 0.0013\n",
      "Epoch [8/20], Step [400/600], Loss: 0.0009\n",
      "Epoch [8/20], Step [500/600], Loss: 0.0037\n",
      "Epoch [8/20], Step [600/600], Loss: 0.0056\n",
      "Epoch [9/20], Step [100/600], Loss: 0.0047\n",
      "Epoch [9/20], Step [200/600], Loss: 0.0186\n",
      "Epoch [9/20], Step [300/600], Loss: 0.0265\n",
      "Epoch [9/20], Step [400/600], Loss: 0.0002\n",
      "Epoch [9/20], Step [500/600], Loss: 0.0247\n",
      "Epoch [9/20], Step [600/600], Loss: 0.0028\n",
      "Epoch [10/20], Step [100/600], Loss: 0.0419\n",
      "Epoch [10/20], Step [200/600], Loss: 0.0028\n",
      "Epoch [10/20], Step [300/600], Loss: 0.0085\n",
      "Epoch [10/20], Step [400/600], Loss: 0.0224\n",
      "Epoch [10/20], Step [500/600], Loss: 0.0036\n",
      "Epoch [10/20], Step [600/600], Loss: 0.0063\n",
      "Epoch [11/20], Step [100/600], Loss: 0.0029\n",
      "Epoch [11/20], Step [200/600], Loss: 0.0004\n",
      "Epoch [11/20], Step [300/600], Loss: 0.0065\n",
      "Epoch [11/20], Step [400/600], Loss: 0.0186\n",
      "Epoch [11/20], Step [500/600], Loss: 0.0207\n",
      "Epoch [11/20], Step [600/600], Loss: 0.0021\n",
      "Epoch [12/20], Step [100/600], Loss: 0.0253\n",
      "Epoch [12/20], Step [200/600], Loss: 0.0015\n",
      "Epoch [12/20], Step [300/600], Loss: 0.0703\n",
      "Epoch [12/20], Step [400/600], Loss: 0.0107\n",
      "Epoch [12/20], Step [500/600], Loss: 0.0021\n",
      "Epoch [12/20], Step [600/600], Loss: 0.0012\n",
      "Epoch [13/20], Step [100/600], Loss: 0.0057\n",
      "Epoch [13/20], Step [200/600], Loss: 0.0049\n",
      "Epoch [13/20], Step [300/600], Loss: 0.0346\n",
      "Epoch [13/20], Step [400/600], Loss: 0.0001\n",
      "Epoch [13/20], Step [500/600], Loss: 0.0023\n",
      "Epoch [13/20], Step [600/600], Loss: 0.0109\n",
      "Epoch [14/20], Step [100/600], Loss: 0.0051\n",
      "Epoch [14/20], Step [200/600], Loss: 0.0004\n",
      "Epoch [14/20], Step [300/600], Loss: 0.0100\n",
      "Epoch [14/20], Step [400/600], Loss: 0.0019\n",
      "Epoch [14/20], Step [500/600], Loss: 0.0059\n",
      "Epoch [14/20], Step [600/600], Loss: 0.0124\n",
      "Epoch [15/20], Step [100/600], Loss: 0.0219\n",
      "Epoch [15/20], Step [200/600], Loss: 0.0007\n",
      "Epoch [15/20], Step [300/600], Loss: 0.0213\n",
      "Epoch [15/20], Step [400/600], Loss: 0.0270\n",
      "Epoch [15/20], Step [500/600], Loss: 0.0251\n",
      "Epoch [15/20], Step [600/600], Loss: 0.0046\n",
      "Epoch [16/20], Step [100/600], Loss: 0.0417\n",
      "Epoch [16/20], Step [200/600], Loss: 0.0048\n",
      "Epoch [16/20], Step [300/600], Loss: 0.0018\n",
      "Epoch [16/20], Step [400/600], Loss: 0.0120\n",
      "Epoch [16/20], Step [500/600], Loss: 0.0001\n",
      "Epoch [16/20], Step [600/600], Loss: 0.0011\n",
      "Epoch [17/20], Step [100/600], Loss: 0.0000\n",
      "Epoch [17/20], Step [200/600], Loss: 0.0018\n",
      "Epoch [17/20], Step [300/600], Loss: 0.0141\n",
      "Epoch [17/20], Step [400/600], Loss: 0.0008\n",
      "Epoch [17/20], Step [500/600], Loss: 0.0552\n",
      "Epoch [17/20], Step [600/600], Loss: 0.0007\n",
      "Epoch [18/20], Step [100/600], Loss: 0.0003\n",
      "Epoch [18/20], Step [200/600], Loss: 0.0001\n",
      "Epoch [18/20], Step [300/600], Loss: 0.0032\n",
      "Epoch [18/20], Step [400/600], Loss: 0.0268\n",
      "Epoch [18/20], Step [500/600], Loss: 0.0851\n",
      "Epoch [18/20], Step [600/600], Loss: 0.0193\n",
      "Epoch [19/20], Step [100/600], Loss: 0.0194\n",
      "Epoch [19/20], Step [200/600], Loss: 0.0002\n",
      "Epoch [19/20], Step [300/600], Loss: 0.0005\n",
      "Epoch [19/20], Step [400/600], Loss: 0.0070\n",
      "Epoch [19/20], Step [500/600], Loss: 0.0012\n",
      "Epoch [19/20], Step [600/600], Loss: 0.0002\n",
      "Epoch [20/20], Step [100/600], Loss: 0.0008\n",
      "Epoch [20/20], Step [200/600], Loss: 0.0000\n",
      "Epoch [20/20], Step [300/600], Loss: 0.0043\n",
      "Epoch [20/20], Step [400/600], Loss: 0.0045\n",
      "Epoch [20/20], Step [500/600], Loss: 0.0112\n",
      "Epoch [20/20], Step [600/600], Loss: 0.0041\n"
     ]
    }
   ],
   "source": [
    "total_step = len(train_loader)\n",
    "model.train()\n",
    "losses = []\n",
    "for epoch in range(num_epochs):\n",
    "    for i, (images, labels) in enumerate(train_loader):  \n",
    "        # Reconfigure the images into a 1D vector (actually, (X,1) tensor)\n",
    "        images = images.view(images.shape[0], -1)\n",
    "        # Forward pass\n",
    "        score = model(images)\n",
    "        ### Comput the output and loss\n",
    "        loss = criterion(score, labels)    \n",
    "        losses.append(loss.item())\n",
    "        # Backward and optimize\n",
    "        optimizer.zero_grad()\n",
    "        loss.backward()\n",
    "        optimizer.step()\n",
    "        \n",
    "        # display the progress\n",
    "        if (i+1) % 100 == 0:\n",
    "            print ('Epoch [{}/{}], Step [{}/{}], Loss: {:.4f}' .format(epoch+1, num_epochs, i+1, total_step, loss.item()))\n",
    "        "
   ]
  },
  {
   "cell_type": "markdown",
   "metadata": {},
   "source": [
    "#### Taking 4 samples from the test set \n",
    "- display the image\n",
    "- print the true label\n",
    "- print the output probability distribution\n",
    "- print the predicted class"
   ]
  },
  {
   "cell_type": "code",
   "execution_count": 33,
   "metadata": {},
   "outputs": [
    {
     "data": {
      "image/png": "[encoded data removed]",
      "text/plain": [
       "<Figure size 432x288 with 1 Axes>"
      ]
     },
     "metadata": {
      "needs_background": "light"
     },
     "output_type": "display_data"
    }
   ],
   "source": [
    "plt.plot(losses)\n",
    "plt.ylabel(\"Cost\")\n",
    "plt.xlabel(\"Iterations\")\n",
    "plt.show()"
   ]
  },
  {
   "cell_type": "code",
   "execution_count": 34,
   "metadata": {},
   "outputs": [],
   "source": [
    "def view_class(img, preds, y_hat, y):\n",
    "    ''' Function for viewing an image and it's predicted classes.\n",
    "    '''\n",
    "    preds = preds.data.numpy().squeeze()\n",
    "\n",
    "    fig, (ax1, ax2) = plt.subplots(figsize=(6,4), ncols=2)\n",
    "    ax1.imshow(img.resize_(1, 28, 28).numpy().squeeze())\n",
    "    ax1.axis('off')\n",
    "    ax2.bar(np.arange(10), preds)\n",
    "    ax2.set_aspect(5)\n",
    "    ax2.set_xticks(np.arange(10))\n",
    "    ax2.set_xticklabels(np.arange(10))\n",
    "    ax2.set_title('Class Probability')\n",
    "    ax2.set_ylim(0, 1)\n",
    "    fig.text(.5, .0001, f\"Predicted Label: {y_hat} | True Label: {y}\", ha='center')"
   ]
  },
  {
   "cell_type": "code",
   "execution_count": 35,
   "metadata": {},
   "outputs": [
    {
     "name": "stdout",
     "output_type": "stream",
     "text": [
      "[-18.677568 -26.363962 -31.613543 -15.353566  -6.602241 -17.198635\n",
      " -36.352043  -9.925137 -20.857801  32.057606]\n",
      "[-16.966768  -20.024937  -18.150824  -14.106834  -28.051146  -11.898349\n",
      " -28.660831  -23.21542    30.59032    -7.9478607]\n",
      "[-23.190634  -11.662019   -9.956592  -32.322624   19.309849   -9.080388\n",
      " -22.977327  -12.873644  -18.022795    3.2235124]\n",
      "[-18.775244  -17.00621   -13.101646  -13.578387    0.625664  -13.648289\n",
      " -10.830356   -4.7022533  -3.4038157  12.652896 ]\n"
     ]
    },
    {
     "data": {
      "image/png": "[encoded data removed]",
      "text/plain": [
       "<Figure size 432x288 with 2 Axes>"
      ]
     },
     "metadata": {
      "needs_background": "light"
     },
     "output_type": "display_data"
    },
    {
     "data": {
      "image/png": "[encoded data removed]",
      "text/plain": [
       "<Figure size 432x288 with 2 Axes>"
      ]
     },
     "metadata": {
      "needs_background": "light"
     },
     "output_type": "display_data"
    },
    {
     "data": {
      "image/png": "[encoded data removed]",
      "text/plain": [
       "<Figure size 432x288 with 2 Axes>"
      ]
     },
     "metadata": {
      "needs_background": "light"
     },
     "output_type": "display_data"
    },
    {
     "data": {
      "image/png": "[encoded data removed]",
      "text/plain": [
       "<Figure size 432x288 with 2 Axes>"
      ]
     },
     "metadata": {
      "needs_background": "light"
     },
     "output_type": "display_data"
    }
   ],
   "source": [
    "for sample in range(4):\n",
    "    # Separate images and labels from validation set\n",
    "    images, labels = next(iter(test_loader))\n",
    "\n",
    "    # Flatten the 28x28 image\n",
    "    img = images[sample].view(1, 784)\n",
    "    \n",
    "    # Get probability for each class by putting img through the model\n",
    "    preds = model(img)\n",
    "    probab = list(preds.detach().numpy()[0])\n",
    "    y_hat = probab.index(max(probab))\n",
    "    y = int(labels[sample])\n",
    "    view_class(img.view(1, 28, 28), preds, y_hat, y)\n",
    "    print(preds.detach().numpy()[0])"
   ]
  },
  {
   "cell_type": "code",
   "execution_count": 36,
   "metadata": {},
   "outputs": [
    {
     "data": {
      "text/plain": [
       "6"
      ]
     },
     "execution_count": 36,
     "metadata": {},
     "output_type": "execute_result"
    }
   ],
   "source": [
    "len(dict(model.state_dict()))"
   ]
  },
  {
   "cell_type": "code",
   "execution_count": 37,
   "metadata": {},
   "outputs": [
    {
     "data": {
      "text/plain": [
       "{'linear_silu_stack.0.weight': tensor([[-4.5563e-03, -1.9643e-02,  2.6476e-02,  ..., -1.7378e-02,\n",
       "           1.0215e-02, -1.6542e-02],\n",
       "         [-2.2559e-02,  2.0060e-03, -2.8876e-02,  ...,  2.5051e-02,\n",
       "          -1.1952e-02,  4.4920e-03],\n",
       "         [-1.8172e-02, -1.1501e-02,  3.0709e-02,  ...,  1.7200e-03,\n",
       "           9.1601e-03, -1.4239e-03],\n",
       "         ...,\n",
       "         [ 3.5040e-02, -2.4057e-02, -7.7646e-03,  ...,  5.9124e-03,\n",
       "          -1.7618e-02,  4.0617e-05],\n",
       "         [ 7.5062e-03,  1.7145e-02,  4.3829e-03,  ..., -1.2303e-02,\n",
       "           1.1883e-02, -3.2564e-02],\n",
       "         [ 3.4942e-02,  1.2188e-02,  5.5679e-03,  ...,  1.4767e-02,\n",
       "           2.1347e-02,  8.4994e-03]]),\n",
       " 'linear_silu_stack.0.bias': tensor([-8.9153e-02, -8.4369e-02, -3.0536e-01, -3.2794e-02, -1.5007e-01,\n",
       "          2.1009e-01, -2.7003e-02, -7.9466e-02,  1.3194e-01, -1.0556e-01,\n",
       "          7.2345e-02, -2.0260e-01, -2.8489e-01,  1.7163e-01, -9.9248e-02,\n",
       "         -2.0510e-01,  9.0201e-02,  3.7130e-02,  1.3682e-01, -8.7371e-02,\n",
       "          1.3598e-01,  5.0020e-02,  1.5318e-02,  4.6270e-01,  2.2842e-01,\n",
       "         -6.3941e-03, -2.3945e-01, -2.5064e-01, -1.4916e-01, -9.4763e-02,\n",
       "         -3.4197e-01,  1.9238e-01, -1.6162e-01, -1.1847e-02, -1.8039e-01,\n",
       "         -7.6482e-02, -2.3689e-01,  1.0792e-01,  2.5543e-01, -3.0009e-01,\n",
       "          1.1020e-01,  2.3532e-01, -3.7653e-02, -5.6851e-02, -2.6815e-01,\n",
       "         -2.6792e-01,  2.4017e-02,  1.1928e-01,  5.1332e-03,  7.4484e-02,\n",
       "         -1.1516e-01, -1.2643e-01,  4.3982e-02, -2.6061e-02, -7.1379e-02,\n",
       "          2.1341e-01,  2.6302e-01, -4.3769e-02,  1.6199e-01,  1.0412e-01,\n",
       "          6.6976e-02, -2.9893e-01,  6.3577e-02, -1.8469e-01, -4.8744e-02,\n",
       "         -1.1543e-01, -6.7144e-03, -2.7993e-01, -1.0081e-01, -1.6298e-01,\n",
       "          7.2703e-02,  2.0193e-01,  6.2043e-02,  1.5785e-02, -3.1896e-02,\n",
       "         -1.5806e-01,  2.2886e-01, -5.6675e-02, -2.4155e-02, -1.7920e-01,\n",
       "         -3.1905e-01, -1.3725e-01,  2.6025e-01,  9.9334e-03, -1.6408e-01,\n",
       "         -5.2420e-03, -7.1017e-02, -2.5208e-02,  8.5331e-03, -4.6043e-02,\n",
       "          1.4978e-01,  1.0672e-01,  3.4868e-01, -2.7565e-04, -2.2443e-02,\n",
       "         -3.0684e-01, -9.9401e-02, -8.0094e-03,  1.1609e-02,  4.3056e-01,\n",
       "         -9.5648e-02,  1.6992e-01, -2.8529e-01,  8.8475e-02, -6.6009e-02,\n",
       "         -2.1500e-01, -2.3816e-03, -1.9456e-01,  1.4577e-01, -2.1726e-02,\n",
       "          4.8535e-02,  1.4678e-01, -2.8389e-02, -1.4326e-01,  8.6355e-02,\n",
       "         -2.1502e-01, -3.0620e-02, -9.0609e-02,  8.0461e-02, -9.0913e-02,\n",
       "         -9.8935e-03, -1.0467e-01, -2.0272e-01, -1.0503e-02, -2.3694e-01,\n",
       "         -8.1058e-03,  1.5536e-01, -7.2022e-02, -9.9305e-02, -1.4227e-01,\n",
       "         -1.2861e-01,  6.5088e-02,  1.1327e-01, -1.6419e-01, -2.0231e-01,\n",
       "          1.3456e-01, -2.2338e-01, -4.1324e-02, -1.0012e-02, -3.5679e-02,\n",
       "         -3.1953e-01, -1.0599e-02, -4.8633e-02, -2.2826e-01, -1.8022e-01,\n",
       "          4.6180e-02,  4.0708e-02,  2.5758e-01,  2.8021e-02, -2.4406e-01,\n",
       "          1.5730e-01, -1.3735e-01,  1.3122e-01, -4.6454e-02,  1.4067e-01,\n",
       "          4.0243e-02, -5.2254e-02, -1.0740e-02,  7.4648e-02,  6.6912e-02,\n",
       "          7.8764e-03, -2.4534e-01, -2.6839e-01,  1.0561e-01,  2.0602e-02,\n",
       "          1.6306e-02,  5.0929e-02, -5.1841e-02,  1.7888e-01, -1.9526e-01,\n",
       "          2.6047e-02, -7.3760e-02,  1.7424e-02,  1.8464e-01,  2.8715e-02,\n",
       "         -1.2357e-01,  2.0278e-01, -2.8045e-01,  2.0344e-01,  2.0555e-01,\n",
       "          1.3720e-01, -1.0525e-01, -1.7241e-01, -3.1981e-01, -6.0863e-02,\n",
       "          1.8143e-02,  1.4461e-01,  8.6391e-02,  9.9234e-02,  1.0311e-01,\n",
       "          6.8393e-02,  5.9446e-02, -6.5661e-02, -9.5159e-02, -6.5605e-02,\n",
       "         -1.3859e-03,  1.4004e-01,  1.6822e-01, -1.4648e-01, -9.9947e-02,\n",
       "         -4.9445e-02, -1.3570e-01, -4.5924e-02, -3.5436e-02, -7.9475e-02,\n",
       "         -1.5693e-02,  7.9543e-02,  2.0734e-01, -1.5509e-01,  1.1533e-01,\n",
       "         -1.3246e-01,  8.6600e-02, -2.3930e-01, -9.8397e-02, -4.4473e-03,\n",
       "         -2.4567e-02,  9.0660e-02, -2.2985e-01, -1.6101e-01,  1.9938e-01,\n",
       "          5.6627e-02, -2.5397e-02,  5.6805e-02, -5.0898e-02,  1.1181e-02,\n",
       "          7.4142e-02, -8.6537e-02, -7.0472e-03,  1.1871e-01,  2.2598e-02,\n",
       "         -1.2190e-01,  1.3216e-01, -8.7392e-02, -3.0903e-01,  1.0825e-01,\n",
       "         -2.2342e-01, -1.9915e-01,  3.3317e-01, -6.3678e-02,  1.7418e-01,\n",
       "         -1.9039e-01,  8.3852e-02, -9.0096e-02,  3.5436e-02, -4.6148e-02,\n",
       "         -3.0849e-01,  1.1302e-01, -2.7319e-01,  6.9755e-02,  7.6658e-02,\n",
       "         -1.4662e-01, -1.2234e-01, -2.1289e-01, -8.9039e-03, -1.5267e-01,\n",
       "          3.7008e-02]),\n",
       " 'linear_silu_stack.2.weight': tensor([[ 0.0134, -0.5466, -0.0525,  ..., -0.0496, -0.0831, -0.1996],\n",
       "         [-0.0243, -0.4251, -0.1186,  ..., -0.2239,  0.0565,  0.1107],\n",
       "         [-0.2092, -0.6488, -0.0750,  ..., -0.0593, -0.1500, -0.2398],\n",
       "         ...,\n",
       "         [-0.0635,  0.0866,  0.0594,  ..., -0.1169, -0.0123,  0.3498],\n",
       "         [ 0.0717, -0.0064, -0.0420,  ...,  0.1748,  0.1409,  0.0974],\n",
       "         [-0.6494,  0.0202,  0.0527,  ..., -0.0181,  0.0128,  0.1336]]),\n",
       " 'linear_silu_stack.2.bias': tensor([-0.2344, -0.1504,  0.2134, -0.2781,  0.0603,  0.1877,  0.0071,  0.0718,\n",
       "          0.1141, -0.1155, -0.2600,  0.1651,  0.0569,  0.1223, -0.1918, -0.2434,\n",
       "          0.0044, -0.0716,  0.1621, -0.0323, -0.2923, -0.2425, -0.0624, -0.1619,\n",
       "         -0.2582, -0.1938, -0.0080,  0.0388, -0.0351, -0.0057, -0.2861, -0.3468,\n",
       "          0.0349,  0.1330, -0.0009, -0.1780, -0.0867, -0.2178, -0.1344, -0.2805,\n",
       "         -0.1316, -0.0604, -0.0907, -0.2270,  0.0144,  0.0507, -0.1725, -0.1866,\n",
       "         -0.0463, -0.0448,  0.0064, -0.1451, -0.0396,  0.1470, -0.0137, -0.0661,\n",
       "         -0.2802,  0.2004,  0.0614, -0.1106, -0.0776, -0.1995, -0.0511, -0.0969,\n",
       "         -0.4010, -0.3184, -0.2525, -0.0172, -0.0391,  0.0383, -0.0798, -0.2760,\n",
       "          0.0838,  0.0189,  0.1013,  0.2324, -0.1437, -0.0605,  0.1117,  0.1661,\n",
       "         -0.2796, -0.0571, -0.2207, -0.0174, -0.1704, -0.0387, -0.1528,  0.1943,\n",
       "         -0.1795, -0.1053,  0.1269, -0.1382, -0.3011, -0.1748, -0.0662,  0.0693,\n",
       "          0.1830, -0.0529, -0.0060, -0.0766, -0.1892,  0.1603, -0.1474, -0.1301,\n",
       "          0.2956,  0.0548, -0.2385, -0.1740,  0.0886,  0.0221,  0.0426, -0.2400,\n",
       "         -0.0608, -0.0232,  0.0272, -0.2349, -0.1253, -0.1428,  0.0946,  0.0828,\n",
       "         -0.0364, -0.2785, -0.0921, -0.2570,  0.1474, -0.1246,  0.1100, -0.1353,\n",
       "         -0.0730, -0.0588, -0.2273, -0.2476, -0.1383, -0.0089, -0.1439, -0.3126,\n",
       "         -0.2512, -0.1934,  0.0343,  0.1636, -0.4559, -0.0742,  0.1243, -0.2054,\n",
       "         -0.2324, -0.0382, -0.2523, -0.1759, -0.3103, -0.2506, -0.2919, -0.2505,\n",
       "         -0.1153, -0.1632, -0.0724, -0.0196,  0.1405, -0.0853, -0.1095, -0.0449,\n",
       "          0.2246,  0.0163, -0.1624, -0.4081, -0.0797,  0.0589, -0.0029, -0.1908,\n",
       "          0.0498, -0.1441, -0.2274, -0.0176, -0.0749, -0.2350, -0.2066, -0.2937,\n",
       "         -0.2941,  0.0884, -0.1731, -0.0356, -0.2130,  0.0786,  0.0992, -0.2532,\n",
       "          0.1699, -0.0408,  0.0154, -0.2832,  0.0437, -0.0742, -0.1567,  0.1018,\n",
       "          0.0392, -0.1984, -0.3467, -0.2210, -0.1491,  0.1359, -0.0077, -0.1221,\n",
       "         -0.4010, -0.0822, -0.3397, -0.2072, -0.1171, -0.0157, -0.0199, -0.1306,\n",
       "          0.0239, -0.2019, -0.0575, -0.0487,  0.0405,  0.1092, -0.1628, -0.1492,\n",
       "          0.0905,  0.2312,  0.0446, -0.1478, -0.1585, -0.0621, -0.4197,  0.0897,\n",
       "         -0.0841, -0.0733, -0.2408, -0.1967, -0.2204, -0.0965, -0.3183, -0.0518,\n",
       "         -0.3226, -0.0992, -0.0740,  0.0989, -0.0499, -0.2238, -0.1209, -0.2932,\n",
       "         -0.2308,  0.0918, -0.0392,  0.0015, -0.1141, -0.0762, -0.0285,  0.0131,\n",
       "         -0.1811,  0.0407, -0.0896, -0.0715, -0.1708, -0.2135,  0.0379, -0.1779]),\n",
       " 'linear_silu_stack.4.weight': tensor([[ 0.0477, -0.4682, -0.0270,  ...,  0.0487,  0.0831, -0.0760],\n",
       "         [ 0.0039,  0.0360, -0.1500,  ...,  0.1044,  0.0013, -0.4630],\n",
       "         [ 0.0603,  0.0531,  0.1506,  ...,  0.1174,  0.1054,  0.1763],\n",
       "         ...,\n",
       "         [-0.1094, -0.0433, -0.1410,  ...,  0.0521, -0.2393,  0.1032],\n",
       "         [-0.3036, -0.2248, -0.0865,  ..., -0.2126,  0.0892, -0.1917],\n",
       "         [-0.0270,  0.0501, -0.2725,  ..., -0.2585,  0.0392,  0.0305]]),\n",
       " 'linear_silu_stack.4.bias': tensor([-0.1108, -0.1334,  0.0382,  0.0761, -0.0665,  0.0818, -0.1914, -0.1192,\n",
       "          0.4186,  0.0777])}"
      ]
     },
     "execution_count": 37,
     "metadata": {},
     "output_type": "execute_result"
    }
   ],
   "source": [
    "dict(model.state_dict())"
   ]
  },
  {
   "cell_type": "code",
   "execution_count": null,
   "metadata": {},
   "outputs": [],
   "source": []
  }
 ],
 "metadata": {
  "kernelspec": {
   "display_name": "Python 3.9.5 64-bit",
   "language": "python",
   "name": "python3"
  },
  "language_info": {
   "codemirror_mode": {
    "name": "ipython",
    "version": 3
   },
   "file_extension": ".py",
   "mimetype": "text/x-python",
   "name": "python",
   "nbconvert_exporter": "python",
   "pygments_lexer": "ipython3",
   "version": "3.9.5"
  },
  "vscode": {
   "interpreter": {
    "hash": "81794d4967e6c3204c66dcd87b604927b115b27c00565d3d43f05ba2f3a2cb0d"
   }
  }
 },
 "nbformat": 4,
 "nbformat_minor": 2
}

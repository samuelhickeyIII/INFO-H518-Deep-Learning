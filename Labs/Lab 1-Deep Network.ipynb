{
 "cells": [
  {
   "cell_type": "markdown",
   "metadata": {},
   "source": [
    "### Author: Samuel Hickey\n",
    "\n",
    "In collaboration with Dallas Hutchinson"
   ]
  },
  {
   "cell_type": "markdown",
   "metadata": {},
   "source": [
    "## Problem 1:\n",
    "\n",
    "### Approximate the following function:\n",
    "$\\Large f ( x ) = 3x^2 + 4x - 9 $\n"
   ]
  },
  {
   "cell_type": "markdown",
   "metadata": {},
   "source": [
    "### Steps:\n",
    "1. Randomly generate the data. Generate at least 10,000 values for $x \\in [-100,100]$\n",
    "2. Plot the function\n",
    "3. Design a feed-forward network with 2 or more hidden layers. Choose the # of hidden units in each layer (what are the size of input and output layers?)\n",
    "4. Train the model (What loss function will be suitable here?)\n",
    "5. Generate a test data and present the test accuracy"
   ]
  },
  {
   "cell_type": "markdown",
   "metadata": {},
   "source": [
    "## Problem 2:\n",
    "\n",
    "### Feedforward Network\n",
    "- Hidden layer 1\n",
    "- Input size 784 [28X28] image\n",
    "- Hidden layer units 500\n",
    "- Output size 10\n",
    "- Other Hyperparameters:\n",
    " - num_epochs = 5\n",
    " - batch_size = 100\n",
    " - learning_rate = 0.001\n",
    "\n",
    "### Try out different regularization and optimization techniques and vary the corresponding hyperparameters\n",
    "- Hidden layers/units per layer\n",
    "- L2 regularization\n",
    "- Dropout\n",
    "- RMSProp\n",
    "- Adam\n",
    "- Minibatches\n",
    "\n",
    "### Tabulate your findings"
   ]
  },
  {
   "cell_type": "code",
   "execution_count": 1,
   "metadata": {},
   "outputs": [],
   "source": [
    "from sklearn.metrics import accuracy_score\n",
    "from torch.utils.data import TensorDataset, DataLoader\n",
    "\n",
    "import matplotlib.pyplot as plt\n",
    "import numpy as np\n",
    "import torch \n",
    "import torch.nn as nn\n",
    "import torchvision\n",
    "import torchvision.transforms as transforms"
   ]
  },
  {
   "cell_type": "markdown",
   "metadata": {},
   "source": [
    "### Problem 1"
   ]
  },
  {
   "cell_type": "code",
   "execution_count": 2,
   "metadata": {},
   "outputs": [],
   "source": [
    "def f(x) -> float:\n",
    "    return 3*x*x + 4*x - 9"
   ]
  },
  {
   "cell_type": "code",
   "execution_count": 3,
   "metadata": {},
   "outputs": [
    {
     "data": {
      "image/png": "[encoded data removed]",
      "text/plain": [
       "<Figure size 640x480 with 1 Axes>"
      ]
     },
     "metadata": {},
     "output_type": "display_data"
    }
   ],
   "source": [
    "train_x = torch.FloatTensor(50000).uniform_(-100, 101)\n",
    "train_y = torch.FloatTensor([f(x) for x in train_x])\n",
    "train_dataloader = DataLoader(\n",
    "    TensorDataset(train_x.unsqueeze(1), train_y.unsqueeze(1)),\n",
    "    batch_size=100,\n",
    "    pin_memory=True,\n",
    "    shuffle=True\n",
    ")\n",
    "\n",
    "valid_x = torch.FloatTensor(5000).uniform_(-100, 101)\n",
    "valid_y = torch.FloatTensor([f(x) for x in valid_x])\n",
    "valid_dataloader = DataLoader(\n",
    "    TensorDataset(valid_x.unsqueeze(1), valid_y.unsqueeze(1)),\n",
    "    batch_size=100,\n",
    "    pin_memory=True,\n",
    "    shuffle=True\n",
    ")\n",
    "\n",
    "test_x = torch.FloatTensor(5000).uniform_(-100, 101)\n",
    "test_y = torch.FloatTensor([f(x) for x in test_x])\n",
    "test_dataloader = DataLoader(\n",
    "    TensorDataset(test_x.unsqueeze(1), test_y.unsqueeze(1)),\n",
    "    batch_size=100,\n",
    "    pin_memory=True,\n",
    "    shuffle=True\n",
    ")\n",
    "\n",
    "plt.plot(train_x, train_y)\n",
    "plt.show()"
   ]
  },
  {
   "cell_type": "code",
   "execution_count": 13,
   "metadata": {},
   "outputs": [
    {
     "name": "stdout",
     "output_type": "stream",
     "text": [
      "Using cpu device\n",
      "NeuralNetwork(\n",
      "  (linear_silu_stack): Sequential(\n",
      "    (0): Linear(in_features=1, out_features=16, bias=True)\n",
      "    (1): SiLU()\n",
      "    (2): Linear(in_features=16, out_features=16, bias=True)\n",
      "    (3): SiLU()\n",
      "    (4): Linear(in_features=16, out_features=16, bias=True)\n",
      "    (5): SiLU()\n",
      "    (6): Linear(in_features=16, out_features=1, bias=True)\n",
      "  )\n",
      ")\n"
     ]
    }
   ],
   "source": [
    "device = \"cuda\" if torch.cuda.is_available() else \"cpu\"\n",
    "print(f\"Using {device} device\")\n",
    "\n",
    "class NeuralNetwork(nn.Module):\n",
    "    def __init__(self, input_size, hidden_size, num_classes):\n",
    "        super(NeuralNetwork, self).__init__()\n",
    "        self.linear_silu_stack = nn.Sequential(\n",
    "            nn.Linear(input_size, hidden_size),\n",
    "            nn.SiLU(),\n",
    "            nn.Linear(hidden_size, hidden_size),\n",
    "            nn.SiLU(),\n",
    "            nn.Linear(hidden_size, hidden_size),\n",
    "            nn.SiLU(),\n",
    "            nn.Linear(hidden_size, num_classes)\n",
    "        )\n",
    "          \n",
    "    \n",
    "    def forward(self, x):\n",
    "        out = self.linear_silu_stack(x)\n",
    "        return out\n",
    "\n",
    "input_size = 1\n",
    "hidden_size = 16\n",
    "num_classes = 1\n",
    "num_epochs = 50\n",
    "batch_size = 100\n",
    "learning_rate = 0.003\n",
    "model = NeuralNetwork(input_size, hidden_size, num_classes).to(device)\n",
    "print(model)\n",
    "\n",
    "criterion = nn.MSELoss(reduction=\"mean\")\n",
    "optimizer = torch.optim.Adam(model.parameters(), lr=learning_rate) "
   ]
  },
  {
   "cell_type": "code",
   "execution_count": 14,
   "metadata": {},
   "outputs": [
    {
     "name": "stdout",
     "output_type": "stream",
     "text": [
      "Median Training Difference between Y and Y-hat: 61.85984802246094\n",
      "Average Test Accuracy: 0.9379178881645203\n"
     ]
    }
   ],
   "source": [
    "def train():\n",
    "    losses = []\n",
    "    for epoch in range(num_epochs):\n",
    "        model.train()\n",
    "        tmp_loss = []\n",
    "        for X_train, y_train in train_dataloader:\n",
    "            X_train = X_train.type(torch.float32).to(device)\n",
    "            y_train = y_train.type(torch.float32).to(device)\n",
    "\n",
    "            score = model(X_train)\n",
    "            loss = torch.sqrt(criterion(input=score, target=y_train))\n",
    "            optimizer.zero_grad()\n",
    "            loss.backward()\n",
    "            optimizer.step()\n",
    "            tmp_loss.append(loss.detach().cpu().numpy())\n",
    "        losses.append([np.average(tmp_loss)])\n",
    "\n",
    "        model.eval()\n",
    "        tmp_loss = list()\n",
    "        for X_val, y_val in valid_dataloader:\n",
    "            X_val = X_val.type(torch.float32).to(device)\n",
    "            y_val = y_val.type(torch.float32).to(device)\n",
    "\n",
    "            score = model(X_val)\n",
    "            loss = torch.sqrt(criterion(input=score, target=y_val))\n",
    "            tmp_loss.append(loss.detach().cpu().numpy())\n",
    "        losses[epoch].append(np.average(tmp_loss))\n",
    "        # print(f\"Epoch {epoch+1}\")\n",
    "        # print(f\"Train Loss: {losses[epoch][0]} | Validation Loss: {losses[epoch][1]}\")\n",
    "    losses = np.array(losses)\n",
    "    return (np.median(losses[:, 0]), np.median(losses[:, 1]))\n",
    "\n",
    "def test():\n",
    "    accuracy = []\n",
    "    for x, y in test_dataloader:\n",
    "        x = x.type(torch.float32).to(device)\n",
    "        y = y.type(torch.float32).to(device)\n",
    "\n",
    "        pred = model(x)\n",
    "        batch_accuracy = []\n",
    "        for i in range(batch_size):\n",
    "            relative_acc = 1 - (abs(pred[i] - y[i]) / y[i])\n",
    "            batch_accuracy.append(relative_acc.detach().numpy())\n",
    "        accuracy.append(batch_accuracy)\n",
    "\n",
    "    return np.average(accuracy)\n",
    "\n",
    "\n",
    "train_loss = train()\n",
    "test_acc = test()\n",
    "\n",
    "print(f\"Median Training Difference between Y and Y-hat: {train_loss[0]}\")\n",
    "print(f\"Average Test Accuracy: {test_acc}\")"
   ]
  },
  {
   "cell_type": "markdown",
   "metadata": {},
   "source": [
    "## Problem 2"
   ]
  },
  {
   "cell_type": "code",
   "execution_count": 15,
   "metadata": {},
   "outputs": [],
   "source": [
    "input_size = 784\n",
    "hidden_size = 500\n",
    "num_classes = 10\n",
    "num_epochs = 20\n",
    "batch_size = 100\n",
    "learning_rate = 0.002"
   ]
  },
  {
   "cell_type": "markdown",
   "metadata": {},
   "source": [
    "### Defining the Network"
   ]
  },
  {
   "cell_type": "code",
   "execution_count": 24,
   "metadata": {},
   "outputs": [],
   "source": [
    "class NeuralNetwork(nn.Module):\n",
    "    def __init__(self, input_size, hidden_size, num_classes):\n",
    "        super(NeuralNetwork, self).__init__()\n",
    "        self.linear_silu_stack = nn.Sequential(\n",
    "            nn.Linear(input_size, hidden_size),\n",
    "            nn.SiLU(),\n",
    "            nn.Linear(hidden_size, hidden_size),\n",
    "            nn.SiLU(),\n",
    "            nn.Linear(hidden_size, num_classes)\n",
    "        )\n",
    "          \n",
    "    \n",
    "    def forward(self, x):\n",
    "        out = self.linear_silu_stack(x)\n",
    "        return out"
   ]
  },
  {
   "cell_type": "markdown",
   "metadata": {},
   "source": [
    "### Loading the datasets"
   ]
  },
  {
   "cell_type": "markdown",
   "metadata": {},
   "source": [
    "<i> \n",
    "#### Note: If the following code does not work, do the following:\n",
    "- open a terminal and enter\n",
    "- pip install ipywidgets\n",
    "- jupyter nbextension enable --py widgetsnbextension\n",
    "\n",
    "#### If the second line shows [OK], it should work </i>"
   ]
  },
  {
   "cell_type": "code",
   "execution_count": 25,
   "metadata": {},
   "outputs": [],
   "source": [
    "train_dataset = torchvision.datasets.MNIST(root='data', \n",
    "                                           train=True, \n",
    "                                           transform=transforms.ToTensor(),download=True)\n",
    "\n",
    "train_loader = torch.utils.data.DataLoader(dataset=train_dataset, \n",
    "                                           batch_size=batch_size, shuffle=True)"
   ]
  },
  {
   "cell_type": "code",
   "execution_count": 26,
   "metadata": {},
   "outputs": [],
   "source": [
    "test_dataset = torchvision.datasets.MNIST(root='data', \n",
    "                                           train=False, \n",
    "                                           transform=transforms.ToTensor(),download=True)\n",
    "\n",
    "test_loader = torch.utils.data.DataLoader(dataset=test_dataset, \n",
    "                                           batch_size=batch_size, shuffle=True)"
   ]
  },
  {
   "cell_type": "markdown",
   "metadata": {},
   "source": [
    "##### Display samples"
   ]
  },
  {
   "cell_type": "code",
   "execution_count": 27,
   "metadata": {},
   "outputs": [
    {
     "name": "stdout",
     "output_type": "stream",
     "text": [
      "8\n"
     ]
    },
    {
     "data": {
      "image/png": "[encoded data removed]",
      "text/plain": [
       "<Figure size 640x480 with 1 Axes>"
      ]
     },
     "metadata": {},
     "output_type": "display_data"
    }
   ],
   "source": [
    "import matplotlib.pyplot as plt\n",
    "\n",
    "for images, labels in train_loader:\n",
    "    print(labels[0].item())\n",
    " \n",
    "    plt.imshow(images[0].reshape((28,28)))\n",
    "    break"
   ]
  },
  {
   "cell_type": "code",
   "execution_count": 28,
   "metadata": {},
   "outputs": [],
   "source": [
    "model = NeuralNetwork(input_size, hidden_size, num_classes)"
   ]
  },
  {
   "cell_type": "code",
   "execution_count": 29,
   "metadata": {},
   "outputs": [],
   "source": [
    "criterion = nn.CrossEntropyLoss()\n",
    "optimizer = torch.optim.Adam(model.parameters(), lr=learning_rate) "
   ]
  },
  {
   "cell_type": "markdown",
   "metadata": {},
   "source": [
    "### Train the model"
   ]
  },
  {
   "cell_type": "code",
   "execution_count": 32,
   "metadata": {},
   "outputs": [
    {
     "name": "stdout",
     "output_type": "stream",
     "text": [
      "Epoch [1/20], Step [100/600], Loss: 0.0000\n",
      "Epoch [1/20], Step [200/600], Loss: 0.0000\n",
      "Epoch [1/20], Step [300/600], Loss: 0.0000\n",
      "Epoch [1/20], Step [400/600], Loss: 0.0001\n",
      "Epoch [1/20], Step [500/600], Loss: 0.0011\n",
      "Epoch [1/20], Step [600/600], Loss: 0.0109\n",
      "Epoch [2/20], Step [100/600], Loss: 0.0084\n",
      "Epoch [2/20], Step [200/600], Loss: 0.0005\n",
      "Epoch [2/20], Step [300/600], Loss: 0.0677\n",
      "Epoch [2/20], Step [400/600], Loss: 0.0020\n",
      "Epoch [2/20], Step [500/600], Loss: 0.0782\n",
      "Epoch [2/20], Step [600/600], Loss: 0.0000\n",
      "Epoch [3/20], Step [100/600], Loss: 0.0001\n",
      "Epoch [3/20], Step [200/600], Loss: 0.0005\n",
      "Epoch [3/20], Step [300/600], Loss: 0.0007\n",
      "Epoch [3/20], Step [400/600], Loss: 0.1429\n",
      "Epoch [3/20], Step [500/600], Loss: 0.0124\n",
      "Epoch [3/20], Step [600/600], Loss: 0.0475\n",
      "Epoch [4/20], Step [100/600], Loss: 0.0012\n",
      "Epoch [4/20], Step [200/600], Loss: 0.0006\n",
      "Epoch [4/20], Step [300/600], Loss: 0.0002\n",
      "Epoch [4/20], Step [400/600], Loss: 0.0435\n",
      "Epoch [4/20], Step [500/600], Loss: 0.0004\n",
      "Epoch [4/20], Step [600/600], Loss: 0.0001\n",
      "Epoch [5/20], Step [100/600], Loss: 0.0002\n",
      "Epoch [5/20], Step [200/600], Loss: 0.0005\n",
      "Epoch [5/20], Step [300/600], Loss: 0.0000\n",
      "Epoch [5/20], Step [400/600], Loss: 0.0003\n",
      "Epoch [5/20], Step [500/600], Loss: 0.0001\n",
      "Epoch [5/20], Step [600/600], Loss: 0.0000\n",
      "Epoch [6/20], Step [100/600], Loss: 0.0000\n",
      "Epoch [6/20], Step [200/600], Loss: 0.0032\n",
      "Epoch [6/20], Step [300/600], Loss: 0.0000\n",
      "Epoch [6/20], Step [400/600], Loss: 0.0349\n",
      "Epoch [6/20], Step [500/600], Loss: 0.0003\n",
      "Epoch [6/20], Step [600/600], Loss: 0.0000\n",
      "Epoch [7/20], Step [100/600], Loss: 0.0000\n",
      "Epoch [7/20], Step [200/600], Loss: 0.0017\n",
      "Epoch [7/20], Step [300/600], Loss: 0.0024\n",
      "Epoch [7/20], Step [400/600], Loss: 0.0004\n",
      "Epoch [7/20], Step [500/600], Loss: 0.0152\n",
      "Epoch [7/20], Step [600/600], Loss: 0.0599\n",
      "Epoch [8/20], Step [100/600], Loss: 0.0240\n",
      "Epoch [8/20], Step [200/600], Loss: 0.0343\n",
      "Epoch [8/20], Step [300/600], Loss: 0.0173\n",
      "Epoch [8/20], Step [400/600], Loss: 0.0035\n",
      "Epoch [8/20], Step [500/600], Loss: 0.0075\n",
      "Epoch [8/20], Step [600/600], Loss: 0.0255\n",
      "Epoch [9/20], Step [100/600], Loss: 0.0011\n",
      "Epoch [9/20], Step [200/600], Loss: 0.0009\n",
      "Epoch [9/20], Step [300/600], Loss: 0.0076\n",
      "Epoch [9/20], Step [400/600], Loss: 0.0001\n",
      "Epoch [9/20], Step [500/600], Loss: 0.0001\n",
      "Epoch [9/20], Step [600/600], Loss: 0.0113\n",
      "Epoch [10/20], Step [100/600], Loss: 0.0000\n",
      "Epoch [10/20], Step [200/600], Loss: 0.0000\n",
      "Epoch [10/20], Step [300/600], Loss: 0.0000\n",
      "Epoch [10/20], Step [400/600], Loss: 0.0001\n",
      "Epoch [10/20], Step [500/600], Loss: 0.0132\n",
      "Epoch [10/20], Step [600/600], Loss: 0.0004\n",
      "Epoch [11/20], Step [100/600], Loss: 0.0011\n",
      "Epoch [11/20], Step [200/600], Loss: 0.0000\n",
      "Epoch [11/20], Step [300/600], Loss: 0.0001\n",
      "Epoch [11/20], Step [400/600], Loss: 0.0273\n",
      "Epoch [11/20], Step [500/600], Loss: 0.0460\n",
      "Epoch [11/20], Step [600/600], Loss: 0.0443\n",
      "Epoch [12/20], Step [100/600], Loss: 0.0007\n",
      "Epoch [12/20], Step [200/600], Loss: 0.0003\n",
      "Epoch [12/20], Step [300/600], Loss: 0.0106\n",
      "Epoch [12/20], Step [400/600], Loss: 0.0000\n",
      "Epoch [12/20], Step [500/600], Loss: 0.0016\n",
      "Epoch [12/20], Step [600/600], Loss: 0.0644\n",
      "Epoch [13/20], Step [100/600], Loss: 0.0000\n",
      "Epoch [13/20], Step [200/600], Loss: 0.0007\n",
      "Epoch [13/20], Step [300/600], Loss: 0.0036\n",
      "Epoch [13/20], Step [400/600], Loss: 0.0001\n",
      "Epoch [13/20], Step [500/600], Loss: 0.0013\n",
      "Epoch [13/20], Step [600/600], Loss: 0.0000\n",
      "Epoch [14/20], Step [100/600], Loss: 0.0001\n",
      "Epoch [14/20], Step [200/600], Loss: 0.0000\n",
      "Epoch [14/20], Step [300/600], Loss: 0.0002\n",
      "Epoch [14/20], Step [400/600], Loss: 0.0006\n",
      "Epoch [14/20], Step [500/600], Loss: 0.0004\n",
      "Epoch [14/20], Step [600/600], Loss: 0.1603\n",
      "Epoch [15/20], Step [100/600], Loss: 0.0003\n",
      "Epoch [15/20], Step [200/600], Loss: 0.0015\n",
      "Epoch [15/20], Step [300/600], Loss: 0.0028\n",
      "Epoch [15/20], Step [400/600], Loss: 0.0000\n",
      "Epoch [15/20], Step [500/600], Loss: 0.0003\n",
      "Epoch [15/20], Step [600/600], Loss: 0.0000\n",
      "Epoch [16/20], Step [100/600], Loss: 0.0004\n",
      "Epoch [16/20], Step [200/600], Loss: 0.0002\n",
      "Epoch [16/20], Step [300/600], Loss: 0.0001\n",
      "Epoch [16/20], Step [400/600], Loss: 0.0000\n",
      "Epoch [16/20], Step [500/600], Loss: 0.0000\n",
      "Epoch [16/20], Step [600/600], Loss: 0.0002\n",
      "Epoch [17/20], Step [100/600], Loss: 0.0000\n",
      "Epoch [17/20], Step [200/600], Loss: 0.0000\n",
      "Epoch [17/20], Step [300/600], Loss: 0.0156\n",
      "Epoch [17/20], Step [400/600], Loss: 0.0003\n",
      "Epoch [17/20], Step [500/600], Loss: 0.0000\n",
      "Epoch [17/20], Step [600/600], Loss: 0.0003\n",
      "Epoch [18/20], Step [100/600], Loss: 0.0000\n",
      "Epoch [18/20], Step [200/600], Loss: 0.0001\n",
      "Epoch [18/20], Step [300/600], Loss: 0.0000\n",
      "Epoch [18/20], Step [400/600], Loss: 0.0000\n",
      "Epoch [18/20], Step [500/600], Loss: 0.0007\n",
      "Epoch [18/20], Step [600/600], Loss: 0.0000\n",
      "Epoch [19/20], Step [100/600], Loss: 0.0000\n",
      "Epoch [19/20], Step [200/600], Loss: 0.0000\n",
      "Epoch [19/20], Step [300/600], Loss: 0.0035\n",
      "Epoch [19/20], Step [400/600], Loss: 0.0001\n",
      "Epoch [19/20], Step [500/600], Loss: 0.0187\n",
      "Epoch [19/20], Step [600/600], Loss: 0.0011\n",
      "Epoch [20/20], Step [100/600], Loss: 0.0004\n",
      "Epoch [20/20], Step [200/600], Loss: 0.0000\n",
      "Epoch [20/20], Step [300/600], Loss: 0.0108\n",
      "Epoch [20/20], Step [400/600], Loss: 0.0000\n",
      "Epoch [20/20], Step [500/600], Loss: 0.0000\n",
      "Epoch [20/20], Step [600/600], Loss: 0.0000\n"
     ]
    }
   ],
   "source": [
    "total_step = len(train_loader)\n",
    "model.train()\n",
    "losses = []\n",
    "for epoch in range(num_epochs):\n",
    "    for i, (images, labels) in enumerate(train_loader):  \n",
    "        # Reconfigure the images into a 1D vector (actually, (X,1) tensor)\n",
    "        images = images.view(images.shape[0], -1)\n",
    "        # Forward pass\n",
    "        score = model(images)\n",
    "        ### Comput the output and loss\n",
    "        loss = criterion(score, labels)    \n",
    "        losses.append(loss.item())\n",
    "        # Backward and optimize\n",
    "        optimizer.zero_grad()\n",
    "        loss.backward()\n",
    "        optimizer.step()\n",
    "        \n",
    "        # display the progress\n",
    "        if (i+1) % 100 == 0:\n",
    "            print ('Epoch [{}/{}], Step [{}/{}], Loss: {:.4f}' .format(epoch+1, num_epochs, i+1, total_step, loss.item()))\n",
    "        "
   ]
  },
  {
   "cell_type": "markdown",
   "metadata": {},
   "source": [
    "#### Taking 4 samples from the test set \n",
    "- display the image\n",
    "- print the true label\n",
    "- print the output probability distribution\n",
    "- print the predicted class"
   ]
  },
  {
   "cell_type": "code",
   "execution_count": 33,
   "metadata": {},
   "outputs": [
    {
     "data": {
      "image/png": "[encoded data removed]",
      "text/plain": [
       "<Figure size 640x480 with 1 Axes>"
      ]
     },
     "metadata": {},
     "output_type": "display_data"
    }
   ],
   "source": [
    "plt.plot(losses)\n",
    "plt.ylabel(\"Cost\")\n",
    "plt.xlabel(\"Iterations\")\n",
    "plt.show()"
   ]
  },
  {
   "cell_type": "code",
   "execution_count": 76,
   "metadata": {},
   "outputs": [],
   "source": [
    "def view_class(img, preds, y_hat, y):\n",
    "    ''' Function for viewing an image and it's predicted classes.\n",
    "    '''\n",
    "    preds = preds.data.numpy().squeeze()\n",
    "\n",
    "    fig, (ax1, ax2) = plt.subplots(figsize=(6,4), ncols=2)\n",
    "    ax1.imshow(img.resize_(1, 28, 28).numpy().squeeze())\n",
    "    ax1.axis('off')\n",
    "    ax2.bar(np.arange(10), preds)\n",
    "    ax2.set_aspect(5)\n",
    "    ax2.set_xticks(np.arange(10))\n",
    "    ax2.set_xticklabels(np.arange(10))\n",
    "    ax2.set_title('Class Probability')\n",
    "    ax2.set_ylim(0, 1)\n",
    "    fig.text(.5, .0001, f\"Predicted Label: {y_hat} | True Label: {y}\", ha='center')"
   ]
  },
  {
   "cell_type": "code",
   "execution_count": 77,
   "metadata": {},
   "outputs": [
    {
     "data": {
      "image/png": "[encoded data removed]",
      "text/plain": [
       "<Figure size 600x400 with 2 Axes>"
      ]
     },
     "metadata": {},
     "output_type": "display_data"
    },
    {
     "data": {
      "image/png": "[encoded data removed]",
      "text/plain": [
       "<Figure size 600x400 with 2 Axes>"
      ]
     },
     "metadata": {},
     "output_type": "display_data"
    },
    {
     "data": {
      "image/png": "[encoded data removed]",
      "text/plain": [
       "<Figure size 600x400 with 2 Axes>"
      ]
     },
     "metadata": {},
     "output_type": "display_data"
    },
    {
     "data": {
      "image/png": "[encoded data removed]",
      "text/plain": [
       "<Figure size 600x400 with 2 Axes>"
      ]
     },
     "metadata": {},
     "output_type": "display_data"
    }
   ],
   "source": [
    "for sample in range(4):\n",
    "    # Separate images and labels from validation set\n",
    "    images, labels = next(iter(test_loader))\n",
    "\n",
    "    # Flatten the 28x28 image\n",
    "    img = images[sample].view(1, 784)\n",
    "    \n",
    "    # Get probability for each class by putting img through the model\n",
    "    preds = model(img)\n",
    "    probab = list(preds.detach().numpy()[0])\n",
    "    y_hat = probab.index(max(probab))\n",
    "    y = int(labels[sample])\n",
    "    view_class(img.view(1, 28, 28), preds, y_hat, y)"
   ]
  }
 ],
 "metadata": {
  "kernelspec": {
   "display_name": "Python 3.9.13 64-bit",
   "language": "python",
   "name": "python3"
  },
  "language_info": {
   "codemirror_mode": {
    "name": "ipython",
    "version": 3
   },
   "file_extension": ".py",
   "mimetype": "text/x-python",
   "name": "python",
   "nbconvert_exporter": "python",
   "pygments_lexer": "ipython3",
   "version": "3.9.13"
  },
  "vscode": {
   "interpreter": {
    "hash": "b0fa6594d8f4cbf19f97940f81e996739fb7646882a419484c72d19e05852a7e"
   }
  }
 },
 "nbformat": 4,
 "nbformat_minor": 2
}
